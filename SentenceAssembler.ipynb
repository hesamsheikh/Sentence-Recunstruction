{
  "cells": [
    {
      "cell_type": "markdown",
      "metadata": {
        "id": "n5HXlT6ZQC7f"
      },
      "source": [
        "# Sentence Reconstruction\n",
        "\n",
        "The purpose of this project is to take in input a sequence of words corresponding to a random permutation of a given english sentence, and reconstruct the original sentence.\n",
        "\n",
        "The otuput can be either produced in a single shot, or through an iterative (autoregressive) loop generating a single token at a time.\n",
        "\n",
        "\n",
        "CONSTRAINTS:\n",
        "* No pretrained model can be used.\n",
        "* The neural network models should have less the 20M parameters.\n",
        "* No postprocessing should be done (e.g. no beamsearch)\n",
        "* You cannot use additional training data.\n",
        "\n",
        "\n",
        "BONUS PARAMETERS:\n",
        "\n",
        "A bonus of 0-2 points will be attributed to incentivate the adoption of models with a low number of parameters."
      ]
    },
    {
      "cell_type": "markdown",
      "metadata": {
        "id": "f214hXzBQC7h"
      },
      "source": [
        "# Dataset\n",
        "\n",
        "The dataset is composed by sentences taken from the generics_kb dataset of hugging face. We restricted the vocabolary to the 10K most frequent words, and only took sentences making use of this vocabulary."
      ]
    },
    {
      "cell_type": "markdown",
      "metadata": {
        "id": "62Ja4r27QC7h"
      },
      "source": [
        "Download the dataset"
      ]
    },
    {
      "cell_type": "code",
      "execution_count": null,
      "metadata": {
        "colab": {
          "base_uri": "https://localhost:8080/"
        },
        "id": "lifrQFlOQC7i",
        "outputId": "3615c1c8-ed7f-40eb-8c4d-89e2801e9d13"
      },
      "outputs": [
        {
          "output_type": "stream",
          "name": "stdout",
          "text": [
            "Collecting datasets\n",
            "  Downloading datasets-2.19.2-py3-none-any.whl (542 kB)\n",
            "\u001b[2K     \u001b[90m━━━━━━━━━━━━━━━━━━━━━━━━━━━━━━━━━━━━━━━━\u001b[0m \u001b[32m542.1/542.1 kB\u001b[0m \u001b[31m4.3 MB/s\u001b[0m eta \u001b[36m0:00:00\u001b[0m\n",
            "\u001b[?25hRequirement already satisfied: filelock in /usr/local/lib/python3.10/dist-packages (from datasets) (3.14.0)\n",
            "Requirement already satisfied: numpy>=1.17 in /usr/local/lib/python3.10/dist-packages (from datasets) (1.25.2)\n",
            "Requirement already satisfied: pyarrow>=12.0.0 in /usr/local/lib/python3.10/dist-packages (from datasets) (14.0.2)\n",
            "Requirement already satisfied: pyarrow-hotfix in /usr/local/lib/python3.10/dist-packages (from datasets) (0.6)\n",
            "Collecting dill<0.3.9,>=0.3.0 (from datasets)\n",
            "  Downloading dill-0.3.8-py3-none-any.whl (116 kB)\n",
            "\u001b[2K     \u001b[90m━━━━━━━━━━━━━━━━━━━━━━━━━━━━━━━━━━━━━━━━\u001b[0m \u001b[32m116.3/116.3 kB\u001b[0m \u001b[31m5.5 MB/s\u001b[0m eta \u001b[36m0:00:00\u001b[0m\n",
            "\u001b[?25hRequirement already satisfied: pandas in /usr/local/lib/python3.10/dist-packages (from datasets) (2.0.3)\n",
            "Collecting requests>=2.32.1 (from datasets)\n",
            "  Downloading requests-2.32.3-py3-none-any.whl (64 kB)\n",
            "\u001b[2K     \u001b[90m━━━━━━━━━━━━━━━━━━━━━━━━━━━━━━━━━━━━━━━━\u001b[0m \u001b[32m64.9/64.9 kB\u001b[0m \u001b[31m3.1 MB/s\u001b[0m eta \u001b[36m0:00:00\u001b[0m\n",
            "\u001b[?25hRequirement already satisfied: tqdm>=4.62.1 in /usr/local/lib/python3.10/dist-packages (from datasets) (4.66.4)\n",
            "Collecting xxhash (from datasets)\n",
            "  Downloading xxhash-3.4.1-cp310-cp310-manylinux_2_17_x86_64.manylinux2014_x86_64.whl (194 kB)\n",
            "\u001b[2K     \u001b[90m━━━━━━━━━━━━━━━━━━━━━━━━━━━━━━━━━━━━━━━━\u001b[0m \u001b[32m194.1/194.1 kB\u001b[0m \u001b[31m17.2 MB/s\u001b[0m eta \u001b[36m0:00:00\u001b[0m\n",
            "\u001b[?25hCollecting multiprocess (from datasets)\n",
            "  Downloading multiprocess-0.70.16-py310-none-any.whl (134 kB)\n",
            "\u001b[2K     \u001b[90m━━━━━━━━━━━━━━━━━━━━━━━━━━━━━━━━━━━━━━━━\u001b[0m \u001b[32m134.8/134.8 kB\u001b[0m \u001b[31m17.5 MB/s\u001b[0m eta \u001b[36m0:00:00\u001b[0m\n",
            "\u001b[?25hRequirement already satisfied: fsspec[http]<=2024.3.1,>=2023.1.0 in /usr/local/lib/python3.10/dist-packages (from datasets) (2023.6.0)\n",
            "Requirement already satisfied: aiohttp in /usr/local/lib/python3.10/dist-packages (from datasets) (3.9.5)\n",
            "Requirement already satisfied: huggingface-hub>=0.21.2 in /usr/local/lib/python3.10/dist-packages (from datasets) (0.23.2)\n",
            "Requirement already satisfied: packaging in /usr/local/lib/python3.10/dist-packages (from datasets) (24.0)\n",
            "Requirement already satisfied: pyyaml>=5.1 in /usr/local/lib/python3.10/dist-packages (from datasets) (6.0.1)\n",
            "Requirement already satisfied: aiosignal>=1.1.2 in /usr/local/lib/python3.10/dist-packages (from aiohttp->datasets) (1.3.1)\n",
            "Requirement already satisfied: attrs>=17.3.0 in /usr/local/lib/python3.10/dist-packages (from aiohttp->datasets) (23.2.0)\n",
            "Requirement already satisfied: frozenlist>=1.1.1 in /usr/local/lib/python3.10/dist-packages (from aiohttp->datasets) (1.4.1)\n",
            "Requirement already satisfied: multidict<7.0,>=4.5 in /usr/local/lib/python3.10/dist-packages (from aiohttp->datasets) (6.0.5)\n",
            "Requirement already satisfied: yarl<2.0,>=1.0 in /usr/local/lib/python3.10/dist-packages (from aiohttp->datasets) (1.9.4)\n",
            "Requirement already satisfied: async-timeout<5.0,>=4.0 in /usr/local/lib/python3.10/dist-packages (from aiohttp->datasets) (4.0.3)\n",
            "Requirement already satisfied: typing-extensions>=3.7.4.3 in /usr/local/lib/python3.10/dist-packages (from huggingface-hub>=0.21.2->datasets) (4.12.1)\n",
            "Requirement already satisfied: charset-normalizer<4,>=2 in /usr/local/lib/python3.10/dist-packages (from requests>=2.32.1->datasets) (3.3.2)\n",
            "Requirement already satisfied: idna<4,>=2.5 in /usr/local/lib/python3.10/dist-packages (from requests>=2.32.1->datasets) (3.7)\n",
            "Requirement already satisfied: urllib3<3,>=1.21.1 in /usr/local/lib/python3.10/dist-packages (from requests>=2.32.1->datasets) (2.0.7)\n",
            "Requirement already satisfied: certifi>=2017.4.17 in /usr/local/lib/python3.10/dist-packages (from requests>=2.32.1->datasets) (2024.6.2)\n",
            "Requirement already satisfied: python-dateutil>=2.8.2 in /usr/local/lib/python3.10/dist-packages (from pandas->datasets) (2.8.2)\n",
            "Requirement already satisfied: pytz>=2020.1 in /usr/local/lib/python3.10/dist-packages (from pandas->datasets) (2023.4)\n",
            "Requirement already satisfied: tzdata>=2022.1 in /usr/local/lib/python3.10/dist-packages (from pandas->datasets) (2024.1)\n",
            "Requirement already satisfied: six>=1.5 in /usr/local/lib/python3.10/dist-packages (from python-dateutil>=2.8.2->pandas->datasets) (1.16.0)\n",
            "Installing collected packages: xxhash, requests, dill, multiprocess, datasets\n",
            "  Attempting uninstall: requests\n",
            "    Found existing installation: requests 2.31.0\n",
            "    Uninstalling requests-2.31.0:\n",
            "      Successfully uninstalled requests-2.31.0\n",
            "\u001b[31mERROR: pip's dependency resolver does not currently take into account all the packages that are installed. This behaviour is the source of the following dependency conflicts.\n",
            "google-colab 1.0.0 requires requests==2.31.0, but you have requests 2.32.3 which is incompatible.\u001b[0m\u001b[31m\n",
            "\u001b[0mSuccessfully installed datasets-2.19.2 dill-0.3.8 multiprocess-0.70.16 requests-2.32.3 xxhash-3.4.1\n"
          ]
        }
      ],
      "source": [
        "!pip install datasets\n"
      ]
    },
    {
      "cell_type": "code",
      "execution_count": null,
      "metadata": {
        "execution": {
          "iopub.execute_input": "2024-06-09T16:32:28.392027Z",
          "iopub.status.busy": "2024-06-09T16:32:28.391217Z",
          "iopub.status.idle": "2024-06-09T16:33:58.810805Z",
          "shell.execute_reply": "2024-06-09T16:33:58.809993Z",
          "shell.execute_reply.started": "2024-06-09T16:32:28.391990Z"
        },
        "trusted": true,
        "colab": {
          "base_uri": "https://localhost:8080/",
          "height": 269,
          "referenced_widgets": [
            "afd88f13a31847a285263e99690d2246",
            "a208d1c7556443549f872705a46759dc",
            "bcebef756b3144628b3fe18647e8afae",
            "3e12c6041086408782e88c7e88dcc4dd",
            "d473e22651ca43feb81751127b0acd06",
            "233fdbc34142495b8bae91379fcd07ba",
            "3009b79ab7a6492181408d76e07a470a",
            "5b954e2f1b804cd4929a482ab23dcd75",
            "cfc885c54c0c4334a69898613f78cf49",
            "922c82a4703740f38b8679c09a06ad99",
            "2576a023f6e542618af2764d05d7d8f4",
            "76e7a096bc6943c29b03600e230e7366",
            "39f54c5329c242adba87c692e162428a",
            "0ed2a8f2681145c8b548a08f359274cb",
            "bfb73db537734fd295dfbb9b73f47baf",
            "c7900a9b32fd4cf98e0666b4619785b5",
            "2de7def2fa81418b95e1a7e13cfee015",
            "9ba609363ac947c4b0a55a43ae23713a",
            "fd8eabcebfe1470f81453717c08be246",
            "f9b4188af94f409282a3be30c5cb7e97",
            "11b5f0b0660745b2a138d77f820f40bf",
            "633d75c97b9040ffa35adfaa7831e396",
            "a1e722e5664a445ab350182249b119fa",
            "efe828aea61f4ce6ae13335452eb0a19",
            "ab25318954fd41c89918e91de770a4fc",
            "dece11393fc142308d07cf978b3d706b",
            "3aac780821f741ac9cf5201f62c88ccc",
            "e153226455f14eabb119ad609eaf4bfd",
            "5d5975c774b44f69bb6f83f77419beea",
            "78a6b7eb14ce403798ecceee4a6ee75e",
            "ef4f3a1447244ecdb560b40c764f685a",
            "f2968f792d2241d6a4a5ec99e2f643c9",
            "ea48cdc9dff144509a2238380858ba59",
            "8b3b9502213d42b08ad9fd8473659798",
            "6bed982c14c94544ae12516f1b6d309b",
            "e185e0e96acd4169a92326e8571834bf",
            "5d39e7a987724cf39b6adc3760566c31",
            "e84f00063f544b62b72fbc9c4d6ee760",
            "ea4c8dc61e9446d9800b4850d932cd5e",
            "423cd2f27a184a6cb4206b6ca71db1f0",
            "bc215fcfffb64d1baf8b540d7449fd2b",
            "bed4090221884656a8c41905bcb0663c",
            "944ebac0567a4a5b84886f9dec8b5190",
            "984e1497fae54a66819e38f42a635c88"
          ]
        },
        "id": "2jMTQxLIQC7j",
        "outputId": "54db5ce5-b2a2-4c7e-d016-81c81311f902"
      },
      "outputs": [
        {
          "output_type": "stream",
          "name": "stderr",
          "text": [
            "/usr/local/lib/python3.10/dist-packages/huggingface_hub/utils/_token.py:89: UserWarning: \n",
            "The secret `HF_TOKEN` does not exist in your Colab secrets.\n",
            "To authenticate with the Hugging Face Hub, create a token in your settings tab (https://huggingface.co/settings/tokens), set it as secret in your Google Colab and restart your session.\n",
            "You will be able to reuse this secret in all of your notebooks.\n",
            "Please note that authentication is recommended but still optional to access public models or datasets.\n",
            "  warnings.warn(\n"
          ]
        },
        {
          "output_type": "display_data",
          "data": {
            "text/plain": [
              "Downloading builder script:   0%|          | 0.00/8.64k [00:00<?, ?B/s]"
            ],
            "application/vnd.jupyter.widget-view+json": {
              "version_major": 2,
              "version_minor": 0,
              "model_id": "afd88f13a31847a285263e99690d2246"
            }
          },
          "metadata": {}
        },
        {
          "output_type": "display_data",
          "data": {
            "text/plain": [
              "Downloading readme:   0%|          | 0.00/11.9k [00:00<?, ?B/s]"
            ],
            "application/vnd.jupyter.widget-view+json": {
              "version_major": 2,
              "version_minor": 0,
              "model_id": "76e7a096bc6943c29b03600e230e7366"
            }
          },
          "metadata": {}
        },
        {
          "output_type": "display_data",
          "data": {
            "text/plain": [
              "Downloading data:   0%|          | 0.00/27.1M [00:00<?, ?B/s]"
            ],
            "application/vnd.jupyter.widget-view+json": {
              "version_major": 2,
              "version_minor": 0,
              "model_id": "a1e722e5664a445ab350182249b119fa"
            }
          },
          "metadata": {}
        },
        {
          "output_type": "display_data",
          "data": {
            "text/plain": [
              "Generating train split:   0%|          | 0/1020868 [00:00<?, ? examples/s]"
            ],
            "application/vnd.jupyter.widget-view+json": {
              "version_major": 2,
              "version_minor": 0,
              "model_id": "8b3b9502213d42b08ad9fd8473659798"
            }
          },
          "metadata": {}
        }
      ],
      "source": [
        "from datasets import load_dataset\n",
        "from tensorflow.keras.layers import TextVectorization\n",
        "import tensorflow as tf\n",
        "import numpy as np\n",
        "np.random.seed(42)\n",
        "ds = load_dataset('generics_kb',trust_remote_code=True)['train']"
      ]
    },
    {
      "cell_type": "markdown",
      "metadata": {
        "id": "IIdameqAQC7j"
      },
      "source": [
        "Filter row with length greater than 8.\n"
      ]
    },
    {
      "cell_type": "code",
      "execution_count": null,
      "metadata": {
        "execution": {
          "iopub.execute_input": "2024-06-09T16:33:58.812447Z",
          "iopub.status.busy": "2024-06-09T16:33:58.812176Z",
          "iopub.status.idle": "2024-06-09T16:35:15.424242Z",
          "shell.execute_reply": "2024-06-09T16:35:15.423130Z",
          "shell.execute_reply.started": "2024-06-09T16:33:58.812422Z"
        },
        "trusted": true,
        "colab": {
          "base_uri": "https://localhost:8080/",
          "height": 49,
          "referenced_widgets": [
            "1dc63520b94344e6933cabb36ad8658c",
            "551ea7fb380e447cb7c780456501106a",
            "414b4d6e46e54704a09dd3a63f3a854f",
            "8bcbc7e1a7ae4c3eb45453487ecc6c6f",
            "59ce8a73628440f48e5b8808654af536",
            "fe343ed17bd942f89c911f16efaea888",
            "cd0cf491914246cbbeb548c324230db0",
            "4641463669e34823ac610fe6bf89a0da",
            "5adc2bd24f444f64bbc0a1a91eacf9c4",
            "54439031ef13421d8be80f69f9d2a9ad",
            "5005f60a3e314c56af8d7088b2cf1d7b"
          ]
        },
        "id": "1QftnSarQC7j",
        "outputId": "070b7495-4773-47a1-f11d-e19d72c24660"
      },
      "outputs": [
        {
          "output_type": "display_data",
          "data": {
            "text/plain": [
              "Filter:   0%|          | 0/1020868 [00:00<?, ? examples/s]"
            ],
            "application/vnd.jupyter.widget-view+json": {
              "version_major": 2,
              "version_minor": 0,
              "model_id": "1dc63520b94344e6933cabb36ad8658c"
            }
          },
          "metadata": {}
        }
      ],
      "source": [
        "ds = ds.filter(lambda row: len(row[\"generic_sentence\"].split(\" \")) > 8 )\n",
        "corpus = [ '<start> ' + row['generic_sentence'].replace(\",\",\" <comma>\") + ' <end>' for row in ds ]\n",
        "corpus = np.array(corpus)\n"
      ]
    },
    {
      "cell_type": "markdown",
      "metadata": {
        "id": "hHHNILuoQC7j"
      },
      "source": [
        "Create a tokenizer and Detokenizer"
      ]
    },
    {
      "cell_type": "code",
      "execution_count": null,
      "metadata": {
        "execution": {
          "iopub.execute_input": "2024-06-09T16:35:15.426404Z",
          "iopub.status.busy": "2024-06-09T16:35:15.426057Z",
          "iopub.status.idle": "2024-06-09T16:35:22.707718Z",
          "shell.execute_reply": "2024-06-09T16:35:22.706748Z",
          "shell.execute_reply.started": "2024-06-09T16:35:15.426378Z"
        },
        "trusted": true,
        "id": "d69Cks_IQC7j"
      },
      "outputs": [],
      "source": [
        "from tensorflow.keras.layers import TextVectorization\n",
        "\n",
        "tokenizer=TextVectorization( max_tokens=10000, standardize=\"lower_and_strip_punctuation\", encoding=\"utf-8\",) #con il max prende le piu frequenti. ordina i token del vocab dal piu frequente al meno frequente\n",
        "tokenizer.adapt(corpus)\n",
        "\n",
        "class TextDetokenizer:\n",
        "    def __init__(self, vectorize_layer):\n",
        "        self.vectorize_layer = vectorize_layer\n",
        "        vocab = self.vectorize_layer.get_vocabulary()\n",
        "        self.index_to_word = {index: word for index, word in enumerate(vocab)}\n",
        "\n",
        "    def __detokenize_tokens(self, tokens):\n",
        "        def check_token(t):\n",
        "          if t == 3:\n",
        "            s=\"<start>\"\n",
        "          elif t == 2:\n",
        "            s=\"<end>\"\n",
        "          elif t == 7:\n",
        "            s=\"<comma>\"\n",
        "          else:\n",
        "            s=self.index_to_word.get(t, '[UNK]')\n",
        "          return s\n",
        "\n",
        "        return ' '.join([ check_token(token) for token in tokens if token != 0])\n",
        "\n",
        "    def __call__(self, batch_tokens):\n",
        "       return [self.__detokenize_tokens(tokens) for tokens in batch_tokens]\n",
        "\n",
        "\n",
        "detokenizer = TextDetokenizer( tokenizer )\n",
        "sentences = tokenizer( corpus ).numpy()"
      ]
    },
    {
      "cell_type": "markdown",
      "metadata": {
        "id": "M1ARlvePQC7j"
      },
      "source": [
        "Remove from corpus the sentences where any unknow word appears"
      ]
    },
    {
      "cell_type": "code",
      "execution_count": null,
      "metadata": {
        "execution": {
          "iopub.execute_input": "2024-06-09T16:35:22.709218Z",
          "iopub.status.busy": "2024-06-09T16:35:22.708907Z",
          "iopub.status.idle": "2024-06-09T16:35:22.767891Z",
          "shell.execute_reply": "2024-06-09T16:35:22.766913Z",
          "shell.execute_reply.started": "2024-06-09T16:35:22.709193Z"
        },
        "trusted": true,
        "id": "RcKlkrpaQC7k"
      },
      "outputs": [],
      "source": [
        "mask = np.sum( (sentences==1), axis=1) >= 1\n",
        "original_data = np.delete( sentences, mask , axis=0)"
      ]
    },
    {
      "cell_type": "code",
      "execution_count": null,
      "metadata": {
        "execution": {
          "iopub.execute_input": "2024-06-09T16:35:22.770262Z",
          "iopub.status.busy": "2024-06-09T16:35:22.769972Z",
          "iopub.status.idle": "2024-06-09T16:35:22.776887Z",
          "shell.execute_reply": "2024-06-09T16:35:22.775933Z",
          "shell.execute_reply.started": "2024-06-09T16:35:22.770237Z"
        },
        "trusted": true,
        "colab": {
          "base_uri": "https://localhost:8080/"
        },
        "id": "AnMtARUYQC7k",
        "outputId": "df2f3ed3-db36-4964-f616-6e2efaa5b133"
      },
      "outputs": [
        {
          "output_type": "execute_result",
          "data": {
            "text/plain": [
              "(241236, 28)"
            ]
          },
          "metadata": {},
          "execution_count": 7
        }
      ],
      "source": [
        "original_data.shape"
      ]
    },
    {
      "cell_type": "markdown",
      "metadata": {
        "id": "d6XZ0Kt5QC7k"
      },
      "source": [
        "Shuffle the sentences"
      ]
    },
    {
      "cell_type": "code",
      "execution_count": null,
      "metadata": {
        "execution": {
          "iopub.execute_input": "2024-06-09T16:35:27.924660Z",
          "iopub.status.busy": "2024-06-09T16:35:27.923965Z",
          "iopub.status.idle": "2024-06-09T16:35:27.934161Z",
          "shell.execute_reply": "2024-06-09T16:35:27.933195Z",
          "shell.execute_reply.started": "2024-06-09T16:35:27.924630Z"
        },
        "trusted": true,
        "id": "z6DGr_RJQC7k"
      },
      "outputs": [],
      "source": [
        "from tensorflow.keras.utils import Sequence\n",
        "\n",
        "class DataGenerator(Sequence):\n",
        "    def __init__(self, data, batch_size=32, shuffle=True, seed=42):\n",
        "        self.data = data\n",
        "        self.batch_size = batch_size\n",
        "        self.shuffle = shuffle\n",
        "        self.seed = seed\n",
        "        self.on_epoch_end()\n",
        "\n",
        "\n",
        "    def __len__(self):\n",
        "        return int(np.floor(len(self.data) / self.batch_size))\n",
        "\n",
        "    def __getitem__(self, index):\n",
        "        indexes = self.indexes[index*self.batch_size:(index+1)*self.batch_size]\n",
        "\n",
        "        data_batch = np.array([self.data[k] for k in indexes])\n",
        "        #copy of ordered sequences\n",
        "        result = np.copy(data_batch)\n",
        "        #shuffle only the relevant positions for each batch\n",
        "        for i in range(data_batch.shape[0]):\n",
        "          np.random.shuffle(data_batch[i,1:data_batch[i].argmin() - 1])\n",
        "\n",
        "        return data_batch , result\n",
        "\n",
        "    def on_epoch_end(self):\n",
        "        self.indexes = np.arange(len(self.data))\n",
        "        if self.shuffle:\n",
        "            if self.seed is not None:\n",
        "                np.random.seed(self.seed)\n",
        "            np.random.shuffle(self.indexes)"
      ]
    },
    {
      "cell_type": "code",
      "execution_count": null,
      "metadata": {
        "execution": {
          "iopub.execute_input": "2024-06-09T16:35:28.336313Z",
          "iopub.status.busy": "2024-06-09T16:35:28.335604Z",
          "iopub.status.idle": "2024-06-09T16:35:28.377063Z",
          "shell.execute_reply": "2024-06-09T16:35:28.376250Z",
          "shell.execute_reply.started": "2024-06-09T16:35:28.336284Z"
        },
        "trusted": true,
        "id": "-ZEmvStxQC7k"
      },
      "outputs": [],
      "source": [
        "# Make a random permutation of training and test set\n",
        "np.random.seed(42)\n",
        "# Shuffle the all data\n",
        "shuffled_indices = np.random.permutation(len(original_data))\n",
        "shuffled_data = original_data[shuffled_indices]"
      ]
    },
    {
      "cell_type": "code",
      "execution_count": null,
      "metadata": {
        "execution": {
          "iopub.execute_input": "2024-06-09T16:35:28.828435Z",
          "iopub.status.busy": "2024-06-09T16:35:28.827536Z",
          "iopub.status.idle": "2024-06-09T16:35:28.839267Z",
          "shell.execute_reply": "2024-06-09T16:35:28.838327Z",
          "shell.execute_reply.started": "2024-06-09T16:35:28.828403Z"
        },
        "trusted": true,
        "id": "nwC-kpxKQC7k"
      },
      "outputs": [],
      "source": [
        "#split the dataset\n",
        "train_generator = DataGenerator(shuffled_data[:220000], batch_size=128)\n",
        "test_generator = DataGenerator(shuffled_data[220000:], batch_size=256)"
      ]
    },
    {
      "cell_type": "code",
      "execution_count": null,
      "metadata": {
        "execution": {
          "iopub.execute_input": "2024-06-09T16:35:29.131441Z",
          "iopub.status.busy": "2024-06-09T16:35:29.130787Z",
          "iopub.status.idle": "2024-06-09T16:35:29.151556Z",
          "shell.execute_reply": "2024-06-09T16:35:29.150691Z",
          "shell.execute_reply.started": "2024-06-09T16:35:29.131412Z"
        },
        "trusted": true,
        "colab": {
          "base_uri": "https://localhost:8080/"
        },
        "id": "irZ2hSO_QC7k",
        "outputId": "c3415a43-1e41-4e8a-e0dd-96ac71c6bde5"
      },
      "outputs": [
        {
          "output_type": "stream",
          "name": "stdout",
          "text": [
            "original:  <start> many states have laws helping persons with disabilities <comma> the homeless and others to vote <end>\n",
            "shuffled:  <start> to others have laws many homeless the vote and persons states <comma> disabilities with helping <end>\n",
            "\n",
            "\n",
            "original:  <start> many people are also at risk because of their genetic makeup <end>\n",
            "shuffled:  <start> their of makeup genetic risk also people many are because at <end>\n",
            "\n",
            "\n",
            "original:  <start> winter brings snow on at least a few occasions <end>\n",
            "shuffled:  <start> least winter brings few a on occasions snow at <end>\n",
            "\n",
            "\n",
            "original:  <start> plant propagation can also refer to the artificial or natural dispersal of plants <end>\n",
            "shuffled:  <start> the propagation or natural plants refer dispersal plant also artificial to of can <end>\n",
            "\n",
            "\n",
            "original:  <start> tiger sharks are known to have a wide variety of prey <end>\n",
            "shuffled:  <start> variety to wide a of prey tiger sharks are have known <end>\n",
            "\n",
            "\n",
            "original:  <start> dietary protein is supplied from plant and animal sources <end>\n",
            "shuffled:  <start> supplied plant animal from protein sources is and dietary <end>\n",
            "\n",
            "\n",
            "original:  <start> powdery mildew is a common disease on many types of plants <end>\n",
            "shuffled:  <start> a on disease many mildew of plants common powdery is types <end>\n",
            "\n",
            "\n"
          ]
        }
      ],
      "source": [
        "x, y = test_generator.__getitem__(1)\n",
        "x = detokenizer(x)\n",
        "y = detokenizer(y)\n",
        "\n",
        "for i in range(7):\n",
        "  print(\"original: \", y[i])\n",
        "  print(\"shuffled: \", x[i])\n",
        "  print(\"\\n\")\n"
      ]
    },
    {
      "cell_type": "markdown",
      "metadata": {
        "id": "BKEh7MaCQC7l"
      },
      "source": [
        "# Metrics\n",
        "\n",
        "Let s be the source string and p your prediction. The quality of the results will be measured according to the following metric:\n",
        "\n",
        "1.  look for the longest substring w between s and p\n",
        "2.  compute |w|/max(|s|,|p|)\n",
        "\n",
        "If the match is exact, the score is 1.\n",
        "\n",
        "When computing the score, you should NOT consider the start and end tokens.\n",
        "\n"
      ]
    },
    {
      "cell_type": "markdown",
      "metadata": {
        "id": "o9aGJHm7QC7l"
      },
      "source": [
        "The longest common substring can be computed with the SequenceMatcher function of difflib, that allows a simple definition of our metric."
      ]
    },
    {
      "cell_type": "code",
      "execution_count": null,
      "metadata": {
        "execution": {
          "iopub.execute_input": "2024-06-09T16:35:30.432558Z",
          "iopub.status.busy": "2024-06-09T16:35:30.431839Z",
          "iopub.status.idle": "2024-06-09T16:35:30.437471Z",
          "shell.execute_reply": "2024-06-09T16:35:30.436471Z",
          "shell.execute_reply.started": "2024-06-09T16:35:30.432528Z"
        },
        "trusted": true,
        "id": "soxn5nYbQC7l"
      },
      "outputs": [],
      "source": [
        "from difflib import SequenceMatcher\n",
        "\n",
        "def score(s,p):\n",
        "  match = SequenceMatcher(None, s, p).find_longest_match()\n",
        "  #print(match.size)\n",
        "  return (match.size/max(len(p),len(s)))"
      ]
    },
    {
      "cell_type": "markdown",
      "metadata": {
        "id": "XJfKzXBWQC7l"
      },
      "source": [
        "Let's do an example."
      ]
    },
    {
      "cell_type": "code",
      "execution_count": null,
      "metadata": {
        "execution": {
          "iopub.execute_input": "2024-06-09T16:43:38.412059Z",
          "iopub.status.busy": "2024-06-09T16:43:38.411385Z",
          "iopub.status.idle": "2024-06-09T16:43:38.417497Z",
          "shell.execute_reply": "2024-06-09T16:43:38.416505Z",
          "shell.execute_reply.started": "2024-06-09T16:43:38.412028Z"
        },
        "trusted": true,
        "colab": {
          "base_uri": "https://localhost:8080/"
        },
        "id": "4BH30JNlQC7l",
        "outputId": "da640b53-f851-47ab-a48f-94b437e1e27c"
      },
      "outputs": [
        {
          "output_type": "stream",
          "name": "stdout",
          "text": [
            "your score is  0.5423728813559322\n"
          ]
        }
      ],
      "source": [
        "original = \"at first henry wanted to be friends with the king of france\"\n",
        "generated = \"henry wanted to be friends with king of france at the first\"\n",
        "\n",
        "print(\"your score is \",score(original,generated))"
      ]
    },
    {
      "cell_type": "markdown",
      "metadata": {
        "id": "VxTmqjRlQC7l"
      },
      "source": [
        "The score must be computed as an average of at least 3K random examples taken form the test set."
      ]
    },
    {
      "cell_type": "markdown",
      "source": [
        "# Method\n",
        "\n",
        "I have first trained an encoder-decoder seq2seq LSTM achiving a maximum 46% on the defined score. On the second phase, I used a variation of the same network but using bidirectional LSTM. Bidirectional LSTM processes the data in both forward and backward directions, and as expected, yields better results with achieving **47.8%** on the score with a **13M parameters** model.\n",
        "\n",
        "A quick test with GRU shows that it's not able to converge as good as LSTM, at least in the first phases of training.\n",
        "\n",
        "Testing out the model with 18M and 5M parameters also didn't yield better results due to over and underfitting, so 13M seems the sweet spot.\n",
        "\n",
        "# Further Improvements\n",
        "\n",
        "The models have been trained on Colab, and due to recourse limitations, some further improvements are not yet tested that could bring better results. Here's a list of possible improvements:\n",
        "\n",
        "- Loss Function: for the training, `sparse_categorical_crossentropy` is used. It's important to know the loss function doesn't directly represent how good the model performs on the custom defined score. The bidirectional LSTM achieves Train Accuracy: 0.9357 and Test Accuracy: 0.8791, but there is a substantial gap between the  **47.8%** score. Testing out other loss functions such as `sequence_loss` or designing a custom loss function could yield better results.\n",
        "\n",
        "- Transformers: Transformers capture complex dependencies and contextual relationships more effectively. They use self-attention mechanisms to weigh the importance of different parts of the input data, irrespective of their positions within the sequence. However, their complexity, potential overfitting and longer training time could make them subpar for our task.\n",
        "\n",
        "- **Fine-tuning**: We could filter parts of the training data that the trained model gets a score below a threshhold (like 35%) and fine-tune our model based on that data. This is the most simple and promising solution, but due to limited time could not be tested.\n"
      ],
      "metadata": {
        "id": "HYKUmt_CoSiB"
      }
    },
    {
      "cell_type": "markdown",
      "metadata": {
        "id": "V2FQVUhRQC7l"
      },
      "source": [
        "# Defining the model\n",
        "\n",
        "we will go one with an LSTM-based sequence-to-sequence (seq2seq) model"
      ]
    },
    {
      "cell_type": "code",
      "execution_count": null,
      "metadata": {
        "execution": {
          "iopub.execute_input": "2024-06-09T16:35:31.804201Z",
          "iopub.status.busy": "2024-06-09T16:35:31.803828Z",
          "iopub.status.idle": "2024-06-09T16:35:31.812517Z",
          "shell.execute_reply": "2024-06-09T16:35:31.811735Z",
          "shell.execute_reply.started": "2024-06-09T16:35:31.804171Z"
        },
        "trusted": true,
        "id": "VtfCHwhdQC7l"
      },
      "outputs": [],
      "source": [
        "from tensorflow.keras.layers import Input, GRU, LSTM, Embedding, Dense, Masking\n",
        "from tensorflow.keras.models import Model\n",
        "\n",
        "\n",
        "def create_encoder(vocab_size, embedding_dim, gru_units):\n",
        "\n",
        "    encoder_inputs = Input(shape=(None,), dtype='int32', name='encoder_inputs')\n",
        "    # Embedding layer\n",
        "    encoder_embedding = Embedding(vocab_size, embedding_dim, mask_zero=True)(encoder_inputs)\n",
        "    # LSTM layer\n",
        "    encoder_outputs, state_h = LSTM(gru_units, return_state=True)(encoder_embedding)\n",
        "    # The encoder model\n",
        "    encoder_model = Model(encoder_inputs, [encoder_outputs, state_h])\n",
        "    return encoder_model\n"
      ]
    },
    {
      "cell_type": "code",
      "execution_count": null,
      "metadata": {
        "execution": {
          "iopub.execute_input": "2024-06-09T16:35:32.056886Z",
          "iopub.status.busy": "2024-06-09T16:35:32.056262Z",
          "iopub.status.idle": "2024-06-09T16:35:32.062865Z",
          "shell.execute_reply": "2024-06-09T16:35:32.061946Z",
          "shell.execute_reply.started": "2024-06-09T16:35:32.056855Z"
        },
        "trusted": true,
        "id": "z8zVjG0AQC7l"
      },
      "outputs": [],
      "source": [
        "def create_decoder(vocab_size, embedding_dim, gru_units):\n",
        "\n",
        "    decoder_inputs = Input(shape=(None,), dtype='int32', name='decoder_inputs')\n",
        "    # Shared embedding layer\n",
        "    decoder_embedding = Embedding(vocab_size, embedding_dim, mask_zero=True)(decoder_inputs)\n",
        "    # LSTM layer\n",
        "    decoder_gru = LSTM(gru_units, return_sequences=True, return_state=True)\n",
        "    decoder_outputs, _ = decoder_gru(decoder_embedding)\n",
        "    # Dense layer to predict next word\n",
        "    decoder_dense = Dense(vocab_size, activation='softmax')\n",
        "    decoder_outputs = decoder_dense(decoder_outputs)\n",
        "    # The decoder model\n",
        "    decoder_model = Model(decoder_inputs, decoder_outputs)\n",
        "    return decoder_model\n"
      ]
    },
    {
      "cell_type": "code",
      "execution_count": null,
      "metadata": {
        "execution": {
          "iopub.execute_input": "2024-06-09T16:35:32.185658Z",
          "iopub.status.busy": "2024-06-09T16:35:32.185304Z",
          "iopub.status.idle": "2024-06-09T16:35:32.193891Z",
          "shell.execute_reply": "2024-06-09T16:35:32.192845Z",
          "shell.execute_reply.started": "2024-06-09T16:35:32.185631Z"
        },
        "trusted": true,
        "id": "n7D8s56kQC7l"
      },
      "outputs": [],
      "source": [
        "\n",
        "def create_seq2seq_model(vocab_size, embedding_dim, gru_units):\n",
        "    # Encoder\n",
        "    encoder_inputs = Input(shape=(None,), dtype='int32', name='encoder_inputs')\n",
        "    encoder_embedding = Embedding(vocab_size, embedding_dim, mask_zero=True)(encoder_inputs)\n",
        "    encoder_mask = Masking()(encoder_embedding)\n",
        "    encoder_outputs, state_h, state_c = LSTM(gru_units, return_state=True)(encoder_mask)  # Corrected unpacking\n",
        "\n",
        "    # Decoder\n",
        "    decoder_inputs = Input(shape=(None,), dtype='int32', name='decoder_inputs')\n",
        "    decoder_embedding = Embedding(vocab_size, embedding_dim, mask_zero=True)(decoder_inputs)\n",
        "    decoder_mask = Masking()(decoder_embedding)\n",
        "    decoder_lstm = LSTM(gru_units, return_sequences=True, return_state=True)\n",
        "    decoder_outputs, _, _ = decoder_lstm(decoder_mask, initial_state=[state_h, state_c])  # Provide both states\n",
        "    decoder_dense = Dense(vocab_size, activation='softmax')\n",
        "    decoder_outputs = decoder_dense(decoder_outputs)\n",
        "\n",
        "    # Seq2Seq Model\n",
        "    model = Model(inputs=[encoder_inputs, decoder_inputs], outputs=decoder_outputs)\n",
        "    return model"
      ]
    },
    {
      "cell_type": "code",
      "execution_count": null,
      "metadata": {
        "execution": {
          "iopub.execute_input": "2024-06-09T16:35:32.294331Z",
          "iopub.status.busy": "2024-06-09T16:35:32.293986Z",
          "iopub.status.idle": "2024-06-09T16:35:32.300029Z",
          "shell.execute_reply": "2024-06-09T16:35:32.299053Z",
          "shell.execute_reply.started": "2024-06-09T16:35:32.294305Z"
        },
        "trusted": true,
        "id": "5L9O3UYPQC7m"
      },
      "outputs": [],
      "source": [
        "# a custom learning rate scheduler for training\n",
        "def update_learning_rate(optimizer, epoch, initial_lr=0.001, decay_factor=0.3, step_size=10):\n",
        "    if (epoch + 1) % step_size == 0:\n",
        "        new_lr = optimizer.learning_rate.numpy() * decay_factor\n",
        "        optimizer.learning_rate.assign(new_lr)\n",
        "        print(f\"Updated learning rate to {new_lr}\")\n",
        "    else:\n",
        "        print(f\"Current learning rate: {optimizer.learning_rate.numpy()}\")"
      ]
    },
    {
      "cell_type": "code",
      "execution_count": null,
      "metadata": {
        "execution": {
          "iopub.execute_input": "2024-06-09T16:35:32.726494Z",
          "iopub.status.busy": "2024-06-09T16:35:32.725686Z",
          "iopub.status.idle": "2024-06-09T16:35:33.245050Z",
          "shell.execute_reply": "2024-06-09T16:35:33.244124Z",
          "shell.execute_reply.started": "2024-06-09T16:35:32.726464Z"
        },
        "trusted": true,
        "colab": {
          "base_uri": "https://localhost:8080/"
        },
        "id": "q1jtIDeZQC7m",
        "outputId": "c77aac09-cca6-4467-a35b-97af4aff8e13"
      },
      "outputs": [
        {
          "output_type": "stream",
          "name": "stdout",
          "text": [
            "Model: \"model\"\n",
            "__________________________________________________________________________________________________\n",
            " Layer (type)                Output Shape                 Param #   Connected to                  \n",
            "==================================================================================================\n",
            " encoder_inputs (InputLayer  [(None, None)]               0         []                            \n",
            " )                                                                                                \n",
            "                                                                                                  \n",
            " decoder_inputs (InputLayer  [(None, None)]               0         []                            \n",
            " )                                                                                                \n",
            "                                                                                                  \n",
            " embedding (Embedding)       (None, None, 256)            2560000   ['encoder_inputs[0][0]']      \n",
            "                                                                                                  \n",
            " embedding_1 (Embedding)     (None, None, 256)            2560000   ['decoder_inputs[0][0]']      \n",
            "                                                                                                  \n",
            " masking (Masking)           (None, None, 256)            0         ['embedding[0][0]']           \n",
            "                                                                                                  \n",
            " masking_1 (Masking)         (None, None, 256)            0         ['embedding_1[0][0]']         \n",
            "                                                                                                  \n",
            " lstm (LSTM)                 [(None, 512),                1574912   ['masking[0][0]']             \n",
            "                              (None, 512),                                                        \n",
            "                              (None, 512)]                                                        \n",
            "                                                                                                  \n",
            " lstm_1 (LSTM)               [(None, None, 512),          1574912   ['masking_1[0][0]',           \n",
            "                              (None, 512),                           'lstm[0][1]',                \n",
            "                              (None, 512)]                           'lstm[0][2]']                \n",
            "                                                                                                  \n",
            " dense (Dense)               (None, None, 10000)          5130000   ['lstm_1[0][0]']              \n",
            "                                                                                                  \n",
            "==================================================================================================\n",
            "Total params: 13399824 (51.12 MB)\n",
            "Trainable params: 13399824 (51.12 MB)\n",
            "Non-trainable params: 0 (0.00 Byte)\n",
            "__________________________________________________________________________________________________\n"
          ]
        }
      ],
      "source": [
        "from tensorflow.keras.optimizers import Adam\n",
        "\n",
        "vocab_size = 10000\n",
        "embedding_dim = 256\n",
        "gru_units = 512\n",
        "\n",
        "model = create_seq2seq_model(vocab_size, embedding_dim, gru_units)\n",
        "\n",
        "learning_rate = 0.001\n",
        "optimizer = Adam(weight_decay=1e-4, learning_rate=learning_rate)\n",
        "model.compile(optimizer=optimizer, loss='sparse_categorical_crossentropy', metrics=['accuracy'])\n",
        "model.summary()"
      ]
    },
    {
      "cell_type": "markdown",
      "source": [
        "# Training\n",
        "We define a training loop that goes through the data batch by batch and records the metrics and returns them for later review"
      ],
      "metadata": {
        "id": "Lam0mAxYxKMX"
      }
    },
    {
      "cell_type": "code",
      "execution_count": null,
      "metadata": {
        "execution": {
          "iopub.execute_input": "2024-06-09T16:48:09.191051Z",
          "iopub.status.busy": "2024-06-09T16:48:09.190688Z",
          "iopub.status.idle": "2024-06-09T16:48:09.207380Z",
          "shell.execute_reply": "2024-06-09T16:48:09.206237Z",
          "shell.execute_reply.started": "2024-06-09T16:48:09.191023Z"
        },
        "trusted": true,
        "id": "SYKlXcJZQC7m"
      },
      "outputs": [],
      "source": [
        "from tensorflow.keras.losses import SparseCategoricalCrossentropy\n",
        "from tensorflow.keras.metrics import SparseCategoricalAccuracy\n",
        "import numpy as np\n",
        "\n",
        "def train_model(model, train_generator, test_generator, text_detokenizer, epochs=10):\n",
        "    history = {\n",
        "        'train_loss': [],\n",
        "        'train_accuracy': [],\n",
        "        'test_loss': [],\n",
        "        'test_accuracy': [],\n",
        "        'test_custom_score': []\n",
        "    }\n",
        "\n",
        "    best_accuracy = 0.0  # for model saving\n",
        "\n",
        "    # Loss and Accuracy initialization\n",
        "    loss_fn = SparseCategoricalCrossentropy()\n",
        "    accuracy_metric = SparseCategoricalAccuracy()\n",
        "\n",
        "\n",
        "    with tf.device('/GPU:0'):\n",
        "        for epoch in range(epochs):\n",
        "            print(f\"Epoch {epoch+1}/{epochs}\")\n",
        "\n",
        "\n",
        "            train_losses = []\n",
        "            train_accuracies = []\n",
        "\n",
        "            # Training\n",
        "            for i, (x_batch, y_batch) in enumerate(train_generator):\n",
        "                loss, acc = model.train_on_batch([x_batch, y_batch[:, :-1]], y_batch[:, 1:])\n",
        "                train_losses.append(loss)\n",
        "                train_accuracies.append(acc)\n",
        "\n",
        "                if i % 500 == 499:\n",
        "                    print(f\"  Batch {i+1}/{len(train_generator)} - Loss: {loss:.4f}, Accuracy: {acc:.4f}\")\n",
        "\n",
        "            # Update learning rate\n",
        "            # update_learning_rate(optimizer, epoch)\n",
        "\n",
        "            # record average training loss and accuracy for the epoch\n",
        "            epoch_train_loss = np.mean(train_losses)\n",
        "            epoch_train_acc = np.mean(train_accuracies)\n",
        "            history['train_loss'].append(epoch_train_loss)\n",
        "            history['train_accuracy'].append(epoch_train_acc)\n",
        "\n",
        "            # manual Evaluation and custom score calculation after each epoch\n",
        "            test_losses = []\n",
        "            test_accuracies = []\n",
        "            pred_sentences = []\n",
        "            true_sentences = []\n",
        "\n",
        "            # reset the accuracy metric at the start of each epoch\n",
        "            accuracy_metric.reset_states()\n",
        "\n",
        "            for x_batch, y_batch in test_generator:\n",
        "                y_true = y_batch[:, 1:]\n",
        "                preds = model.predict([x_batch, y_batch[:, :-1]], verbose=0)\n",
        "\n",
        "                # Loss\n",
        "                loss = loss_fn(y_true, preds).numpy()\n",
        "                test_losses.append(loss)\n",
        "\n",
        "                # Accuracy\n",
        "                accuracy_metric.update_state(y_true, preds)\n",
        "                test_accuracies.append(accuracy_metric.result().numpy())\n",
        "\n",
        "                # Custom score\n",
        "                pred_sentences.extend(text_detokenizer(preds.argmax(-1)))\n",
        "                true_sentences.extend(text_detokenizer(y_true))\n",
        "\n",
        "            #  averaging over all batches\n",
        "            epoch_test_loss = np.mean(test_losses)\n",
        "            epoch_test_accuracy = np.mean(test_accuracies)\n",
        "            history['test_loss'].append(epoch_test_loss)\n",
        "            history['test_accuracy'].append(epoch_test_accuracy)\n",
        "\n",
        "            # calculate the mean of custom scores\n",
        "            scores = [score(true, pred) for true, pred in zip(true_sentences, pred_sentences)]\n",
        "            mean_score = np.mean(scores)\n",
        "            history['test_custom_score'].append(mean_score)\n",
        "\n",
        "            # save model if it improves\n",
        "            if mean_score > best_accuracy:\n",
        "                best_accuracy = mean_score\n",
        "                model.save(f'best_model_{epoch+1:03d}_{mean_score:.4f}.h5')\n",
        "                print(f\"New best model saved at epoch {epoch+1} with test accuracy {epoch_test_accuracy:.4f}\")\n",
        "\n",
        "            print(f\"Epoch {epoch+1}: Train Loss: {epoch_train_loss:.4f}, Train Accuracy: {epoch_train_acc:.4f}, Test Loss: {epoch_test_loss:.4f}, Test Accuracy: {epoch_test_accuracy:.4f}, Epoch Custom Score: {mean_score:.4f}\")\n",
        "\n",
        "        return history\n"
      ]
    },
    {
      "cell_type": "code",
      "execution_count": null,
      "metadata": {
        "execution": {
          "iopub.execute_input": "2024-06-09T16:48:47.623630Z",
          "iopub.status.busy": "2024-06-09T16:48:47.623277Z"
        },
        "trusted": true,
        "colab": {
          "base_uri": "https://localhost:8080/"
        },
        "id": "1uJBu1-JQC7m",
        "outputId": "78892a0f-cb00-4491-bd55-0c06c5884965"
      },
      "outputs": [
        {
          "output_type": "stream",
          "name": "stdout",
          "text": [
            "Epoch 1/15\n",
            "  Batch 500/1718 - Loss: 2.7400, Accuracy: 0.6137\n",
            "  Batch 1000/1718 - Loss: 2.4049, Accuracy: 0.6496\n",
            "  Batch 1500/1718 - Loss: 2.2274, Accuracy: 0.6719\n",
            "Current learning rate: 0.0010000000474974513\n"
          ]
        },
        {
          "output_type": "stream",
          "name": "stderr",
          "text": [
            "/usr/local/lib/python3.10/dist-packages/keras/src/engine/training.py:3103: UserWarning: You are saving your model as an HDF5 file via `model.save()`. This file format is considered legacy. We recommend using instead the native Keras format, e.g. `model.save('my_model.keras')`.\n",
            "  saving_api.save_model(\n"
          ]
        },
        {
          "output_type": "stream",
          "name": "stdout",
          "text": [
            "New best model saved at epoch 1 with test accuracy 0.6726\n",
            "Epoch 1: Train Loss: 2.6342, Train Accuracy: 0.6283, Test Loss: 2.2081, Test Accuracy: 0.6726, Epoch Custom Score: 0.1243\n",
            "Epoch 2/15\n",
            "  Batch 500/1718 - Loss: 2.0257, Accuracy: 0.6846\n",
            "  Batch 1000/1718 - Loss: 1.7776, Accuracy: 0.7095\n",
            "  Batch 1500/1718 - Loss: 1.6342, Accuracy: 0.7295\n",
            "Current learning rate: 0.0010000000474974513\n",
            "New best model saved at epoch 2 with test accuracy 0.7314\n",
            "Epoch 2: Train Loss: 1.8974, Train Accuracy: 0.7018, Test Loss: 1.6123, Test Accuracy: 0.7314, Epoch Custom Score: 0.1885\n",
            "Epoch 3/15\n",
            "  Batch 500/1718 - Loss: 1.4245, Accuracy: 0.7549\n",
            "  Batch 1000/1718 - Loss: 1.2370, Accuracy: 0.7717\n",
            "  Batch 1500/1718 - Loss: 1.1326, Accuracy: 0.7905\n",
            "Current learning rate: 0.0010000000474974513\n",
            "New best model saved at epoch 3 with test accuracy 0.7841\n",
            "Epoch 3: Train Loss: 1.3338, Train Accuracy: 0.7613, Test Loss: 1.1579, Test Accuracy: 0.7841, Epoch Custom Score: 0.2721\n",
            "Epoch 4/15\n",
            "  Batch 500/1718 - Loss: 0.9926, Accuracy: 0.8035\n",
            "  Batch 1000/1718 - Loss: 0.8683, Accuracy: 0.8177\n",
            "  Batch 1500/1718 - Loss: 0.8265, Accuracy: 0.8284\n",
            "Current learning rate: 0.0010000000474974513\n",
            "New best model saved at epoch 4 with test accuracy 0.8196\n",
            "Epoch 4: Train Loss: 0.9398, Train Accuracy: 0.8104, Test Loss: 0.8905, Test Accuracy: 0.8196, Epoch Custom Score: 0.3401\n",
            "Epoch 5/15\n",
            "  Batch 500/1718 - Loss: 0.7191, Accuracy: 0.8440\n",
            "  Batch 1000/1718 - Loss: 0.6334, Accuracy: 0.8501\n",
            "  Batch 1500/1718 - Loss: 0.6058, Accuracy: 0.8712\n",
            "Current learning rate: 0.0010000000474974513\n",
            "New best model saved at epoch 5 with test accuracy 0.8390\n",
            "Epoch 5: Train Loss: 0.6916, Train Accuracy: 0.8465, Test Loss: 0.7418, Test Accuracy: 0.8390, Epoch Custom Score: 0.3813\n",
            "Epoch 6/15\n",
            "  Batch 500/1718 - Loss: 0.5384, Accuracy: 0.8707\n",
            "  Batch 1000/1718 - Loss: 0.4845, Accuracy: 0.8837\n",
            "  Batch 1500/1718 - Loss: 0.4749, Accuracy: 0.8889\n",
            "Current learning rate: 0.0010000000474974513\n",
            "New best model saved at epoch 6 with test accuracy 0.8501\n",
            "Epoch 6: Train Loss: 0.5353, Train Accuracy: 0.8724, Test Loss: 0.6611, Test Accuracy: 0.8501, Epoch Custom Score: 0.4075\n",
            "Epoch 7/15\n",
            "  Batch 500/1718 - Loss: 0.4365, Accuracy: 0.8886\n",
            "  Batch 1000/1718 - Loss: 0.3900, Accuracy: 0.9010\n",
            "  Batch 1500/1718 - Loss: 0.3867, Accuracy: 0.9042\n",
            "Current learning rate: 0.0010000000474974513\n",
            "New best model saved at epoch 7 with test accuracy 0.8573\n",
            "Epoch 7: Train Loss: 0.4331, Train Accuracy: 0.8915, Test Loss: 0.6161, Test Accuracy: 0.8573, Epoch Custom Score: 0.4265\n",
            "Epoch 8/15\n",
            "  Batch 500/1718 - Loss: 0.3625, Accuracy: 0.9042\n",
            "  Batch 1000/1718 - Loss: 0.3235, Accuracy: 0.9158\n",
            "  Batch 1500/1718 - Loss: 0.3160, Accuracy: 0.9178\n",
            "Current learning rate: 0.0010000000474974513\n",
            "New best model saved at epoch 8 with test accuracy 0.8604\n",
            "Epoch 8: Train Loss: 0.3607, Train Accuracy: 0.9065, Test Loss: 0.6011, Test Accuracy: 0.8604, Epoch Custom Score: 0.4344\n",
            "Epoch 9/15\n",
            "  Batch 500/1718 - Loss: 0.3074, Accuracy: 0.9164\n",
            "  Batch 1000/1718 - Loss: 0.2716, Accuracy: 0.9291\n",
            "  Batch 1500/1718 - Loss: 0.2673, Accuracy: 0.9294\n",
            "Current learning rate: 0.0010000000474974513\n",
            "New best model saved at epoch 9 with test accuracy 0.8625\n",
            "Epoch 9: Train Loss: 0.3055, Train Accuracy: 0.9189, Test Loss: 0.5902, Test Accuracy: 0.8625, Epoch Custom Score: 0.4406\n",
            "Epoch 10/15\n",
            "  Batch 500/1718 - Loss: 0.2586, Accuracy: 0.9277\n",
            "  Batch 1000/1718 - Loss: 0.2305, Accuracy: 0.9381\n",
            "  Batch 1500/1718 - Loss: 0.2338, Accuracy: 0.9349\n",
            "Updated learning rate to 0.0003000000142492354\n",
            "New best model saved at epoch 10 with test accuracy 0.8639\n",
            "Epoch 10: Train Loss: 0.2615, Train Accuracy: 0.9296, Test Loss: 0.5862, Test Accuracy: 0.8639, Epoch Custom Score: 0.4447\n",
            "Epoch 11/15\n",
            "  Batch 500/1718 - Loss: 0.1947, Accuracy: 0.9468\n",
            "  Batch 1000/1718 - Loss: 0.1687, Accuracy: 0.9520\n",
            "  Batch 1500/1718 - Loss: 0.1514, Accuracy: 0.9580\n",
            "Current learning rate: 0.0003000000142492354\n",
            "New best model saved at epoch 11 with test accuracy 0.8699\n",
            "Epoch 11: Train Loss: 0.1927, Train Accuracy: 0.9484, Test Loss: 0.5596, Test Accuracy: 0.8699, Epoch Custom Score: 0.4621\n",
            "Epoch 12/15\n",
            "  Batch 500/1718 - Loss: 0.1643, Accuracy: 0.9560\n",
            "  Batch 1000/1718 - Loss: 0.1469, Accuracy: 0.9650\n",
            "  Batch 1500/1718 - Loss: 0.1382, Accuracy: 0.9656\n",
            "Current learning rate: 0.0003000000142492354\n",
            "Epoch 12: Train Loss: 0.1662, Train Accuracy: 0.9577, Test Loss: 0.5641, Test Accuracy: 0.8696, Epoch Custom Score: 0.4613\n",
            "Epoch 13/15\n",
            "  Batch 500/1718 - Loss: 0.1479, Accuracy: 0.9641\n",
            "  Batch 1000/1718 - Loss: 0.1327, Accuracy: 0.9693\n",
            "  Batch 1500/1718 - Loss: 0.1282, Accuracy: 0.9696\n",
            "Current learning rate: 0.0003000000142492354\n",
            "Epoch 13: Train Loss: 0.1500, Train Accuracy: 0.9632, Test Loss: 0.5697, Test Accuracy: 0.8694, Epoch Custom Score: 0.4603\n",
            "Epoch 14/15\n",
            "  Batch 500/1718 - Loss: 0.1330, Accuracy: 0.9682\n",
            "  Batch 1000/1718 - Loss: 0.1205, Accuracy: 0.9734\n",
            "  Batch 1500/1718 - Loss: 0.1192, Accuracy: 0.9734\n",
            "Current learning rate: 0.0003000000142492354\n",
            "Epoch 14: Train Loss: 0.1360, Train Accuracy: 0.9678, Test Loss: 0.5767, Test Accuracy: 0.8690, Epoch Custom Score: 0.4609\n",
            "Epoch 15/15\n",
            "  Batch 500/1718 - Loss: 0.1199, Accuracy: 0.9716\n",
            "  Batch 1000/1718 - Loss: 0.1086, Accuracy: 0.9777\n",
            "  Batch 1500/1718 - Loss: 0.1096, Accuracy: 0.9760\n",
            "Current learning rate: 0.0003000000142492354\n",
            "Epoch 15: Train Loss: 0.1234, Train Accuracy: 0.9719, Test Loss: 0.5842, Test Accuracy: 0.8690, Epoch Custom Score: 0.4604\n"
          ]
        }
      ],
      "source": [
        "history = train_model(model, train_generator, test_generator,\n",
        "                      detokenizer, epochs=15)"
      ]
    },
    {
      "cell_type": "code",
      "execution_count": null,
      "metadata": {
        "id": "VRhFl5qSQC7n"
      },
      "outputs": [],
      "source": [
        "import matplotlib.pyplot as plt\n",
        "\n",
        "def plot_history(history):\n",
        "\n",
        "  train_acc = history['train_accuracy']\n",
        "  test_acc = history['test_accuracy']\n",
        "  test_custom_score = history['test_custom_score']\n",
        "\n",
        "  # the number of epochs based on the length of metric list\n",
        "  epochs = range(1, len(train_acc) + 1)\n",
        "\n",
        "  # create a plot\n",
        "  plt.figure(figsize=(10, 5))\n",
        "  plt.plot(epochs, train_acc, 'b', label='Training Accuracy', color='blue')  # Training Accuracy in blue\n",
        "  plt.plot(epochs, test_acc, 'b', label='Test Accuracy', color='green')  # Test Accuracy in green\n",
        "  plt.plot(epochs, test_custom_score, 'b', label='Test Custom Score', color='red')  # Custom Score in red\n",
        "\n",
        "  plt.title('Training and Test Accuracy vs. Test Custom Score')\n",
        "  plt.xlabel('Epochs')\n",
        "  plt.ylabel('Accuracy/Score')\n",
        "  plt.legend()\n",
        "\n",
        "  plt.show()"
      ]
    },
    {
      "cell_type": "code",
      "source": [
        "plot_history(history)"
      ],
      "metadata": {
        "colab": {
          "base_uri": "https://localhost:8080/",
          "height": 569
        },
        "id": "9os4_a7Vh0fA",
        "outputId": "16da3ceb-c956-4cdd-e415-fb9993412927"
      },
      "execution_count": null,
      "outputs": [
        {
          "output_type": "stream",
          "name": "stderr",
          "text": [
            "<ipython-input-22-bd6936485fbe>:14: UserWarning: color is redundantly defined by the 'color' keyword argument and the fmt string \"b\" (-> color=(0.0, 0.0, 1.0, 1)). The keyword argument will take precedence.\n",
            "  plt.plot(epochs, train_acc, 'b', label='Training Accuracy', color='blue')  # Training Accuracy in blue\n",
            "<ipython-input-22-bd6936485fbe>:15: UserWarning: color is redundantly defined by the 'color' keyword argument and the fmt string \"b\" (-> color=(0.0, 0.0, 1.0, 1)). The keyword argument will take precedence.\n",
            "  plt.plot(epochs, test_acc, 'b', label='Test Accuracy', color='green')  # Test Accuracy in green\n",
            "<ipython-input-22-bd6936485fbe>:16: UserWarning: color is redundantly defined by the 'color' keyword argument and the fmt string \"b\" (-> color=(0.0, 0.0, 1.0, 1)). The keyword argument will take precedence.\n",
            "  plt.plot(epochs, test_custom_score, 'b', label='Test Custom Score', color='red')  # Custom Score in red\n"
          ]
        },
        {
          "output_type": "display_data",
          "data": {
            "text/plain": [
              "<Figure size 1000x500 with 1 Axes>"
            ],
            "image/png": "[encoded data removed]"
          },
          "metadata": {}
        }
      ]
    },
    {
      "cell_type": "markdown",
      "source": [
        "## The best model: Bidirectional LSTM\n",
        "Now we will test out and compare a variation of LSTMs called bidirectional LSTM that look at future tokens as well as previous ones, theoretically better for our task."
      ],
      "metadata": {
        "id": "kw6hhCx9i7ai"
      }
    },
    {
      "cell_type": "code",
      "source": [
        "\n",
        "def build_model(vocab_size, embed_dim, units, dropout_rate=0.2):\n",
        "\n",
        "    encoder_inputs = tf.keras.Input(shape=(None,))\n",
        "    decoder_inputs = tf.keras.Input(shape=(None,))\n",
        "\n",
        "    # Embeddings\n",
        "    encoder_embedding = tf.keras.layers.Embedding(vocab_size, embed_dim)(encoder_inputs)\n",
        "    decoder_embedding = tf.keras.layers.Embedding(vocab_size, embed_dim)(decoder_inputs)\n",
        "\n",
        "    # Encoder with Dropout and Bidirectional LSTM\n",
        "    encoder_outputs, forward_h, forward_c, backward_h, backward_c = tf.keras.layers.Bidirectional(\n",
        "        tf.keras.layers.LSTM(units, return_sequences=True, return_state=True, dropout=dropout_rate),\n",
        "    )(encoder_embedding)\n",
        "    state_h = tf.keras.layers.Concatenate()([forward_h, backward_h])\n",
        "    state_c = tf.keras.layers.Concatenate()([forward_c, backward_c])\n",
        "\n",
        "    # Decoder\n",
        "    decoder_lstm = tf.keras.layers.LSTM(units * 2, return_sequences=True, return_state=False, dropout=dropout_rate)\n",
        "    decoder_outputs = decoder_lstm(decoder_embedding, initial_state=[state_h, state_c])\n",
        "\n",
        "    # Dense layer for output tokens\n",
        "    dense = tf.keras.layers.Dense(vocab_size, activation='softmax')\n",
        "    decoder_outputs = dense(decoder_outputs)\n",
        "\n",
        "\n",
        "    model = tf.keras.Model(inputs=[encoder_inputs, decoder_inputs], outputs=decoder_outputs)\n",
        "    return model"
      ],
      "metadata": {
        "id": "uKv54IiKi9jQ"
      },
      "execution_count": null,
      "outputs": []
    },
    {
      "cell_type": "code",
      "source": [
        "VOCAB_SIZE = 10000\n",
        "DROPOUT_RATE = 0.25\n",
        "\n",
        "# adjusting values to have the same number of parameters as previous network (13 M)\n",
        "EMBED_DIM = 200\n",
        "LSTM_UNITS = 300\n",
        "\n",
        "lr_schedule = tf.keras.optimizers.schedules.ExponentialDecay(\n",
        "    initial_learning_rate=1e-3,\n",
        "    decay_steps=10000,\n",
        "    decay_rate=0.9)\n",
        "\n",
        "bd_model = build_model(VOCAB_SIZE, EMBED_DIM, LSTM_UNITS, DROPOUT_RATE)\n",
        "optimizer = tf.keras.optimizers.Adam(learning_rate=lr_schedule, clipnorm=1.0)\n",
        "\n",
        "# Compile\n",
        "bd_model.compile(optimizer=optimizer, loss='sparse_categorical_crossentropy', metrics=['accuracy'])\n",
        "\n",
        "# Summary\n",
        "bd_model.summary()"
      ],
      "metadata": {
        "colab": {
          "base_uri": "https://localhost:8080/"
        },
        "id": "F_hvjHvSi-RV",
        "outputId": "e93f53b4-41ae-40f0-9471-07fd3b3a641f"
      },
      "execution_count": null,
      "outputs": [
        {
          "output_type": "stream",
          "name": "stdout",
          "text": [
            "Model: \"model_12\"\n",
            "__________________________________________________________________________________________________\n",
            " Layer (type)                Output Shape                 Param #   Connected to                  \n",
            "==================================================================================================\n",
            " input_23 (InputLayer)       [(None, None)]               0         []                            \n",
            "                                                                                                  \n",
            " embedding_24 (Embedding)    (None, None, 200)            2000000   ['input_23[0][0]']            \n",
            "                                                                                                  \n",
            " input_24 (InputLayer)       [(None, None)]               0         []                            \n",
            "                                                                                                  \n",
            " bidirectional_11 (Bidirect  [(None, None, 600),          1202400   ['embedding_24[0][0]']        \n",
            " ional)                       (None, 300),                                                        \n",
            "                              (None, 300),                                                        \n",
            "                              (None, 300),                                                        \n",
            "                              (None, 300)]                                                        \n",
            "                                                                                                  \n",
            " embedding_25 (Embedding)    (None, None, 200)            2000000   ['input_24[0][0]']            \n",
            "                                                                                                  \n",
            " concatenate_22 (Concatenat  (None, 600)                  0         ['bidirectional_11[0][1]',    \n",
            " e)                                                                  'bidirectional_11[0][3]']    \n",
            "                                                                                                  \n",
            " concatenate_23 (Concatenat  (None, 600)                  0         ['bidirectional_11[0][2]',    \n",
            " e)                                                                  'bidirectional_11[0][4]']    \n",
            "                                                                                                  \n",
            " lstm_25 (LSTM)              (None, None, 600)            1922400   ['embedding_25[0][0]',        \n",
            "                                                                     'concatenate_22[0][0]',      \n",
            "                                                                     'concatenate_23[0][0]']      \n",
            "                                                                                                  \n",
            " dense_12 (Dense)            (None, None, 10000)          6010000   ['lstm_25[0][0]']             \n",
            "                                                                                                  \n",
            "==================================================================================================\n",
            "Total params: 13134800 (50.11 MB)\n",
            "Trainable params: 13134800 (50.11 MB)\n",
            "Non-trainable params: 0 (0.00 Byte)\n",
            "__________________________________________________________________________________________________\n"
          ]
        }
      ]
    },
    {
      "cell_type": "code",
      "source": [
        "bd_history = train_model(bd_model, train_generator, test_generator,\n",
        "                      detokenizer, epochs=15)"
      ],
      "metadata": {
        "colab": {
          "base_uri": "https://localhost:8080/"
        },
        "id": "4HJbVP2ajOvE",
        "outputId": "dbb99c53-453d-4c0f-f8eb-15c60f39a8e4"
      },
      "execution_count": null,
      "outputs": [
        {
          "output_type": "stream",
          "name": "stdout",
          "text": [
            "Epoch 1/15\n",
            "  Batch 500/1718 - Loss: 2.7141, Accuracy: 0.6192\n",
            "  Batch 1000/1718 - Loss: 2.2895, Accuracy: 0.6681\n",
            "  Batch 1500/1718 - Loss: 1.9904, Accuracy: 0.7005\n",
            "Current learning rate: 0.000982072320766747\n"
          ]
        },
        {
          "output_type": "stream",
          "name": "stderr",
          "text": [
            "/usr/local/lib/python3.10/dist-packages/keras/src/engine/training.py:3103: UserWarning: You are saving your model as an HDF5 file via `model.save()`. This file format is considered legacy. We recommend using instead the native Keras format, e.g. `model.save('my_model.keras')`.\n",
            "  saving_api.save_model(\n"
          ]
        },
        {
          "output_type": "stream",
          "name": "stdout",
          "text": [
            "New best model saved at epoch 1 with test accuracy 0.7061\n",
            "Epoch 1: Train Loss: 2.5199, Train Accuracy: 0.6441, Test Loss: 1.9264, Test Accuracy: 0.7061, Epoch Custom Score: 0.1502\n",
            "Epoch 2/15\n",
            "  Batch 500/1718 - Loss: 1.7185, Accuracy: 0.7205\n",
            "  Batch 1000/1718 - Loss: 1.4817, Accuracy: 0.7439\n",
            "  Batch 1500/1718 - Loss: 1.3450, Accuracy: 0.7622\n",
            "Current learning rate: 0.0009644557721912861\n",
            "New best model saved at epoch 2 with test accuracy 0.7670\n",
            "Epoch 2: Train Loss: 1.5998, Train Accuracy: 0.7351, Test Loss: 1.3094, Test Accuracy: 0.7670, Epoch Custom Score: 0.2381\n",
            "Epoch 3/15\n",
            "  Batch 500/1718 - Loss: 1.1755, Accuracy: 0.7755\n",
            "  Batch 1000/1718 - Loss: 1.0155, Accuracy: 0.8012\n",
            "  Batch 1500/1718 - Loss: 0.9589, Accuracy: 0.8070\n",
            "Current learning rate: 0.0009471552912145853\n",
            "New best model saved at epoch 3 with test accuracy 0.8058\n",
            "Epoch 3: Train Loss: 1.1145, Train Accuracy: 0.7852, Test Loss: 0.9786, Test Accuracy: 0.8058, Epoch Custom Score: 0.3070\n",
            "Epoch 4/15\n",
            "  Batch 500/1718 - Loss: 0.8727, Accuracy: 0.8157\n",
            "  Batch 1000/1718 - Loss: 0.7634, Accuracy: 0.8252\n",
            "  Batch 1500/1718 - Loss: 0.7272, Accuracy: 0.8362\n",
            "Current learning rate: 0.0009301651152782142\n",
            "New best model saved at epoch 4 with test accuracy 0.8306\n",
            "Epoch 4: Train Loss: 0.8289, Train Accuracy: 0.8212, Test Loss: 0.7895, Test Accuracy: 0.8306, Epoch Custom Score: 0.3577\n",
            "Epoch 5/15\n",
            "  Batch 500/1718 - Loss: 0.6766, Accuracy: 0.8443\n",
            "  Batch 1000/1718 - Loss: 0.5972, Accuracy: 0.8536\n",
            "  Batch 1500/1718 - Loss: 0.5686, Accuracy: 0.8571\n",
            "Current learning rate: 0.000913479714654386\n",
            "New best model saved at epoch 5 with test accuracy 0.8458\n",
            "Epoch 5: Train Loss: 0.6507, Train Accuracy: 0.8474, Test Loss: 0.6791, Test Accuracy: 0.8458, Epoch Custom Score: 0.3930\n",
            "Epoch 6/15\n",
            "  Batch 500/1718 - Loss: 0.5449, Accuracy: 0.8657\n",
            "  Batch 1000/1718 - Loss: 0.5016, Accuracy: 0.8764\n",
            "  Batch 1500/1718 - Loss: 0.4639, Accuracy: 0.8819\n",
            "Current learning rate: 0.000897093559615314\n",
            "New best model saved at epoch 6 with test accuracy 0.8566\n",
            "Epoch 6: Train Loss: 0.5345, Train Accuracy: 0.8667, Test Loss: 0.6107, Test Accuracy: 0.8566, Epoch Custom Score: 0.4180\n",
            "Epoch 7/15\n",
            "  Batch 500/1718 - Loss: 0.4640, Accuracy: 0.8767\n",
            "  Batch 1000/1718 - Loss: 0.4318, Accuracy: 0.8886\n",
            "  Batch 1500/1718 - Loss: 0.3947, Accuracy: 0.8953\n",
            "Current learning rate: 0.0008810014696791768\n",
            "New best model saved at epoch 7 with test accuracy 0.8623\n",
            "Epoch 7: Train Loss: 0.4548, Train Accuracy: 0.8811, Test Loss: 0.5695, Test Accuracy: 0.8623, Epoch Custom Score: 0.4332\n",
            "Epoch 8/15\n",
            "  Batch 500/1718 - Loss: 0.3960, Accuracy: 0.8938\n",
            "  Batch 1000/1718 - Loss: 0.3837, Accuracy: 0.8941\n",
            "  Batch 1500/1718 - Loss: 0.3403, Accuracy: 0.9103\n",
            "Current learning rate: 0.0008651979151181877\n",
            "New best model saved at epoch 8 with test accuracy 0.8675\n",
            "Epoch 8: Train Loss: 0.3965, Train Accuracy: 0.8926, Test Loss: 0.5425, Test Accuracy: 0.8675, Epoch Custom Score: 0.4459\n",
            "Epoch 9/15\n",
            "  Batch 500/1718 - Loss: 0.3523, Accuracy: 0.9028\n",
            "  Batch 1000/1718 - Loss: 0.3326, Accuracy: 0.9086\n",
            "  Batch 1500/1718 - Loss: 0.3135, Accuracy: 0.9042\n",
            "Current learning rate: 0.0008496779482811689\n",
            "New best model saved at epoch 9 with test accuracy 0.8707\n",
            "Epoch 9: Train Loss: 0.3518, Train Accuracy: 0.9019, Test Loss: 0.5249, Test Accuracy: 0.8707, Epoch Custom Score: 0.4540\n",
            "Epoch 10/15\n",
            "  Batch 500/1718 - Loss: 0.3100, Accuracy: 0.9117\n",
            "  Batch 1000/1718 - Loss: 0.3071, Accuracy: 0.9152\n",
            "  Batch 1500/1718 - Loss: 0.2731, Accuracy: 0.9253\n",
            "Updated learning rate to 0.0002503308991435915\n",
            "New best model saved at epoch 10 with test accuracy 0.8732\n",
            "Epoch 10: Train Loss: 0.3169, Train Accuracy: 0.9098, Test Loss: 0.5133, Test Accuracy: 0.8732, Epoch Custom Score: 0.4612\n",
            "Epoch 11/15\n",
            "  Batch 500/1718 - Loss: 0.2859, Accuracy: 0.9184\n",
            "  Batch 1000/1718 - Loss: 0.2780, Accuracy: 0.9184\n",
            "  Batch 1500/1718 - Loss: 0.2564, Accuracy: 0.9271\n",
            "Current learning rate: 0.0008194681140594184\n",
            "New best model saved at epoch 11 with test accuracy 0.8746\n",
            "Epoch 11: Train Loss: 0.2882, Train Accuracy: 0.9164, Test Loss: 0.5064, Test Accuracy: 0.8746, Epoch Custom Score: 0.4652\n",
            "Epoch 12/15\n",
            "  Batch 500/1718 - Loss: 0.2630, Accuracy: 0.9210\n",
            "  Batch 1000/1718 - Loss: 0.2678, Accuracy: 0.9230\n",
            "  Batch 1500/1718 - Loss: 0.2352, Accuracy: 0.9265\n",
            "Current learning rate: 0.0008047684677876532\n",
            "New best model saved at epoch 12 with test accuracy 0.8758\n",
            "Epoch 12: Train Loss: 0.2645, Train Accuracy: 0.9220, Test Loss: 0.5017, Test Accuracy: 0.8758, Epoch Custom Score: 0.4690\n",
            "Epoch 13/15\n",
            "  Batch 500/1718 - Loss: 0.2323, Accuracy: 0.9311\n",
            "  Batch 1000/1718 - Loss: 0.2231, Accuracy: 0.9308\n",
            "  Batch 1500/1718 - Loss: 0.2148, Accuracy: 0.9387\n",
            "Current learning rate: 0.0007903323858045042\n",
            "New best model saved at epoch 13 with test accuracy 0.8775\n",
            "Epoch 13: Train Loss: 0.2443, Train Accuracy: 0.9271, Test Loss: 0.4992, Test Accuracy: 0.8775, Epoch Custom Score: 0.4732\n",
            "Epoch 14/15\n",
            "  Batch 500/1718 - Loss: 0.2219, Accuracy: 0.9297\n",
            "  Batch 1000/1718 - Loss: 0.2126, Accuracy: 0.9346\n",
            "  Batch 1500/1718 - Loss: 0.2014, Accuracy: 0.9410\n",
            "Current learning rate: 0.000776155386120081\n",
            "New best model saved at epoch 14 with test accuracy 0.8780\n",
            "Epoch 14: Train Loss: 0.2269, Train Accuracy: 0.9318, Test Loss: 0.4985, Test Accuracy: 0.8780, Epoch Custom Score: 0.4752\n",
            "Epoch 15/15\n",
            "  Batch 500/1718 - Loss: 0.2064, Accuracy: 0.9363\n",
            "  Batch 1000/1718 - Loss: 0.2092, Accuracy: 0.9372\n",
            "  Batch 1500/1718 - Loss: 0.1908, Accuracy: 0.9413\n",
            "Current learning rate: 0.0007622325792908669\n",
            "New best model saved at epoch 15 with test accuracy 0.8791\n",
            "Epoch 15: Train Loss: 0.2119, Train Accuracy: 0.9357, Test Loss: 0.4979, Test Accuracy: 0.8791, Epoch Custom Score: 0.4780\n"
          ]
        }
      ]
    },
    {
      "cell_type": "markdown",
      "source": [
        "## Loading the model and testing some examples\n"
      ],
      "metadata": {
        "id": "f3_7QM9oyoMh"
      }
    },
    {
      "cell_type": "code",
      "source": [
        "from google.colab import drive\n",
        "drive.mount('/content/drive')"
      ],
      "metadata": {
        "colab": {
          "base_uri": "https://localhost:8080/"
        },
        "id": "NAwiltTZD1CU",
        "outputId": "38f0e161-80a1-4cd4-e6dc-9ef7480daf89"
      },
      "execution_count": null,
      "outputs": [
        {
          "output_type": "stream",
          "name": "stdout",
          "text": [
            "Mounted at /content/drive\n"
          ]
        }
      ]
    },
    {
      "cell_type": "code",
      "source": [
        "from tensorflow.keras.models import load_model\n",
        "\n",
        "# Load the model\n",
        "model_path = '/content/drive/MyDrive/Colab Notebooks/LSTM_13M_BI_4780.h5'\n",
        "model = load_model(model_path)\n",
        "print(f\"Model loaded from {model_path}\")\n"
      ],
      "metadata": {
        "colab": {
          "base_uri": "https://localhost:8080/"
        },
        "id": "63NXt2jRzLk4",
        "outputId": "0d1a4afa-60a3-4189-9003-4973c180864a"
      },
      "execution_count": null,
      "outputs": [
        {
          "output_type": "stream",
          "name": "stdout",
          "text": [
            "Model loaded from /content/drive/MyDrive/Colab Notebooks/LSTM_13M_BI_4780.h5\n"
          ]
        }
      ]
    },
    {
      "cell_type": "code",
      "source": [
        "for i, (x_batch, y_batch) in enumerate(test_generator):\n",
        "    y_true = y_batch[:, 1:]\n",
        "    preds = model.predict([x_batch, y_batch[:, :-1]], verbose=0)\n",
        "\n",
        "    print(f\"original : {detokenizer(y_true)}\")\n",
        "    print(f\"predicted: {detokenizer(preds.argmax(-1))}\")\n",
        "    print()\n",
        "    if i == 4: break"
      ],
      "metadata": {
        "colab": {
          "base_uri": "https://localhost:8080/"
        },
        "id": "Lw-ROHgz8HWW",
        "outputId": "6b7e507e-81c5-4652-93ae-1f72e47c1d3b"
      },
      "execution_count": null,
      "outputs": [
        {
          "output_type": "stream",
          "name": "stdout",
          "text": [
            "original : ['recycling prevents pollution and helps conserve precious natural resources <end>', 'predators like to eat banana slugs at all stages of their lives <end>', 'corporate profits drive stock prices and corporations have been getting serious about business <end>', 'snails are hermaphrodites but they have to mate before laying some days later <end>', 'abuse can affect any family regardless of income <comma> profession <comma> religion <comma> or education <end>', 'agriculture provides open space <comma> wildlife habitat and economic activity <end>', 'soups make it possible to eat indian food on the go <end>', 'healthy living is distorted when a single problem is the focus <comma> and others ignored <end>', 'milkweed is a perennial that often bears blossoms and fruit at the same time <end>', 'severe malnutrition is a serious <comma> lifethreatening condition for children <end>', 'humans have the power to make wrong choices and to make mistakes <end>', 'dandelions are believed to be some of the oldest plants on the planet <end>', 'caffeine is a drug found in a number of plants like coffee beans <comma> cocoa beans <comma> and tea leaves <end>', 'most people connect to the internet using modems and telephone lines <end>', 'viral transmission is most successful when density of hosts is high <end>', 'instant cameras use film that provides a print without first being developed into a negative <end>', 'rice milk contains only water <comma> rice <comma> oil and salt <end>', 'muskrats eat a variety of food <comma> though <comma> and usually are able to maintain high population levels <end>', 'surgery is often the first and best treatment for cancer <end>', 'sign language make a difference by helping the deaf talk <end>', 'intense concentration is used to focus as much strength as possible on the object of impact <end>', 'some plants make use of multiple vectors <comma> but many are highly specialised <end>', 'natural enemies play an important role during periods when gypsy moth populations are sparse <end>', 'organisms can survive only in environments in which their needs are met <end>', 'small animals experience too much friction relative to their muscle strength to go fast <end>', 'jams tend to hold their shape but are generally less firm than jelly <end>', 'special herbs can enhance the diet and promote the bodys ability to sustain cellular balance <end>', 'macaws can still have a limited amount of flight due to their large wing web area <end>', 'some species adapt much more rapidly to new conditions than others <end>', 'trees are generally lower than the rainforest trees <comma> but again have massive trunks <end>', 'young trees can make six feet of growth in a single season <end>', 'smokers tend to reach menopause at an earlier age than nonsmokers <end>', 'ranchers clear large areas of rainforest to become pastures for their cattle <end>', 'some earwigs have stripes on the thorax and abdomen <end>', 'magnetic manipulation can turn molecules in a liquid into computing such devices <end>', 'healthy wetlands means cleaner water <comma> reduced flooding and more places for recreation <end>', 'market share is the percent share in sales one company controls in a particular market <end>', 'face flies spend only a small amount of time on the animal <end>', 'organic foods are extremely important in prevention and management of cancer <end>', 'fungicides can be effective management tools for lettuce diseases caused by fungi <end>', 'most blister agents cause little or no pain at the time of exposure <end>', 'lines of force exist between two poles which are labeled as positive and negative <end>', 'cerebral palsy is due to abnormal development or damage occurring to the developing brain <end>', 'birds are meant to fly and be with others of their own kind in a natural environment <end>', 'some herbicides are available in combination with a fertilizer <end>', 'plants provide fuel <comma> food <comma> clothing <comma> and even shelter <comma> either directly or indirectly <end>', 'bats demand roosting chambers <comma> darkness during the day and warmth <end>', 'macaques are hardy <comma> intelligent primates with stout bodies and powerful limbs <end>', 'infertility can be a major crisis because the important life goal of parenthood is threatened <end>', 'carrion flies can arrive at <comma> and lay eggs on <comma> a dead animal within minutes <end>', 'prescription medicines have directions just for the person whose name is on the label <end>', 'seismic monitoring provides shortterm warning of eruptions by detecting movement of molten rock <end>', 'shallow cultivation helps the soil absorb and hold water <end>', 'microorganisms are present in the soil primarily attached to soil particles <end>', 'drug dependence is a general term which is applicable to all types of drug abuse <end>', 'sleep also helps the body <comma> as does healthy eating and exercise <end>', 'american farmers raise more chickens than any other farmers in the world <end>', 'pubic lice are tiny insects in the genital area that cause redness and itching <end>', 'yoga also can directly alleviate many of the most troublesome symptoms of menopause <end>', 'biologists have studies the growth of the human population and found some interesting points <end>', 'literacy assumes the power of texts and encourages exposure to competing ideas and beliefs <end>', 'human activities have a rapidly growing rate of impact on the environment <end>', 'voles feed on bulbs <comma> plant roots <comma> root crops and tree bark and roots <end>', 'hot glue comes in varieties with different melting points and strengths <end>', 'digestion is a process that requires quite a bit of energy <end>', 'some animals acquire their food easily <comma> such as rabbits <comma> horses and elephants <end>', 'planning is one of the most important aspects of radiation treatment for breast cancer <end>', 'attitudes are often different when age is a variable <end>', 'caffeine is found in tea <comma> coffee <comma> soft drinks and chocolate <end>', 'fossils are evidence of prehistoric life that is preserved in rock <end>', 'night lights come in a whole variety of shapes and figures <end>', 'many yoga postures require many major and minor muscle groups to be used simultaneously <end>', 'children also seem to have a very excessive appetite <comma> but tend to lose weight <end>', 'tax is how government is paid for in most countries <end>', 'bed bugs are small <comma> brownish <comma> flattened insects that feed solely on the blood of animals <end>', 'smoking eliminates the protective effect of oral estrogens on the risk of hip fracture among women <end>', 'invertebrates play a key role in the wetland food chain <end>', 'most birds are territorial and protect the area around their nest <end>', 'powders are transported in the atmosphere differently from a coarse granular material <end>', 'all rivers have a gradual slope and eventually flow into a larger body of water such as an ocean <end>', 'sustainable development is an holistic approach to improving the quality of life <end>', 'evolution involves changes in the genetic makeup of a population over time <end>', 'g is a measure of the maximum work that can be obtained from a reaction <end>', 'food is like a medicine <comma> it can make the body or sometimes <comma> it can break it <end>', 'biotechnology facilitates the precise modification of traits of interest <end>', 'some teen girls find that birth control pills help to clear up their acne <end>', 'permafrost is soil that has been frozen year round for at least two years <end>', 'bears are generally diurnal <comma> meaning that they are active for the most part during the day <end>', 'some plants have seed pods that explode and send all the seeds all over the ground <end>', 'head lice are small insects which live in the scalp by periodically biting and sucking blood <end>', 'some kids are afraid to go to school because of sexual harassment <end>', 'vision is arguably the most important of the five senses <end>', 'regression is the loss of skills learned in school <end>', 'slugs seek shelter during the day in soil cracks and under debris <end>', 'unity is expressed through the children as the third element <end>', 'some dogs have natural adverse reactions to such products <end>', 'nuclear power can be dangerous and produces radioactive wastes that persist for thousands of years <end>', 'seizures usually occur without warning and without the persons awareness of what is happening <end>', 'birth control is taught only in the context of marriage <end>', 'sustainable development can occur in conjunction with nature conservation <end>', 'conjugation is the sexual stage of the life cycle <end>', 'wind also can spread the virus through the air <end>', 'most people heal very well with scars that fade and blend in over time <end>', 'lumber is used for various purposes <comma> but the chief use is as an ornamental <end>', 'cultural warfare is something the united states is more likely to do to others <end>', 'mothers are the key to family survival in developing countries <end>', 'oxygen acts like fuel for the body <comma> providing energy for muscles and organs to work <end>', 'veterinary care includes nutritional supplements <comma> medication and <comma> in some cases <comma> surgery <end>', 'heat attracts the fleas to the water and they drown <end>', 'nurses care for the sick and injured and help people stay well <end>', 'independent reading is very important for increasing a childs ability to read well <end>', 'tiny organisms transmit the disease to people or animals through tick bites <end>', 'sexual assault is as much of a mens issue as it is a womens issue <end>', 'political geographers study voting patterns or where wars break out <end>', 'indoor plants are apparently useful in removing some pollutants <end>', 'smoking combined with radon is an especially serious health risk <end>', 'women suffer from depression at twice the rate of men <end>', 'astronomers now see engineering as a crucial component of making advances in knowledge <end>', 'most people spend their entire lives living in the same house <end>', 'front feet have five toes <comma> including a small toe corresponding to our thumb <end>', 'some experts say that early childhood is the best time to learn a second language <end>', 'translation takes place in the nucleus <comma> and transcription takes place in the ribosomes <end>', 'light massage is given to various reflexes and sometimes to acupressure points <end>', 'blood returning to the heart from the lungs enters the a left ventricle <end>', 'alcohol can make the effects of other drugs much worse <end>', 'humans are very different from apes <comma> especially in intelligence and language <end>', 'malaria already kills over one million people every year <end>', 'large temperature drops on cold winter nights create turbulence in the atmosphere <end>', 'all organisms cause changes in the environment in which they live <end>', 'most business people have meetings on a daily basis <end>', 'humans thrive on stress because it makes life more interesting <end>', 'some bacteria can take up dna from the environment <comma> a process called transformation <end>', 'flowers are rich source of vitamin c and have sweet taste <end>', 'antihistamines make a good sleep aid for people with occasional insomnia <end>', 'fish are one of the most important natural renewable resource of the pacific countries <end>', 'walruses can remain submerged for as long as ten minutes <end>', 'leather can be very expensive depending on the quality of the hide <end>', 'traditional arts are one of the most important markers of ethnic identity <end>', 'plants grow in nutrient rich soil and absorb the nutrients <end>', 'health research is the foundation of public health and the treatment of disease <end>', 'sun city is a retirement community west of phoenix <comma> arizona <end>', 'internal beauty varies with people just as external beauty does <end>', 'green building is an evolutionary process that takes time to develop <end>', 'tourism is one of the most important industries in mexico <end>', 'microwaves cause the water molecules in food to vibrate rapidly <end>', 'turkey vultures are valuable for their disposal of rotting and diseasecausing carrion <end>', 'many organizations work to save the elephant from extinction <end>', 'some medications can reduce the effectiveness of birth control pills <end>', 'light sensitivity can be confused with dry eyes it feels very similar <end>', 'termites are able to digest wood with the help of microorganisms which live in the termite gut <end>', 'mating systems affect greatly the degree of allele persistence <comma> especially in small populations <end>', 'wildlife conservation is conducted in the national and state parks and wilderness areas <end>', 'garlic mustard is an invasive plant species in north american temperate forests <end>', 'drugs are substances that alter mood <comma> mind or behavior <end>', 'soybeans are very high in protein and are used in poultry feed as they are considered plant protein <end>', 'young pregnancies are always traumatic for the individuals and families involved <end>', 'lung scarring can result from toxins <comma> burns <comma> or a number of diseases and conditions <comma> such as lupus <end>', 'string is any variable that contains alpha characters as data <end>', 'insomnia is either the inability to fall asleep <comma> or difficulty in staying asleep <end>', 'gene technology provides a new kind of freedom for humankind <comma> and hence a new kind of history <end>', 'mosses produce a thick <comma> green mass in full sun or shade on both dry and wet soils <end>', 'many children lose time to school because of allergies <end>', 'honey bees live <comma> breed and produce honey in a hive <end>', 'depression is sometimes a side effect of a drug <end>', 'japan japan is an island nation situated off the east coast of the asian continent <end>', 'neutering is the surgical removal of the testicles of a male animal <end>', 'vaccines do nothing but prevent the body from expressing a normal immune response to acute illness <end>', 'exercise also helps reduce stress and related painful conditions <end>', 'financial stocks are attractive for reasons other than just being cheap <end>', 'energy is transferred from one species to another through the food chain <end>', 'thiamine deficiency is a condition that produces nerve damage through oxidative damage <end>', 'ants leave chemicals trails so that others can find the bait <end>', 'ceramic coatings find application in engine components <comma> cutting tools <comma> and industrial wear parts <end>', 'race often melts away when much larger concerns <comma> such as education <comma> draw people together <end>', 'poker games can either be high poker or low poker <end>', 'some scientists study intelligence by looking at the brain <end>', 'product lines are groups of related systems that <comma> together <comma> fill a market niche <end>', 'ribosomes physically support the other participants in protein synthesis <end>', 'tornadoes usually form as part of a line of particularly violent thunderstorms <end>', 'listeria uses the cellular machinery to move around inside the host cell <end>', 'population density is the average number of people in a place <end>', 'chemotherapy is well known for causing nausea and vomiting <end>', 'starlings are unable to hang upside down for long <end>', 'chromosomes are composed of dna <comma> a very long <comma> linear molecule <end>', 'many people get herpes and don t know it because they never have symptoms <end>', 'some selenium compounds are very toxic and harmful to things that live in water <end>', 'brazil is the largest of the south american nations <end>', 'some people experience problems with the emotional and sexual relationship with their partner <end>', 'tarantulas live mainly in burrows in the ground and they only come out to hunt at night <end>', 'heat travels by convection <comma> meaning warm air rises <end>', 'alcoholic beverages contain a mixture of the alcohol and carbohydrates <end>', 'household cleaners are the number one cause of poisoning of children <end>', 'spring is new life <comma> but summer is a time of growing and fall a time of harvest <end>', 'squids are able to change color rapidly by contracting and expanding pigment granules <end>', 'radiation oncologists specialize in the use of xrays and other radiation to kill tumors <end>', 'seals live on fish in the arctic ocean <comma> and polar bears prey on the seals <end>', 'potential energy is stored <comma> for example <comma> in a battery <comma> an apple or in gasoline <end>', 'tamoxifen works against breast cancer by interfering with the activity of the hormone estrogen <end>', 'good ventilation is essential to rapidly remove water vapor <end>', 'faith is essentially a belief that our actions are founded on our beliefs <end>', 'interest groups are organizations that represent people who hold similar views <end>', 'open mushrooms are prone to different kinds of diseases <end>', 'low frequencies tend to travel better through and around objects <end>', 'manure is an organic fertilizer but plants can only use inorganic nutrients <end>', 'tissue culture requires only minute amounts of material as little as a few cells <end>', 'drug therapy can be a useful part of treatment for some forms of aggression <end>', 'sports are a recreational activity that provide a good release from school work <end>', 'extra insulin is secreted inside the babys body in order to get rid of the excess blood sugar <end>', 'glacial lake is filled with sediment or is drained <end>', 'bullies are usually more popular with their peers than children who are simply aggressive <end>', 'antidepressant drugs are also beneficial in certain types of anxiety disorders <end>', 'magical realism is the writing of spanish and latin american authors <end>', 'lung cancer is most common but smokers also have a much higher risk of other cancers <end>', 'membranes participate actively in a host of processes essential for a biological cell <end>', 'healthy anemones are full <comma> firm and out in the open <end>', 'water enables the soil to maintain a way in which all plant life can grow <end>', 'magnetic north varies with each longitude and is different each year <end>', 'magnesium deficiency can lead to premature fruit drop at harvest <end>', 'most animals hibernate when it becomes too cold and it is hard to find food <end>', 'healthy prions are very similar from mammal to mammal <end>', 'aphid treatment is optimal when wheat is in the flag leaf stage <end>', 'birds also contribute to the balance of our ecosystem <end>', 'home ownership adds to the economy in two ways <end>', 'caterpillars have very poor eyesight and can see only light and dark <end>', 'low humidity can also cause the bow hair to shorten <end>', 'some plant pathologists work in the field <comma> helping farmers solve their immediate problems <end>', 'rabies occurs throughout the world with the exception of the australia <comma> united kingdom and japan <end>', 'humans can also become infected if there is contact with animal stools or contaminated water <end>', 'folic acid is a vitamin essential for human growth and development <end>', 'field crops become damp with dew every evening <comma> and are dried by the sun every morning <end>', 'lead affects all organs and functions of the body to varying degrees <end>', 'modern agriculture is one of the most international of enterprises <end>', 'some objects are luminous they give off their own light <end>', 'electrolytes conduct electricity and are found in fluid <comma> tissue <comma> and blood <end>', 'rheumatic fever is an inflammatory disease involving the joints and heart <end>', 'conscious awareness can only focus on one thing at a time <end>', 'balanced fertilization can bring prosperity to farmers and to rural communities <end>', 'quality is a criteria in the selection of sites <end>', 'river channels can be good and bad therefore causing or preventing floods <end>', 'dogs have a sense of smell that is many times more sensitive than mans <end>', 'waterways become narrow <comma> deep channels and the flow of water is restricted <end>', 'grasses evolve <comma> allowing an adaptive radiation of rodents and snakes <end>', 'chinese medicine can treat acute and chronic conditions and provide preventative care <end>', 'iron deficiency is the most common nutritional fault in american females <end>', 'communities are groups of people that share some common characteristics <end>', 'households are frequently complicated <comma> with individuals coming and going constantly <end>', 'public authorities keep a vast amount of information about individuals <end>', 'trigger finger is caused by a thickening on the tendon catching as it runs in and out of the sheath <end>', 'temperature is a measure of the kinetic energy of the water molecules <end>', 'good hearing is essential for babies to learn to talk <end>', 'cholesterol is insoluble and is transported by special blood proteins <comma> called lipoproteins <end>', 'capture involves the addition of the neutron to the uranium nucleus to form a new compound nucleus <end>', 'antibodies are protein substances that react against bacteria and other harmful material <end>', 'class objects define the attributes <comma> methods and messages of a similar group of objects <end>', 'circles can be anything <comma> a ball <comma> a tire or even a ring <end>', 'shared spaces are offices that two or three workers share <end>']\n",
            "predicted: ['recycling helps pollution and helps conserve natural natural resources <end>', 'banana like to eat banana slugs at all stages of their lives <end>', 'corporate profits have profits on about have have been getting serious business business <end>', 'some have very before they have some some before some some days later <end>', 'abuse can affect any society <comma> of education <comma> education <comma> education <comma> or education <end>', 'habitat provides habitat habitat <comma> habitat habitat and economic activity <end>', 'indian make it possible to go the food on the go <end>', 'financial focus is the <comma> the focus focus <comma> ignored focus <comma> and others focus <end>', 'bears is a companion and bears bears and at fruit at the same time <end>', 'malnutrition malnutrition is a serious <comma> lifethreatening condition for children <end>', 'humans have the power to make decisions decisions and make make mistakes <end>', 'dandelions are often to be some of the oldest plants on the planet <end>', 'caffeine is a drug like in beans number of beans like beans beans <comma> beans beans <comma> and tea leaves <end>', 'most people connect to telephone internet using telephone and telephone lines <end>', 'successful transmission is most successful when high is high is high <end>', 'digital measurement use a that provides a serious good being developed developed into a negative <end>', 'rice contains contains salt salt <comma> salt <comma> oil and salt <end>', 'muskrats take a variety of food and though <comma> and are are able to maintain high population levels <end>', 'surgery is often the best best best treatment for cancer <end>', 'sign language involves a deaf by helping the deaf deaf <end>', 'strength strength is used as focus on much as as the on the impact of impact <end>', 'some plants are many highly many highly <comma> but are are highly vectors <end>', 'natural enemies are an important role during moth when moth moth populations are sparse <end>', 'organisms can survive in in environments in which their needs are met <end>', 'some animals go much much muscle to to fast strength strength to go fast <end>', 'jams tend to hold their shape but generally generally less firm than jelly <end>', 'herbs diets can enhance the bodys and enhance the bodys ability to sustain cellular balance <end>', 'crocodilians can have have a large amount of their due to their large wing area area <end>', 'some species adapt much more rapidly than change conditions than others <end>', 'trees are generally lower than the trees <comma> <comma> but have have massive trunks <end>', 'trees trees can make a feet in growth in a single season <end>', 'smokers tend to reach menopause earlier an earlier age than nonsmokers <end>', 'cattle become for areas of cattle for become cattle for their cattle <end>', 'some earwigs have stripes on the thorax and abdomen <end>', 'object fields can form into into a form such such such devices <end>', 'wetlands wetlands provide more water and and places and more places for wildlife <end>', 'market share is the average in in a on unit on in a particular market <end>', 'small flies require only a small amount of the on the animal <end>', 'organic diseases are extremely important in management and management of cancer <end>', 'fungicides can be effective for for for diseases diseases caused by fungi <end>', 'most disinfectants agents cause no pain no pain at the time of exposure <end>', 'positive of force are between which and which are positive as positive and negative <end>', 'cerebral palsy is the to damage damage due damage to to the developing brain <end>', 'birds are also to be in be a a in a own kind in a natural environment <end>', 'some herbicides are available in a with a fertilizer <end>', 'plants provide food <comma> food <comma> shelter <comma> and shelter indirectly either either directly or indirectly <end>', 'bats love during during during and and the day and night <end>', 'macaques are stocky and powerful with with stocky limbs and powerful limbs <end>', 'infertility is be a major part because the birth order crisis of threatened is threatened <end>', 'brown flies can arrive on a on lay eggs on a dead dead animal within minutes <end>', 'name medicines have name for for the name whose name is on the job <end>', 'seismic technique provides seismic waves by seismic by detecting rock of rock rock <end>', 'shallow water helps hold hold hold and hold water <end>', 'soil are present in soil soil particles attached to soil particles <end>', 'drug dependence is a general term which is substantially to all types of drug abuse <end>', 'exercise also helps exercise body healthy and healthy exercise eating and exercise <end>', 'farmers farmers raise more farmers than any other farmers in the world <end>', 'pubic lice are tiny wingless that the itching itching that cause itching and itching <end>', 'yoga can can alleviate alleviate the of the symptoms symptoms symptoms of menopause <end>', 'some show some found growth and the human population and some some interesting points <end>', 'media encourages the ability of concepts and concepts beliefs to ideas ideas and beliefs <end>', 'human activities have a impact impact impact of impact on the environment <end>', 'voles feed on plant <comma> roots roots <comma> roots roots and roots roots and roots <end>', 'dimensional fiber comes in different and different strengths and and strengths <end>', 'digestion is a process that requires quite a bit of energy <end>', 'some animals acquire their food such <comma> such as rabbits <comma> horses and elephants <end>', 'breast is one of the most important aspects of treatment treatment for breast cancer <end>', 'age are variable variable when a is a variable <end>', 'caffeine is found in tea <comma> soft <comma> soft drinks and chocolate <end>', 'fossils are evidence of life life that is preserved in rock <end>', 'night lights come in a variety variety of shapes and styles <end>', 'yoga yoga require require many main groups more groups groups used be used simultaneously <end>', 'children tend tend to lose a appetite appetite appetite <comma> but tend to lose weight <end>', 'tax government government most is most for most most countries <end>', 'bed bugs are small <comma> brownish insects large insects that feed on on the inside of animals <end>', 'smoking reduces the risk effect on exercise exercise on the risk of women among among women <end>', 'invertebrates play a key role in the food food chain <end>', 'most birds are territorial and protect the nest around their nest <end>', 'granular are chemically from the atmosphere by from a coarse granular material <end>', 'all rivers flow a reduced body of a flow into a wide area area water as as an ocean <end>', 'sustainable development is the approach approach to improving the quality of life <end>', 'evolution involves changes in genetic genetic makeup of a population over time <end>', 'g is a reaction of the maximum energy that a be obtained from a reaction <end>', 'food is medicine medicine medicine <comma> and can sometimes it body it break it it can break it <end>', 'biotechnology facilitates the precise interest of interest of interest <end>', 'some experts girls find that clear control their have clear clear their their acne <end>', 'frozen is frozen at has been taken at at at at least two years <end>', 'bears are generally the <comma> meaning that they are most for most most part during the day <end>', 'some seed have all all that sprout all grow all the ground all over the ground <end>', 'head lice are small insects which live in the scalp by biting biting and sucking blood <end>', 'some kids go afraid of go to school because of sexual harassment <end>', 'vision is arguably the most important component the five senses <end>', 'school is learned learned of learned learned in school <end>', 'slugs crawl shelter during the soil and cracks and and under debris <end>', 'unity is expressed as the third as the third element <end>', 'some individuals have natural reactions reactions to such products <end>', 'nuclear power produces be dangerous and radioactive thousands types that account for years of years <end>', 'seizures often occur without the and without understanding understanding understanding of what is happening <end>', 'marriage control is only only in the context of marriage <end>', 'sustainable development can occur in nature with nature conservation <end>', 'sexual is the stage stage of the life cycle <end>', 'wind can can spread the virus through the air <end>', 'most people blend very well in time in fade in gradually over over time <end>', 'hickory is an for an purposes <comma> but is use use is an an important <end>', 'cultural warfare is more more united states to more likely to do to others <end>', 'mothers are key key to developing survival in developing countries <end>', 'energy acts like a cells energy body to providing energy and muscles and organs to work <end>', 'nutritional medication includes nutritional supplements <comma> in <comma> <comma> in some cases <comma> surgery <end>', 'fleas attracts the fleas and the water and they drown <end>', 'nurses help for people sick and stay and stay people stay well <end>', 'independent reading is very important for a a childs ability to read well <end>', 'people animals transmit disease disease to infect through animals through bites bites <end>', 'sexual assault is a much a a crime issue as a is a crime issue <end>', 'political study study patterns patterns or break break break out <end>', 'some plants are apparently useful in some some pollutants <end>', 'smoking is with radon is especially especially serious health risk <end>', 'depression suffer from depression at twice the rate of men <end>', 'astronomers now claim a as a crucial component in making knowledge in knowledge <end>', 'most people spend their entire lives in in the same house <end>', 'front feet have a toes <comma> including a toe toe corresponding to our thumb <end>', 'early experts say that early childhood is the best time to learn a language language <end>', 'ribosomes takes place in the place <comma> and in takes place in the ribosomes <end>', 'acupressure is is sometimes to various fabrics and sometimes to toe points <end>', 'blood enters away the lungs from the lungs enters the left left ventricle <end>', 'alcohol can make much effects of much drugs much worse <end>', 'humans are very different from language <comma> especially in intelligence and language <end>', 'malaria kills kills one one million people every year <end>', 'winter winter drops on the winter nights in low in the atmosphere <end>', 'organisms organisms cause changes in the environment in which they live <end>', 'most people people have a on a daily basis <end>', 'stress thrive on interesting because it makes life interesting interesting <end>', 'some bacteria can take up from from the environment <comma> called process called transformation <end>', 'sweet have rich and of vitamin c and have sweet taste <end>', 'insomnia make insomnia good sleep for for people with occasional insomnia <end>', 'fish are one of the most important renewable resource resource of the pacific countries <end>', 'walruses can remain submerged for as long as ten minutes <end>', 'leather can be very expensive depending on the quality of the hide <end>', 'ethnic arts are one of the most important ethnic of ethnic identity <end>', 'plants absorb in the rich and and absorb the nutrients <end>', 'research research is the foundation of the health and the treatment of disease <end>', 'phoenix city is a growing <comma> <comma> <comma> arizona <comma> soccer <end>', 'beauty beauty requires with people just as much beauty does <end>', 'green development is an evolutionary time that takes time to develop <end>', 'tourism is one of the most important industries in mexico <end>', 'microwaves cause molecules molecules molecules in food molecules vibrate rapidly <end>', 'turkey vultures are valuable for their purposes of rotting and turkey vegetation <end>', 'many institutions work to save extinction elephant from extinction <end>', 'some medications can reduce the effectiveness of birth control pills <end>', 'dry bugs can be very with very eyes very very very similar <end>', 'termites live able to live the at each gut in the which live in the gut exoskeleton <end>', 'small systems vary the in small of small in <comma> especially in small countries <end>', 'wildlife conservation is the in the parks parks state parks and forests areas <end>', 'mustard mustard is an invasive plant species in north american temperate forests <end>', 'drugs are substances that alter mood <comma> behavior or behavior <end>', 'soybeans are considered high in protein and are considered as plant plant as they are considered plant protein <end>', 'young individuals are always responsible for individuals individuals and families involved <end>', 'diseases diseases can result from a <comma> such or or diseases number of conditions <comma> conditions <comma> such as scarring <end>', 'string is any string that contains dna data as data <end>', 'insomnia is the due inability to sleep asleep <comma> or difficulty in staying asleep <end>', 'technology technology provides new kind kind of new for new <comma> and new new new kind of study <end>', 'mosses grow a full green dark soil and full sun and on on both wet and wet soils <end>', 'children children lose to to school because of allergies <end>', 'honey bees live in produce and produce honey in a hive <end>', 'depression sometimes sometimes a side effect of a drug <end>', 'japan japan is an asian nation off off the western coast of the asian continent <end>', 'neutering is a surgical removal of the testicles of a male animal <end>', 'vaccines do nothing from a the normal to normal a normal response response to acute illness <end>', 'exercise also helps reduce stress and reduce painful conditions <end>', 'stocks stocks are attractive for other other than just being cheap <end>', 'energy is transferred from the species to another through the food chain <end>', 'oxidative deficiency is a condition that leads oxidative damage through oxidative damage <end>', 'ants leave the so so that the can find the bait <end>', 'industrial tools use industrial tools industrial parts <comma> industrial tools <comma> and industrial wear parts <end>', 'people often builds away <comma> people larger people people such as people <comma> people into together <end>', 'low can can be be low or or low frequency <end>', 'some scientists study the by looking at the brain <end>', 'market systems are groups of systems systems that fill fill <comma> fill a market niche <end>', 'protein support support the protein protein in protein synthesis <end>', 'tornadoes usually form as a of a particularly of particularly violent property <end>', 'cellular uses the host cell around colonize around the the host cell <end>', 'population density is the average number of people in a place <end>', 'chemotherapy is known known for causing nausea and vomiting <end>', 'starlings are long to hang upside down for long <end>', 'chromosomes are composed of a <comma> a very long <comma> linear molecule <end>', 'many people don herpes because don t know because because never never have symptoms <end>', 'some pesticides compounds that toxic toxic to live to live that live in water <end>', 'brazil is the largest american the american american nations <end>', 'some people experience sexual with their sexual and sexual relationship with their partner <end>', 'tarantulas live in in the and the ground and they only come out to hunt at night <end>', 'convection rises warm convection <comma> convection rises air rises <end>', 'alcoholic beverages contain a mixture of the ingredients and carbohydrates <end>', 'children cleaners are one number one cause of poisoning of children <end>', 'spring is a time <comma> but a is a time of harvest harvest harvest harvest harvest of harvest <end>', 'blue are able to change color by by trapping macrophages pigment white markers <end>', 'radiation oncologists specialize in the use of xrays and other radiation to kill tumors <end>', 'seals live in the <comma> the arctic ocean <comma> and polar bears prey on the arctic <end>', 'potential energy is stored in in example <comma> in a battery <comma> or acid or in gasoline <end>', 'tamoxifen works by the cancer by interfering with the activity of the estrogen estrogen <end>', 'good ventilation is essential to remove remove water vapor <end>', 'beliefs is essentially a belief that our beliefs are founded on our beliefs <end>', 'groups groups are groups that represent people who hold similar views <end>', 'mushrooms mushrooms are prone to different kinds of diseases <end>', 'objects frequencies tend to travel through and and around objects <end>', 'organic is an organic fertilizer but only can only use inorganic nutrients <end>', 'tissue culture requires only as amounts of tissue as a as a few cells <end>', 'some therapy can be a useful part of some for some forms of aggression <end>', 'sports are a good activity that provide good good work from school work <end>', 'extra protein is secreted in the body body in order to get rid of excess excess blood sugar <end>', 'glacial drift is filled with sediment or is filled <end>', 'bullies are usually more aggressive than children children than simply who are simply sighted <end>', 'antidepressant medications are also beneficial in certain types of anxiety disorders <end>', 'jazz realism is the authors of american and latin american authors <end>', 'lung cancer is a of smokers smokers have have a much higher risk of other cancers <end>', 'tissues function in in a host of biological essential for a biological cell <end>', 'healthy rhizomes are firm and and and open in the open <end>', 'water enables a plant to produce a plant plant which all plant life can grow <end>', 'magnetic field is with each year and is different year year <end>', 'heavy deficiency can lead to premature fruit drop at harvest <end>', 'most animals die when it is too large and it is hard to find food <end>', 'mammal mammal are very similar to mammal to mammal <end>', 'late stage is when when the is the the leaf leaf stage <end>', 'birds also contribute to the balance of our ecosystem <end>', 'home ownership adds to the economy in two ways <end>', 'caterpillars have dark poor eyesight and can only only dark and dark <end>', 'humidity humidity can also cause the hair to to shorten <end>', 'some medical pathologists work in helping helping <comma> helping their solve their immediate problems <end>', 'japan occurs throughout the world <comma> the exception of the japan <comma> and kingdom and japan <end>', 'some can also become infected if there is animal with contaminated feces or water water <end>', 'folic acid is a essential essential for human growth and development <end>', 'every crops are dark <comma> every <comma> evening <comma> and are by by the sun every morning <end>', 'lead affects all of and varying compared varying body varying varying degrees <end>', 'agriculture agriculture is one of the most international of enterprises <end>', 'some objects give famous off give off their own light <end>', 'electrolytes are electricity and are found in tissue <comma> tissue <comma> and blood <end>', 'rheumatic fever is an inflammatory disease involving the joints and joints <end>', 'breathing pain can only focus on a thing at a time <end>', 'wildlife farmers can bring to to farmers and to rural communities <end>', 'criteria is the criteria in the selection of sites <end>', 'floods floods can be good and therefore or or or preventing floods <end>', 'dogs have a more of smell that is more more more sensitive than mans <end>', 'deep flow narrow <comma> deep water and is flow of water is restricted <end>', 'snakes reproduce an allowing an undesirable array of rodents and rodents <end>', 'chinese medicine can provide preventative and treat preventative and provide preventative care <end>', 'iron deficiency is the most common nutritional problem in american females <end>', 'some are groups of people that share some common characteristics <end>', 'individuals are frequently individuals individuals and individuals and and going constantly <end>', 'public authorities keep a vast amount of information about individuals <end>', 'finger finger is caused by a lump of the sheath of and it strikes in and out of the hand <end>', 'temperature is a measure of the size energy of the water molecules <end>', 'good hearing is essential for babies to learn to talk <end>', 'cholesterol is transported <comma> is transported by special proteins proteins <comma> called lipoproteins <end>', 'new involves the addition of the nucleus to form nucleus nucleus to form a new compound nucleus <end>', 'antibodies are substances substances that react against harmful and other harmful substances <end>', 'attributes objects define objects methods of a and objects of a group group of objects <end>', 'circles can be a <comma> a ring <comma> or ring or even a stimulus <end>', 'shared spaces are two that share or three workers share <end>']\n",
            "\n",
            "original : ['many states have laws helping persons with disabilities <comma> the homeless and others to vote <end>', 'many people are also at risk because of their genetic makeup <end>', 'winter brings snow on at least a few occasions <end>', 'plant propagation can also refer to the artificial or natural dispersal of plants <end>', 'tiger sharks are known to have a wide variety of prey <end>', 'dietary protein is supplied from plant and animal sources <end>', 'powdery mildew is a common disease on many types of plants <end>', 'people come in all different sizes <comma> shapes <comma> and colors too <end>', 'chile is a country with extreme poverty <comma> and many of the poor previously had no access to water <end>', 'engineers are the ones who take theoretical knowledge and turn it into useful products and services <end>', 'wildlife can act as reservoirs for diseases that affect both livestock and humans <end>', 'many conditions are the result of a hormonal imbalance in the female body <end>', 'tropical rainforests contain what percentage of the worlds plants and animals <end>', 'regular expressions are a way to match patterns and characters <end>', 'maternal mortality is estimated to be the third highest in the world <end>', 'bubbles flow upwards because they are less dense than the liquid they are in <end>', 'salt domes are a source of salt for many salt mining operations <end>', 'black ice is the cause of some of the most dangerous driving conditions during the winter <end>', 'local taxation is an important part of local autonomy under the constitution <end>', 'native birds abound in the trees <comma> and provide song throughout the day <end>', 'loons are agile swimmers <comma> but they move pretty fast in the air <comma> too <end>', 'flocks can number in the dozens to thousands of birds <end>', 'biodiversity also supplies indirect services to humans which are often taken for granted <end>', 'volcanoes generally occur along plate boundaries and are created when plates collide or move apart <end>', 'public participation is important in all facets of government <comma> whether its research or regulation <end>', 'communication is difficult when everyone is speaking a different language <end>', 'yield mapping is a key component to precision farming <end>', 'antibiotics play only a partial role <comma> the hosts immune system is required to clear the infection <end>', 'complex carbohydrates are also a wonderful source of dietary fiber <end>', 'morning sun is critical for drying the dew on the trees leaves <comma> which helps prevent diseases <end>', 'some types of sheep have horns <comma> which are often curved <end>', 'crystals have different types of symmetry and different kinds of faces <end>', 'proper chewing mixes the food with the saliva <comma> signaling the brain to begin the digestive process <end>', 'ozone is formed when different types of air pollution mix together in sunlight on hot days <end>', 'agriculture accounts for the bulk of us water use <end>', 'infested roots contain fuzzy <comma> white masses of eggs and females <end>', 'horses are few in number since they are luxury animals <comma> owned primarily by the wealthy <end>', 'science requires specific theories and laws that can be used to predict <end>', 'boats usually travel through water at speeds faster than the speed of water waves <end>', 'chloroplasts are found exclusively in plant cells and are the site of photosynthesis <end>', 'tuberculosis is spread through respiratory secretions emitted by coughing <end>', 'kinetic energy is equal to one half the mass times the square of the velocity <end>', 'aerobic exercises are the best exercises for strengthening the heart <end>', 'dogs receive as much exercise as they are used to with their owners <end>', 'taxes are a cost of doing business that are considered when pricing goods <end>', 'puberty can <start> at an early age and progress at a very slow rate <end>', 'hippos prefer to breed in the water but can also do so on land <end>', 'light is an electromagnetic wave <comma> just like the signal emitted by police radar speed cameras <end>', 'turtles know when to come out when it is safe <end>', 'activated macrophages are able to combat viral replication and withstand attack by other pathogens <end>', 'bacteria are microscopic <comma> singlecelled organisms that are abundant in soils <end>', 'sociology is the study of human interactions within a group context <end>', 'affected cats are often between two and six years old <end>', 'wind is the cheapest and fastest to build form of new generating capacity in the world today <end>', 'transparent objects produce secondary rays either by reflection or refraction <end>', 'italian ryegrass is grown for winter pasture <comma> hay <comma> and silage <end>', 'most people think of plants as very passive organisms <end>', 'neutrons carry no charge and have a mass only slightly heavier than that of protons <end>', 'seeds are a favorite food of birds <comma> rodents <comma> and some insects <end>', 'women have a particular stake in environmental health research <end>', 'high levels can impair circulation and lead to hardening of the arteries <end>', 'flowers are a great source of energy for foraging predators and parasites <end>', 'birds move from exposed coasts to more protected areas in autumn <end>', 'social movements are the result of external <comma> uncontrollable forces <end>', 'skin patches are a relatively new way to deliver testosterone <end>', 'predation is the act of one organism eating another <end>', 'arthritis limits the mobility of farmers and ranchers during many farm tasks <end>', 'many business schools have centers that offer career management programs <end>', 'sprawl comes in many forms other than residential development <end>', 'abdominal fat is related to worse health <comma> including greater risk of heart disease and diabetes <end>', 'waters are rich in plankton and there are many species of fish <end>', 'temperature is important to monitor <comma> as the survival and growth rates depend on it <end>', 'rock valley is a farm community with high levels of nitrate in their drinking water <end>', 'sea urchins are sensitive to touch <comma> light <comma> and chemicals <end>', 'babies love to explore the world with their mouths <end>', 'carpets are warmer and softer than hard floors such as hardwood <comma> tile <comma> or concrete <end>', 'smoking affects a persons health in many ways <comma> having both immediate and long term effects <end>', 'control systems regulate heat <comma> light and humidity for day and nighttime patterns <end>', 'plants use the sunlight to build complex molecules that store the energy <end>', 'mercury can cause serious and permanent nerve and kidney damage <end>', 'geologists also study earths long history including the history of life <end>', 'many state laws recognize that when someone is drunk <comma> they are unable to give consent <end>', 'aphids are very common plant pests <comma> and often work in a symbiotic relationship with ants <end>', 'microtubules are created at many sites that are scattered through the cell <end>', 'mindfulness is the capacity of being there body and mind united <end>', 'termination is a sixth stage that applies to some behaviors <comma> especially the addictions <end>', 'vitamin d helps the body absorb calcium <comma> which is important for bones to grow <end>', 'international trade is also a source for disease transmission <comma> most often from animals <end>', 'parents play an extremely large role in the lives of their dependent children <end>', 'technology is used as a tool in the learning process <end>', 'exercise is even more important for children with diabetes than for other children <end>', 'depression affects children and adolescents in a number of areas of functioning <end>', 'forensic scientists have a long list of tools that they use to collect and analyze evidence <end>', 'air pollution can be harmful to people <comma> animals <comma> plants <comma> and structures <end>', 'weeds are easier to pull with all their roots if the soil is moist <end>', 'much food has wine or other alcohol based products in it <end>', 'temperatures drop rapidly when the sun goes behind clouds and at the <end> of the day <end>', 'sounds are really waves of energy that move through a medium <comma> either water or air <end>', 'women have the same rights and opportunities as men socially <comma> in the workplace and at home <end>', 'heat exhaustion is caused by the loss of large amounts of fluid and electrolytes <end>', 'meat is one of the best dietary sources of iron <end>', 'girls are especially vulnerable to depression once sleep deprivation sets in <end>', 'migration is triggered by the length of the day <comma> possibly also the angle of the sun <end>', 'mitosis is how individual cells reproduce and it works fine for that <end>', 'most sport antennae as long <comma> or longer <comma> than their bodies <end>', 'thrombosis remains the leading cause of death in the united states <end>', 'artifacts reflect the physical <comma> economic <comma> and social environment in which they are made and used <end>', 'panic attacks reach maximum intensity within a minute or two of onset <end>', 'exercise is essential for a healthy frog body <comma> or human body <end>', 'heat energy is released as the water vapor in the air condenses <end>', 'ant dispersal is most successful for establishment in young sparse populations <end>', 'water links all components of the environment and is a major force in shaping the landscape <end>', 'several factors affect the amount of snow that can build up on a roof <end>', 'arterial pumps are the devices that circulate the blood <end>', 'chinese medicine is very successful in relieving pain <comma> whether caused by injury or disease <end>', 'unborn babies are at a very vulnerable stage of development <end>', 'stability is the highest virtue because it leads to happiness <end>', 'feminists do fight for freedom of speech when it is a real fight for real freedom of real speech <end>', 'some children lose weight <comma> lose their appetite <comma> or have problems falling asleep <end>', 'universities are essential in the preparation of highly skilled leadership throughout society <end>', 'insects fall into the cone <comma> drown <comma> and are digested <end>', 'bigger eggs tend to lead to bigger young that are more likely to survive <end>', 'propane requires a large volume of air to burn properly <end>', 'dogs differ from humans when it comes to the digestive system as well <end>', 'sweat glands produce moisture on the surface of the skin <end>', 'tillage strongly influences soil microbial communities for various reasons <end>', 'turkish carpets are among the most sought after household items all over the world <end>', 'men have more difficulty than women in forming and maintaining attachments <end>', 'men tend to live a healthier and much longer life if they are married <end>', 'molluscs are a highly diverse group in size <comma> in anatomical structure <comma> in behavior <comma> and in habitat <end>', 'trees lose their leaves in order to grow tender new ones <end>', 'women are also at risk if they have already had a child with a genetic disorder <end>', 'fruit juices contain much simple sugar without much fiber <end>', 'gooseberries grow best in cool <comma> moist locations and can be damaged by intense summer heat <end>', 'fish is done when it flakes easily with a fork <end>', 'businesses have departments and personnel that specialize in particular functions <end>', 'yellow jackets are the most aggressive of the stinging insects <end>', 'electricity is generated in thermal plants using imported petroleum <end>', 'some people have swollen glands <comma> fever and body aches <end>', 'loons have white streaks on their neck <comma> and their head and neck are glossy blue and green <end>', 'lead poisoning is hazardous to the health of people <end>', 'traits are stable qualities in people that have continuous dimensions and quantitative differences <end>', 'prolactin metabolism is delayed in renal failure <comma> and there is also increased production <end>', 'sesame oil can go bad if it is exposed to air and sunlight <end>', 'neighborhoods are places of growing economic activity as well as residential neighborhoods <end>', 'intrusion detection is one of the hottest growing areas of network security <end>', 'metal ions cause the color of many common and uncommon minerals <end>', 'different materials expand at different rates when theyre heated <end>', 'software development is an outlet that allows for creativity in many ways <end>', 'many food sources exist for squirrels in their natural surroundings <end>', 'internal ulcers occur more in men than women <comma> particularly older men <end>', 'roots also develop near drainage holes and soil surface as a result of oxygen starvation <end>', 'flag burning is a rare but powerful and important form of free speech <end>', 'traumatic injury accounts for more lost years of life than heart disease and cancer combined <end>', 'chinese characters are an important part of east asian culture <end>', 'scatter plots display data points in one or two dimensions <end>', 'watery whites are very common and can persist for long periods after egg production returns <end>', 'toxicity can result where high levels of iodine are fed for long periods of time <end>', 'raccoons also enjoy digging for grubs <comma> nuts and berries <end>', 'oil has medicinal properties and speaks of soothing and restoration <end>', 'households are housing and economic units <comma> comprised of one or more individuals <end>', 'bacteria grow and multiply extremely slowly <comma> inhibition takes week antibiotic resistance <end>', 'creative acts occur in the perfection of action in ordinary circumstances also <end>', 'compounds consist of two or more elements in fixed proportions <end>', 'orangutans use a variety of tools and their powerful jaws to break into such fruits <end>', 'some oncologists specialize in a particular type of cancer treatment <end>', 'cultural relativism says that all human action is relative to the culture where the action happens <end>', 'muscles can carry out one type of motion only contraction <end>', 'water is an essential nutrient and it contains zero calories <end>', 'pertussis is most dangerous to babies under one year old <end>', 'endemic species are animals and plants that live in only one region of the world <end>', 'accountability comes through election of judges by the people <end>', 'viruses are parasites <comma> though they are only sort of alive <end>', 'technology is used in assessing student learning using multiple methods <end>', 'resistance has an enormous impact worldwide on control of crop pests and vectors of human disease <end>', 'hawks have three toes pointing forward and one pointing backwards <end>', 'many people claim to have had a religious experience <comma> to have experienced the divine directly <end>', 'science fiction has a much greater scope <comma> and that is the exploration of the human being <end>', 'corticosteroids are the drugs which are usually administered in an attempt to stop the inflammation <end>', 'music is an integral part of what human beings are and can be <end>', 'dirty filters are a breeding ground for parasites and bacteria <end>', 'nutritional deprivation causes calcium loss from bones <comma> which become brittle and prone to breakage <end>', 'nuclear fuel starts with uranium <comma> a naturally occurring radioactive material <end>', 'total revenue is one of the criteria used in the selection of charitable service organizations <end>', 'roots eat and drink nutrients and water <comma> essential for growth <comma> from the soil <end>', 'personality can play a role in producing variation in performance <end>', 'water helps food move through the intestinal tract <comma> eliminates wastes <comma> and prevents constipation <end>', 'brain research shows that physical punishment of young children causes brain damage <end>', 'ozone is produced by passing air through a high voltage electrical discharge <comma> or corona <end>', 'sex is for one man with one woman <comma> committed to each other for life <end>', 'habitat destruction is also a major threat to their survival <end>', 'human value is always higher than any market value <end>', 'paralysis often includes loss of feeling in the affected area <end>', 'risk is a challenge to calculate in the present an unknown future <end>', 'most street children have virtually no access to health care and community services <end>', 'bed bugs are active only at night <comma> usually just before dawn <end>', 'most capacitors are the more reliable ceramic disc type <end>', 'tooth loss can worsen existing medical problems and contribute to psychosocial difficulties <end>', 'forests store large amounts of carbon that are released when trees are cut or burned <end>', 'informed consent is an essential part of medicine today <end>', 'influenza remains a major cause of morbidity and mortality amongst the elderly <end>', 'beta software is software that is being tested to identify bugs <end>', 'interest is a charge on top of the value of the loan <comma> that acts as a cost of the loan <end>', 'biotechnology represents the fastest growing area of employment growth for the future <end>', 'chemical changes involve conversion of a set of materials into other materials <end>', 'distance learning is a natural environment for active learning <end>', 'anarchism is the belief that individuals are the basis of society <end>', 'emotional intelligence is also essential in day to day work <end>', 'many people think that they have arthritis when they really have peripheral neuropathy <end>', 'doves prefer to nest in trees or shrubs on horizontal limbs <end>', 'many people use alcohol and drugs to deal with tension or pain <end>', 'silk starts out as a liquid in the salivary glands <end>', 'most illnesses are short term and pass on their own <end>', 'raccoons are voracious eaters and tend to return to the same location as long as food is available <end>', 'grasses also help hold the flowers upright <comma> and provide cover and seeds for birds <end>', 'tea tree is safe for virtually all skin types <end>', 'lighter fluid remains the favorite method for starting charcoal fires <end>', 'plants typically develop large patches and are difficult to control <end>', 'some species can change color like chameleons to blend in with their surroundings <end>', 'white cedar is naturally insect and rot resistant <comma> nontoxic and safe to handle <end>', 'turbulence is associated with variations in density in the atmosphere <end>', 'some people use computers to gather and organize information <end>', 'quality is more important than quantity when it comes to healthy relationships with others <end>', 'surface water is the states major renewable water source <end>', 'language exists because of how the mind is built <end>', 'molecular substances are the only ones with low boiling points <end>', 'plankton are an important source of food for larger animals <end>', 'life stages refers to the various developmental stages of an animals life <end>', 'volcanic earthquakes are almost always due to the movement of magma <end>', 'cars are more and more expensive and hard for the poor to afford <end>', 'geometric logic is of current interest in theoretical computing science <end>', 'electrochemical reactions produce an electric current in a manner similar to a battery <end>', 'small breeds tend to mature faster than large breeds <end>', 'flamingos are very tall birds and they have long legs <end>', 'comets spend most of their time in one of two areas <end>', 'population growth drives urban sprawl which adversely affects our lives in a variety of ways <end>', 'asteroids range from many kilometers to a few meters or less in diameter <end>', 'lighting is also one of the most common and economical ways to change a rooms appearance <end>', 'aquatic mollusks use gills located in their mantle cavities <end>', 'most deciduous trees are hardwoods with broad leaves which are shed in the fall <end>', 'some muskrats live in burrows on the water banks <end>', 'plant stems are responsive to the loads applied and can increase the amount of fibre if necessary <end>', 'democracy is the best form of government because it allows for individual participation <end>', 'old birds are generally immune as a result of prior infection <end>', 'positive communication focuses on respect for the child and involves both speaking and listening <end>', 'hormones are primarily proteins which require interaction with enzymes to regulate bodily processes <end>', 'some states provide additional unemployment benefits to workers who are disabled <end>', 'digital thermometers are as accurate as glass ones <comma> and are faster <end>', 'female flagella refers to a sensory organ present in some eukaryotes <end>', 'smoking is estimated to be the single largest cause of preventable deaths in the united states <end>', 'statistical maps are just images with noise with variance equal to unity <end>', 'work is the most powerful force in most peoples lives <end>', 'mature cows are identifiable by their size and long slender shape <end>', 'bones grow and strengthen due to exercise and stress <end>', 'children are unable to deliberately focus their attention and control their concentration <end>', 'social rank is based on the amount of group aggression <end>']\n",
            "predicted: ['many states have laws <comma> to to others <comma> to rights to others to vote <end>', 'many people also also at risk because of their genetic makeup <end>', 'winter brings snow at at least a few months <end>', 'natural propagation can also refer to the natural or natural selection of plants <end>', 'tiger sharks are known to have a wide variety of prey <end>', 'protein protein is supplied from plant and animal sources <end>', 'powdery mildew is a common disease on many types of plants <end>', 'people come in all shapes shapes <comma> shapes <comma> colors colors too <end>', 'chile is no country of no poverty <comma> and many had the first had had no access to water <end>', 'engineers are the ones who study knowledge knowledge and turn it into useful products and services <end>', 'diseases can act as reservoirs for diseases that affect both humans and humans <end>', 'many hormonal are a result of a hormonal imbalance in the body body <end>', 'rainforests rainforests contain what plants of the worlds plants and animals <end>', 'regular expressions are a way to match and and characters <end>', 'maternal mortality is estimated to be the highest highest in the world <end>', 'bubbles are in in they are less dense than the liquid they are in <end>', 'salt marshes are a source of salt salt many industrial mining operations <end>', 'black ice is the most of the of the most dangerous problems conditions during the winter <end>', 'local taxation is an important part of the autonomy under the constitution <end>', 'native birds abound in the trees <comma> and song song throughout the day <end>', 'loons are fast <comma> <comma> but they move pretty fast <comma> the air <comma> too <end>', 'birds can number in the dozens of thousands of birds <end>', 'humans also has services services which humans which are often taken for granted <end>', 'volcanoes occur occur when or boundaries and when created when plates move or move apart <end>', 'government policy is important in ensuring government of government whether whether its research or regulation <end>', 'communication is a when speaking is a a different language <end>', 'precision is is a key component to farming farming <end>', 'antibiotics play a a partial <comma> <comma> the immune is system is the to clear the infection <end>', 'complex carbohydrates are also a wonderful source of dietary fiber <end>', 'morning sun is the for treating leaves dew on the leaves <comma> <comma> which helps prevent diseases <end>', 'sheep sheep of sheep are horns <comma> which are often curved <end>', 'different have different types of different and different kinds of faces <end>', 'food digestion leaves the food with saliva saliva <comma> the the digestive to begin the digestive process <end>', 'ozone is formed in sunlight types of sunlight pollution mix on in days on hot days <end>', 'agriculture accounts for the use of water water use <end>', 'white eggs contain white white white eggs and eggs and females <end>', 'horses are the animals the since they are owned animals <comma> since primarily by the supplement <end>', 'science requires specific theories and laws that can be used to predict <end>', 'water travel travel faster water faster speeds faster than the speed of water waves <end>', 'chloroplasts are the in in plant cells and are the site of photosynthesis <end>', 'tuberculosis is spread through respiratory secretions by by coughing <end>', 'terminal energy is equal to the half the times times the square of the velocity <end>', 'aerobic exercises are the best exercises for the the heart <end>', 'dogs are much much as as they are used to their their owners <end>', 'cost are simply cost of goods business that are considered made goods goods <end>', 'puberty can progress at a early age and progress rate a very slow rate <end>', 'hippos can to breed in water water but can also do so on land <end>', 'radar is an electromagnetic wave <comma> just like radar radar beam by sensing track track positions <end>', 'turtles come when it come out when it is safe <end>', 'macrophages viruses are able to attack attack attack and attack attack by other pathogens <end>', 'bacteria are microscopic organisms singlecelled organisms that are abundant in soils <end>', 'sociology is the study of the interactions within a group context <end>', 'cats cats are often between two and six years old <end>', 'wind is the fastest form fastest form help new in transportation capacity in in the world today <end>', 'secondary objects produce electricity reflection or by reflection or refraction <end>', 'winter ryegrass is grown for hay <comma> <comma> hay <comma> and calm <end>', 'most people think of organisms as very passive organisms <end>', 'protons have only charge that have a mass that than heavier than that of protons <end>', 'some are a favorite food of food <comma> insects <comma> insects some insects <end>', 'environmental have a particular environmental in environmental health research <end>', 'high levels can lead circulation of lead to the of the arteries <end>', 'flowers are a great source of energy and predators predators and parasites <end>', 'birds move from more to to more areas areas in autumn <end>', 'external movements are the result of external <comma> external forces <end>', 'skin patches are a relatively new way to deliver testosterone <end>', 'predation is one one of one organism eating another <end>', 'many increases many health of many and many farm many farm situations <end>', 'many schools schools have programs that offer career management programs <end>', 'sprawl comes in many other other than urban development <end>', 'moderate disease is related to greater risk risk including greater risk of heart disease and diabetes <end>', 'plankton are rich in species and there are many species of fish <end>', 'growth is important as monitor <comma> and survival survival rate growth rates depend on it <end>', 'stream drinking is in stream with with high levels of nitrate in their drinking water <end>', 'sea urchins are sensitive to touch <comma> chemicals <comma> and chemicals <end>', 'babies love to explore the world with their mouths <end>', 'hard are softer than hard than concrete <comma> <comma> as concrete <comma> concrete <comma> or concrete <end>', 'smoking affects both long health and both side <comma> both both immediate and long term effects <end>', 'cones systems contain light and light and humidity for day and humidity patterns <end>', 'plants use the complex that store the molecules that store the energy <end>', 'mercury can cause permanent and permanent nerve and kidney damage <end>', 'geologists also study the history history of the life of life <end>', 'many victims laws that that someone they is unsafe <comma> they are unable to give consent <end>', 'aphids are very common <comma> pests <comma> and often work with a symbiotic relationship with ants <end>', 'microtubules are created through the sites that are scattered through the cell <end>', 'mindfulness is the body of mind mind and and mind mind <end>', 'some is the behavioral stage <comma> applies to some orders <comma> especially the truth <end>', 'vitamin d is the body absorb calcium <comma> which is important for bones to grow <end>', 'international trade is also a source for transmission transmission <comma> often often from animals <end>', 'parents play an extremely large role in the dependent of their dependent children <end>', 'technology is used as a tool in learning learning process <end>', 'exercise is more more important for children with diabetes than for other children <end>', 'depression affects a of adolescents in a number of areas of functioning <end>', 'scientists scientists study evidence long history of tools that they use to collect and analyze evidence <end>', 'pollution pollution can be harmful to plants <comma> homes <comma> plants <comma> and structures <end>', 'all are easier to pull if their roots roots if the soil is moist <end>', 'wine products has much in other products products products in it <end>', 'clouds drop at when the clouds rises at at of at the <end> of the day <end>', 'waves are really waves that water through move through a medium <comma> either water or air <end>', 'women have rights same rights as responsibilities in men <comma> <comma> and home home and at home <end>', 'heat exhaustion is caused by the loss of large amounts of fluid and electrolytes <end>', 'meat is one of the best sources sources of iron <end>', 'sleep are especially vulnerable to depression once in in in in <end>', 'migration is also by the length of the day <comma> possibly the the angle of the sun <end>', 'mitosis is fine cells cells and and that works for for that <end>', 'most species bodies <comma> long <comma> longer longer than than their bodies <end>', 'thrombosis remains the leading cause of death in the united states <end>', 'economic are <comma> cultural <comma> cultural <comma> and cultural environment and which they are made of used <end>', 'panic attacks reach a intensity within a minute or two of maximum <end>', 'exercise is essential for human human body <comma> <comma> or human body <end>', 'heat energy is released as the water vapor in the air condenses <end>', 'fragmentation propagation is most successful for young in young lay populations <end>', 'water is is the of the landscape and is a major force shaping shaping the landscape <end>', 'several factors can snow amount of snow that can build up on a roof <end>', 'platelets batteries are the devices that circulate the blood <end>', 'chinese medicine is caused successful in pain pain caused whether by by injury or disease <end>', 'females babies are very a very vulnerable stage of development <end>', 'happiness is the virtue virtue because it leads to virtue <end>', 'real do when when real of real when real is real real real of real freedom of real speech <end>', 'some children lose weight loss appetite their appetite <comma> or have no falling asleep <end>', 'universities are highly in highly highly of highly skilled society throughout society <end>', 'insects are into the cone <comma> and are and are nutritious <end>', 'bigger young tend to have to young young that are more likely to survive <end>', 'propane requires a large volume of air to burn properly <end>', 'dogs seem from the when it comes to the digestive system as well <end>', 'sweat glands produce moisture on the surface of the skin <end>', 'microbial strongly influences soil dynamics communities for various reasons <end>', 'turkish carpets are among the most sought items all items all over the world <end>', 'men have more difficulty in women in forming and maintaining attachments <end>', 'married are to live longer longer longer longer longer if if they are married <end>', 'molluscs are highly highly diverse group in general <comma> habitat habitat <comma> <comma> and habitat <comma> and in habitat <end>', 'trees grow their leaves in order to grow new new ones <end>', 'women also also at risk with they already had had a child with a genetic disorder <end>', 'fruit juices contain much less fiber without much fiber <end>', 'azaleas can best in moist <comma> moist locations and can be damaged by intense heat heat <end>', 'fish is done when it flakes easily with a fork <end>', 'businesses have particular in specialize specialize specialize in particular functions <end>', 'yellow jackets are the most aggressive of the stinging insects <end>', 'thermal generated generated using petroleum petroleum using petroleum petroleum <end>', 'some people have fever glands <comma> body and body aches <end>', 'loons are their and on their neck and and are head and are and blue and and green <end>', 'lead poisoning is the to the health of people <end>', 'traits are qualities qualities that people that have continuous dimensions and quantitative differences <end>', 'prolactin is is delayed <comma> growth growth <comma> and there is also increased production <end>', 'sesame oil can go bad if it is exposed to air and sunlight <end>', 'residential are part of economic economic activity as well as residential neighborhoods <end>', 'internet detection is one of the growing growing areas of security security <end>', 'common ions cause the common and many common minerals minerals things <end>', 'different materials expand when different rates when theyre heated <end>', 'creativity is is an outlet that allows for creativity in many ways <end>', 'many natural sources exist for squirrels in their natural surroundings <end>', 'more fractures occur more women women than women <comma> particularly older men <end>', 'roots also develop beneath soil and as as surface as a result of oxygen starvation <end>', 'anal burning is a powerful but powerful and important form of free speech <end>', 'traumatic disease accounts for more years life of life than cancer disease and cancer combined <end>', 'chinese culture are an important part of east asian culture <end>', 'scatter plots in two in in one or two points <end>', 'gestation periods are very common and can persist long long periods after production production returns <end>', 'iodine can result during long levels of sunlight are fed for long periods of time <end>', 'raccoons also enjoy nuts for berries <comma> berries and berries <end>', 'oil has wonderful properties and promotes of soothing and restoration <end>', 'households are units and negatively units <comma> one of individuals or more individuals <end>', 'antibiotic grow slowly multiply slowly slowly <comma> therefore antibiotic resistance resistance resistance <end>', 'creative action occur in the ordinary of circumstances also also circumstances also <end>', 'compounds consist of two or more fixed in fixed proportions <end>', 'orangutans use a variety of powerful to powerful powerful fruits to break into such fruits <end>', 'some oncologists specialize in a particular type of cancer treatment <end>', 'cultural relativism says that all human action is relative to the culture where the action happens <end>', 'motion can carry motion motion type of motion only till <end>', 'water contains an essential nutrient and contains contains much calories <end>', 'pertussis is one dangerous to one under one year old <end>', 'endemic species are animals that animals that live only one one region of the world <end>', 'accountability comes through the by the by the people <end>', 'viruses are parasites <comma> though they are only sort of alive <end>', 'technology is used in improving methods methods using multiple methods <end>', 'human has an impact impact on on crop of human and and disease of human disease <end>', 'hawks have three toes pointing forward and one backwards forward <end>', 'many people have to have had a religious experience <comma> directly directly experienced directly divine idea <end>', 'science fiction is a much of picture of and that is the exploration of the human being <end>', 'corticosteroids are drugs drugs in are usually used in an attempt to stop the pancreas <end>', 'music is an integral part of what human beings and and can be <end>', 'dirty filters are a breeding ground for bacteria and bacteria <end>', 'calcium loss causes calcium loss which brittle to which causes brittle and prone to breakage <end>', 'nuclear fuel comes with a <comma> a radioactive radioactive radioactive material <end>', 'financing revenue is one of the criteria in in the service of service organizations organizations <end>', 'roots eat for drink nutrients from water from essential for the <comma> or the soil <end>', 'variation types play a variation in producing variation in performance <end>', 'water helps move prevents through the intestinal tract <comma> prevents calcium <comma> and prevents constipation <end>', 'brain research shows that brain causes causes brain brain causes brain damage <end>', 'lightning is transmitted by passing a electrical a high voltage <comma> discharge <comma> or corona <end>', 'sex is for man man <comma> one sex <comma> for for each other for life <end>', 'habitat destruction is also a major threat to their survival <end>', 'human value is always higher than any market value <end>', 'paralysis often includes loss of feeling in the affected area <end>', 'risk is a present to present present present present an unknown future <end>', 'most street children have no no access to community care and community services <end>', 'bed bugs are active only once night <comma> usually just before dawn <end>', 'most ceramic are the more reliable type type type <end>', 'psychosocial decay can impair renal medical problems and contribute to psychiatric difficulties <end>', 'trees are large amounts of carbon dioxide are released when trees are cut or burned <end>', 'informed consent is an essential part of medicine today <end>', 'influenza remains a major cause of mortality and mortality amongst the elderly <end>', 'beta software is that that is being attracted to identify bugs <end>', 'interest is the cost that the of the cost of the loan <comma> as acts as a firm of the firm <end>', 'biotechnology represents the fastest growing area of growth for for the future <end>', 'materials conversion involve a of materials materials of materials into other materials <end>', 'distance learning is a natural learning for learning learning <end>', 'belief is the belief that individuals are the basis of society <end>', 'emotional intelligence is also essential in day to day work <end>', 'many people have that they have peripheral when they really peripheral peripheral neuropathy <end>', 'doves prefer to nest in trees limbs on on soft limbs <end>', 'many people use alcohol and drugs to deal with pain or pain <end>', 'silk starts out as a liquid in the salivary glands <end>', 'most illnesses are short and and pass on their own <end>', 'duck are very eaters as tend to return to the same as as long as available is available <end>', 'grasses also provide hold the seeds for for and provide seeds for seeds for birds <end>', 'tea is is virtually for virtually all skin types <end>', 'deep blood remains the preferred method for starting fire kills <end>', 'plants typically develop and and and are difficult to control <end>', 'some species can change color in to to blend in with their surroundings <end>', 'white squash is resistant resistant resistant resistant resistant to and and resistant to handle <end>', 'turbulence is associated with variations in density in the atmosphere <end>', 'some computers use computers to organize and organize information <end>', 'quality is more important when relationships when it comes to healthy relationships with others <end>', 'water water is the major major source water source <end>', 'language exists because of how the mind is built <end>', 'molecular substances are ones only ones with low boiling points <end>', 'plankton are an important source of food for larger animals <end>', 'life stages the to the developmental stages stages of an animals life <end>', 'earthquakes earthquakes are almost always due to the movement of magma <end>', 'poor are more expensive expensive expensive for expensive to poor poor to afford <end>', 'theoretical science is founded theoretical theoretical in theoretical science science <end>', 'electric reactions produce an electrical current in a manner similar to a battery <end>', 'large breeds tend to mature faster than large breeds <end>', 'flamingos are very tall birds and they have long legs <end>', 'comets spend most of one time in one of two areas <end>', 'sprawl growth affects a sprawl in adversely affects our lives in a variety of ways <end>', 'asteroids range in many kilometers to a few meters or less in diameter <end>', 'lighting is also one of the most economical ways economical ways to change a appearance appearance <end>', 'aquatic mollusks use gills located in their mantle cavities <end>', 'hardwoods deciduous trees are shed which the leaves which are shed in the fall <end>', 'some muskrats live in burrows on the water banks <end>', 'plant stems can necessary to the amount of if can increase if amount of fiber if necessary <end>', 'democracy is the best form of government because it allows for individual participation <end>', 'birds birds are generally asymptomatic as a result of infection infection <end>', 'communication communication involves on both for both child and involves both speaking and listening <end>', 'proteins are proteins proteins which require interaction with proteins to regulate bodily processes <end>', 'some states even additional unions benefits to workers who are disabled <end>', 'digital thermometers are as ones as ones <comma> <comma> and are faster <end>', 'some organ refers to some organ organ found in some genes <end>', 'smoking is the to be the largest largest preventable of preventable deaths in the united states <end>', 'maps maps are just with with equal equal statistical to to structure <end>', 'work is the most powerful force in most peoples lives <end>', 'cows cows are characterized by size long and long shape shape <end>', 'exercise grow and strengthen due to stress and stress <end>', 'children are unable to control control their attention and control their concentration <end>', 'social dominance is based on the amount of aggression aggression <end>']\n",
            "\n",
            "original : ['men are responsible for what goes on during sex <end>', 'plants form the food <comma> directly or indirectly <comma> for every living thing on earth <end>', 'soils are more developed in areas with higher rainfall and more warmth <end>', 'herpes is spread through sexual contact when it enters the body through tiny passages in the skin <end>', 'blackberries produce succulent fruit in summer on woody canes <end>', 'many women feel physically and emotionally drained for a short time after an abortion <end>', 'many scientists believe that the universe is naturally evolving toward a state of maximum entropy <end>', 'climate change is the current day is a global issue <end>', 'some comets come into the inner solar system every few hundred years and travel around the sun <end>', 'p is a measure of the heat transfer rate across a boundary between two materials <end>', 'radium is present in all uranium minerals and is widely distributed in small amounts <end>', 'standard quarter is a division of the standard academic year <end>', 'freshwater snails are common in ponds <comma> streams <comma> marshes <comma> and lakes <end>', 'skin conditions are but one of the many problems caused by hormone allergy and imbalance <end>', 'fungi are organisms that have cell walls that contain chitin <end>', 'all human life is given a soul at the time of conception <end>', 'some land tortoises are vegetarian <comma> and spend their days grazing and foraging <end>', 'wildlife tends to congregate where two different habitats meet <end>', 'many vegetables actually produce and taste better when grown in the cool days of autumn <end>', 'liposuction is a technique used to contour the body by removing fat deposits from specific areas <end>', 'nasal polyps are the most common tumors of the nasal cavity <end>', 'persistent jaundice is associated with a poor outcome <comma> reflecting the underlying disease process <end>', 'spinal manipulation is the application of force by hand to selected joints of the spine <end>', 'air pressure varies with elevation but also with weather systems <end>', 'masturbation is safe as long as there is no exchange of body fluids <end>', 'regeneration is the initiation and the center of our experience of salvation <end>', 'corals form the structural and ecological foundation of the reef system <end>', 'mortgage brokers work with a number of mortgage lenders <end>', 'earth materials vary widely in their ability to transmit and store ground water <end>', 'mountain tapirs have the longest hair <comma> about one inch <end>', 'secondary colors are colors that are produced by combining two primary colors <end>', 'natural fibers cost and weigh less than glass fibers <comma> yet they have comparable technical properties <end>', 'most public schools report having formal school violence prevention programs <end>', 'beta blockers are drugs that have been shown to reduce the risk of another heart attack <end>', 'most businesses are more concerned about profit margins than human rights <end>', 'immunizations protect infants and children from devastating and even fatal diseases <end>', 'cancer cells have a faster metabolism than normal cells <end>', 'institutional access is a highly efficient use of telecommunications resources <end>', 'wood ducks migrate south when colder winter temperatures begin to freeze lakes <end>', 'green plants convert carbon dioxide to oxygen and organic matter <end>', 'irrigation is a key input for agriculture in california <end>', 'some plants secrete wax in small quantity but some are regular source of commercial wax <end>', 'cooked soybeans contain more energy than soybean meal because of their higher fat content <end>', 'gas can even migrate and accumulate in nearby buildings <comma> increasing the risk of explosion <end>', 'dams have major downstream effects in settings throughout the united states <end>', 'some people choose to undergo plastic surgery to improve the appearance of their skin <end>', 'thanksgiving is traditionally a time to share with family <end>', 'petroleum is generated by heating organic matter deposited within marine sediments <end>', 'nuts are fruits and seeds with a hard shell <end>', 'meditation can mean sitting quietly and breathing deeply for a few minutes <end>', 'globalisation is a force for economic growth and job creation <comma> given the right economic policies <end>', 'epilepsy is a disorder marked by sudden releases of electrical energy by the brain <end>', 'earthworms can digest half of their body weight in food matter each day <end>', 'ice erosion is one of the strongest kinds of erosion because glaciers can move very large rocks <end>', 'radiant energy is one of the mechanisms by which energy can enter or leave an open system <end>', 'traits controlled by a single gene with more than two alleles are called multiple traits <end>', 'colostrum builds the immune system and contributing growth factors <end>', 'computers are far more than passive devices for information storage and retrieval <end>', 'fat cows are prone to more metabolic problems and lower production <end>', 'some animals can track each other through scent <comma> but chimpanzees have a bad sense of smell <end>', 'rubella is mild viral illness associated with fever and a generalized rash <end>', 'gold is the most widely traded of the precious metals <end>', 'most credit unions allow credit union members families to join <end>', 'eukaryotic cells have only one chromosome whereas eukaryotic cells have many <end>', 'animals go into space to help conduct scientific research only when absolutely necessary <end>', 'individual parasites utilize only one or a few insects for food <end>', 'feral animals compete for food with domestic livestock <end>', 'all commodities possess a definite quantity of human labour <end>', 'early blight is a very common disease of both potato and tomato <end>', 'poor prognosis is associated with waiting too long before treatment and unsafe sexual practices <end>', 'scientists think that the earliest bony fish had lungs <end>', 'frequent scratching can create open sores that are prone to infection <end>', 'community is more than a location <comma> such as a town or city <end>', 'midges typically pupate in the same habitats where the larvae develop <end>', 'search engines are web pages that serve as applications to scan the internet and index it <end>', 'common knowledge refers to information most educated people know <end>', 'colored rings are due to variations in carbonate composition <end>', 'awareness refers to obtaining increased knowledge about service areas and issues <end>', 'children learn to identify feelings and predict how other people feel <end>', 'brain injuries are extremely dangerous and are often fatal <end>', 'tigers live in forests and grasslands of eastern and southeastern asia <end>', 'dermal toxicity is studied to determine the potential to cause skin irritation <end>', 'most ecosystems are extremely complex <comma> containing many different kinds of biological relationships <end>', 'water falling from the atmosphere as either rain drops or snow is termed precipitation <end>', 'viscosity is a physical property of a liquid that describes how well it flows <end>', 'professional ethics calls for a personal commitment to the highest standards of morality <end>', 'electricity is caused by tiny particles with negative charges <comma> called electrons <end>', 'some legends have four trees holding the sky at the corners of the world <end>', 'attributes is a collection of binary flags that describe some properties of the message <end>', 'water shortages are common <comma> despite abundant rivers and wetlands <end>', 'nematodes reproduce in the vascular system of the plant <comma> reducing the flow of water and nutrients <end>', 'acute diarrhea starts suddenly and lasts a short time <end>', 'circumcision is an operation in which the foreskin over the head of the penis is removed <end>', 'young children are likely to suffer multiple episodes of acute malnutrition <end>', 'fire make everything move <comma> and there is no life if there is no fire <end>', 'fine particulates are an even greater health concern than larger particulate matter <end>', 'diffraction is the process by which light interference is most commonly observed <end>', 'proper sleep is as essential to life as food <comma> water and air <end>', 'exchange rates find the exchange rates of currency around the globe <end>', 'whole grains contain the entire seed of the plant <end>', 'hostile workplace is the result of suppression of peoples natural ability to express themselves <end>', 'marigolds come in many colors of yellow <comma> orange <comma> red <comma> and white <end>', 'physical work causes suppression of ovarian function in women <end>', 'fish farms produce large amounts of wastes <comma> including dissolved inorganic phosphorus and nitrogen <end>', 'whitish tongues can be due to numerous reasons <comma> including things like smoking <end>', 'blood pressure is determined with a device that can detect blood flow in arteries <end>', 'land owners can destroy wolves on or within five miles of their land <end>', 'corporate culture has nothing to do with the size of a company <end>', 'income is the ability to live a good life <end>', 'many couples find greater sexual freedom once the risk of unwanted pregnancy has been removed <end>', 'viruses are heavier then seawater but are kept suspended in the water column by wave action <end>', 'soft drinks are the number one source of added sugars in the american diet <end>', 'spores are able to survive without food or water for long periods <end>', 'cultural differences play a big part in video game content <end>', 'mutation occurs depending what environment the species live in <end>', 'globalization is a complex concept that means different things to different people <end>', 'radiation can induce altered bases and both single and double strand breaks <end>', 'volcanic eruptions occur frequently and can have significant effects on climate over the short term <end>', 'stock prices rise because the value of the companies they represent rises <end>', 'swans are found on all continents except for antarctica <end>', 'civil engineers design the roads the trucks travel on <end>', 'pearls are uniform and are as close as possible to each other <end>', 'conservation is a state of harmony between man and the land <end>', 'nitrogen stimulates new growth and the new growth is highly susceptible to fire blight infection <end>', 'thoughts have no more of a place in emotion than emotion has in thoughts <end>', 'men tend to suffer from hypertension and high blood pressure more than women <end>', 'vitamins are very important <comma> to replenish the well worked system <end>', 'all cephalopods swim by jet propulsion <comma> however squid are the most efficient at it <end>', 'genetic drift can also cause population changes <comma> especially in small populations <end>', 'happiness is the principle of actions and the cause of all good things <end>', 'antlers can grow up to an inch a day <end>', 'marriage is long term prostitution and prostitution is short term marriage <end>', 'perennials can take three or four years to reach a mature size <end>', 'antibiotics can often cure bacterial infections <comma> but they never cure viral infections <end>', 'plants become natural perches that simulate a birds environment <end>', 'anthropology is the discipline that concerns itself with all that it means to be human <end>', 'soil erosion is serious <comma> floods and debris flows occur often in summer <end>', 'adaptations are approaches by animals or any organism to live or survive in a specific condition <end>', 'music is used frequently to accompany exercise activities and interventions <end>', 'dual data is a related error where one variable is used to hold two different types of data <end>', 'agricultural use includes production of crops <comma> livestock <comma> poultry <comma> fish <comma> or cover crops <end>', 'negative charge is shown in blue <comma> positive charge in red <end>', 'alcoholic beverages can trigger hypoglycemia <comma> particularly when taken on an empty stomach <end>', 'similar adaptations are found in cetaceans like dolphins <end>', 'religion plays a large role in the adolescent progression of our society <end>', 'greek philosophers say that water is one of four elements that make up the earth <end>', 'people predict weather and climate changes based upon measurements and patterns <end>', 'tubers have very good red colour which is retained during storage <end>', 'gravity is the invisible force between objects that makes objects attract each other <end>', 'temperature has a great impact on safety and comfort at the workplace <end>', 'single parents depend more heavily on the voluntary cooperation of their children <end>', 'deer eat the grass and browse on the bushes <end>', 'vapour pressure is an indicator of how easily a chemical evaporates into the air <end>', 'life is a span of time composed of a myriad number of decisions regarding the path of life <end>', 'reproductive isolation is introduced as the essential process for understanding speciation <end>', 'someone can drown in a matter of seconds in mere inches of water <end>', 'blood glucose stays in the blood instead of going into the cells <end>', 'children are especially susceptible to the adverse effects of mercury <end>', 'new technology is essential in order to survive in todays business world <end>', 'angels take on countless forms <comma> they can be many things <end>', 'analytical psychology is seen as different from medical psychology <end>', 'fermentation is the process in which the malt <comma> hops <comma> etc <comma> breaks down <end>', 'dandelion is a perennial and persistent lawn weed in much of the northern hemisphere <end>', 'network administration is the general maintenance of networking hardware and software <end>', 'prescription medicines give value medical <comma> social and economic value <end>', 'web browsers read html pages directly <comma> without any additional software <end>', 'conflict is an opportunity to learn and to grow <end>', 'ventilation is the key factor to reducing the airborne concentrations <end>', 'molars line both the upper and lower jaw <comma> but incisors occur only on the lower jaw <end>', 'plants use carbon dioxide to grow <comma> absorbing it through the photosynthesis process <end>', 'many trees loose their leaves during the drier seasons <end>', 'listeria is acquired by ingestion of contaminated food products <end>', 'feral hogs pose a serious concern to land owners and managers <end>', 'viruses live inside a cell and force the cell to make viral copies <end>', 'ulcerative colitis is a disease of the large intestine <end>', 'water reaches the sensitive nerve endings through tiny pores in the snouts hairless leathery skin <end>', 'meteorologists know that heat creates instability <comma> and instability rules tropical weather <end>', 'enzymes aid or control every biological function of the body <end>', 'sexual conduct can include numerous types of sexual activities <end>', 'dogs have a natural instinct to want structure <comma> rules and boundaries <end>', 'analysis of variance is used to interpret experimental results <end>', 'sea turtles are part of two ecosystems <comma> the coastal system and the marine system <end>', 'critical reading is critical thinking applied to the process of reading <end>', 'smokers call in sick about two more days a year than nonsmokers <end>', 'sows usually have two litters per year <comma> roughly half males and half females <end>', 'oral contraceptives are the only prescription available freely to anyone <end>', 'liquid nitrogen is used to explain the effects of cold temperatures on objects <end>', 'honeybees feed on the nectar and pollen produced by flowers <end>', 'electronic publishing is mediated by a computer <comma> an agent capable of processing the information <end>', 'black bears are one of the more common species in north america <end>', 'agriculture is one of the foundations of national development <end>', 'negotiation is a process civilized people use to reach agreement <end>', 'normal distributions are a family of distributions of the same general form <end>', 'diversity is the number of species in an area <end>', 'modern medicine treats the symptoms rather than the cause of an illness <end>', 'fire is part of a healthy southern pine forest <end>', 'severe storms can produce a variety of threatening weather <end>', 'annual flowers take center stage in the summer season <end>', 'sharks are very good predators because of their excellent eyesight <end>', 'baptism symbolizes our acceptance of that fact by faith <end>', 'rip currents are very dangerous and can pull people out to sea <end>', 'most stars have essentially the same chemical composition <comma> yet show different absorption spectra <end>', 'some young people are social smokers <comma> lighting up only at parties or when they go out <end>', 'electronic mail is the transmission of messages over communications networks <end>', 'massage improves the circulation and nutrition of the joints and can increase joint range of motion <end>', 'some people spend much of their lives feeling like victims <end>', 'anthropologists try to see other cultures from the point of view of a person from that culture <end>', 'happiness is a state of mind of being happy <end>', 'reproduction is by birth of live young throughout the growing season <end>', 'most people associate chiropractic only with back and neck pain <end>', 'kidney transplants are successful <comma> especially when the donor is a close relative <end>', 'nitrate levels continue to increase in the environment because of various farming practices <end>', 'all organisms carry out each of the ecosystem processes to some extent <end>', 'many mental illnesses are characterized by certain forms of unwanted automatic behaviour <end>', 'tornadoes strike at any time of the day or night <end>', 'some people feel anxious and tense because of events in their past <end>', 'most meteorologists work for the government <comma> a university <comma> or a media outlet <end>', 'charts are a powerful way of presenting information to others <end>', 'water pressure causes the net at the point to drop <comma> allowing the dolphins to escape <end>', 'education is a critical element for any countrys adoption of technology <end>', 'roaches can live inside and eat the glue that holds the bags and boxes together <end>', 'ear mites are a very contagious organism that thrives within the ear canal of dogs and cats <end>', 'instruction code is what tells the computer what to do <end>', 'leaves obtain nutrients from the air <comma> soil <comma> and water <end>', 'technological development transforms what it is to be human <end>', 'time is the thing that bonds all things together <end>', 'food grows out of the earth <comma> but underneath the same earth all is torn up and crushed <end>', 'price competition is significant in the computer software industry <end>', 'libraries play an important role in the education and development of children <end>', 'sharks are one of the few sea creatures that practice internal fertilization and bear live pups <end>', 'violence is a behavior that occurs in many different forms <end>', 'hypertension is a disease that is common in the united states <end>', 'flower essences have no side effects and can combine with any treatment of traditional medicine <end>', 'accounting is recognized as one of the worlds leading professions <end>', 'many different patterns can exist at the same time in the same body of water <end>', 'some philosophers distinguish between personal ethics and social ethics <end>', 'science is organized into four units in which inquiry and discovery are the focus <end>', 'sandy shores consist of small <comma> hard rock particles of silica and other minerals <end>', 'androgens are converted to estrogen in various parts of a mans body <comma> including bone <end>', 'some women notice an improvement in their acne during pregnancy <end>', 'surgical menopause is when both the uterus and ovaries are removed <end>', 'many objects are too large to leave the stomach <end>', 'money is a way for households to store their savings <end>', 'virtual particles pop into existence for incredibly brief periods of time <comma> then disappear again <end>', 'cellular suicide is also necessary in the fetal development of some organs and tissues <end>', 'self esteem is enhanced when people feel respected and accepted <end>', 'evolution belongs more in the realm of philosophy or religion <end>', 'pear trees require six to eight years to produce a commercial crop <end>', 'tourism is among the three largest industries in each of the western states <end>', 'people can transmit the infection after handling sick or dead birds <end>', 'breast milk is one of natures most perfect foods <end>', 'farms also face threats from industrial and agricultural pollution <end>', 'organisms so created can <start> <comma> after the development phase <comma> to reproduce <end>', 'optical designers try to minimize color errors for human vision <end>', 'inadequate nutrition can worsen chronic diseases such as diabetes and heart disease <end>', 'oil exports are crucial to the countrys economic recovery <end>']\n",
            "predicted: ['sex are responsible for what goes on during sex <end>', 'plants form the sun <comma> or <comma> indirectly <comma> for some thing thing on earth <end>', 'more are more in in areas with more rainfall and more warmth <end>', 'herpes is spread through the contact in it enters tiny skin in tiny skin in the skin <end>', 'canes produce fruit canes on canes on woody canes <end>', 'many women feel an and an for for a year time after an abortion <end>', 'scientists scientists believe that the universe is formed set toward a state of maximum entropy <end>', 'climate change is a current issue a a global issue <end>', 'some comets travel into the sun sun system and few hundred and and travel around the sun <end>', 'p is a measure of the materials transfer across between a two between two materials <end>', 'radium is found in all small and and is distributed distributed in small amounts <end>', 'standard deviation is the standard standard the standard setting year <end>', 'freshwater marshes are common in ponds <comma> marshes <comma> marshes <comma> and rivers <end>', 'many conditions are caused one of the many problems caused by hormone imbalance and problems <end>', 'fungi are organisms that have cell walls that contain chitin <end>', 'human human life is at at soul at the time of conception <end>', 'some tortoises tortoises are vegetarian <comma> and spend their days and and grazing <end>', 'habitats tends to meet habitats two different habitats meet <end>', 'many plants produce produce better tolerate better in cool in the autumn days of autumn <end>', 'liposuction is a technique used by protect fat body fat removing fat deposits from specific areas <end>', 'nasal polyps are the most common tumors of the nasal cavity <end>', 'severe insomnia is a with a disease outcome <comma> disease the process disease process <end>', 'spinal manipulation is the manipulation of force by manipulation to the of of the spine <end>', 'air also appears with elevation but also with weather systems <end>', 'masturbation is as as there as there is no exchange of body fluids <end>', 'salvation is the initiation of the center of our experience of salvation <end>', 'structural form the foundation and foundation foundation of the reef system <end>', 'mortgage brokers work with a number of mortgage brokers <end>', 'earth water vary widely in their ability to transmit water store water water <end>', 'mountain tapirs have one longest hair <comma> one one inch <end>', 'secondary colors are colors that are produced by combining two primary colors <end>', 'natural fibers weigh heavily weigh less than they <comma> <comma> they they have no general properties <end>', 'most schools schools report schools school schools programs programs programs <end>', 'beta blockers are another that have been shown to reduce the risk of another heart attack <end>', 'most businesses are concerned concerned about profit than than human rights <end>', 'immunizations protect children and diseases from devastating diseases even fatal diseases <end>', 'cancer cells have a faster metabolism than normal cells <end>', 'telecommunications information is a highly efficient use of telecommunications resources <end>', 'raccoons ducks begin south to winter seasons begin begin to freeze lakes <end>', 'green plants convert organic dioxide and organic and organic matter <end>', 'irrigation is a key factor for agriculture in california <end>', 'some plants are wax in some organic but some are good wax of wax wax <end>', 'soybeans soybeans contain more than than fat meal because of their fat fat content <end>', 'gas can accumulate accumulate in accumulate in the risk <comma> increasing the risk of explosion <end>', 'dams have major effects effects throughout canada throughout the united states <end>', 'some people choose to improve surgery surgery to improve their appearance of their skin <end>', 'thanksgiving is traditionally a time with share with family <end>', 'marine is generated by marine within matter deposited within marine sediments <end>', 'fruits are fruits and hard with a hard shell <end>', 'meditation can mean a for and breathing for for a few minutes <end>', 'economic is the way given economic growth <comma> economic creation <comma> given right right economic policies <end>', 'epilepsy is a brain of by the progress of the energy by the brain <end>', 'earthworms can digest half of their body weight in which content each day <end>', 'erosion erosion is one of the erosion kinds of rocks because large can move very large rocks <end>', 'energy energy is the of the mechanisms by which an can enter an leave an open system <end>', 'single are by a single gene are two than two traits called called multiple traits <end>', 'colostrum builds the growth system and impact factors factors <end>', 'computers are far more passive passive data and retrieval and and retrieval <end>', 'more diets are more to more metabolic and and lower production <end>', 'some indoor can sense smell other sense a <comma> but have have a great sense of smell <end>', 'rubella is a viral illness and with a and a rash rash <end>', 'gold is the most precious precious precious the precious metals <end>', 'most credit unions allow families to families to to join <end>', 'eukaryotic cells have many one chromosome whereas eukaryotic cells have many <end>', 'scientific conduct only scientific scientific help scientific scientific research necessary when necessary necessary <end>', 'parasites parasites utilize food one or a few insects for food <end>', 'feral animals compete with livestock with domestic livestock <end>', 'all commodities possess a definite quantity of human mortality <end>', 'early blight is a very common disease of both potato and potato <end>', 'sexual treatment is treated with sexual sexual long and sexual and sexual sexual phenomenon <end>', 'scientists think that bony bony fish fish had lungs <end>', 'open scratching can open open sores that are prone to infection <end>', 'community is more than a city city such as city city or city <end>', 'midges typically develop in the same areas where the larvae develop <end>', 'search engines are places pages that serve as the and serve the internet and index it <end>', 'most knowledge refers to educated educated educated people know <end>', 'rings variations are due to variations in composition composition <end>', 'reform refers to childrens and jobs and service areas and issues <end>', 'children learn how feel other and how how people people feel <end>', 'brain injuries are often dangerous and can often fatal <end>', 'eastern live in forests and grasslands of eastern and southeastern asia <end>', 'skin capacity is the to determine the skin irritation cause skin irritation <end>', 'biological biological are extremely complex <comma> containing many different kinds of biological relationships <end>', 'rain falling from precipitation atmosphere is precipitation precipitation is or precipitation is condensed precipitation <end>', 'viscosity is a physical property that a well that describes how well it flows <end>', 'professional ethics provides for a commitment commitment to the morality standards of morality <end>', 'electricity is caused by particles particles called negative charges <comma> called electrons <end>', 'some trees have trees corners at at corners at the corners of the world <end>', 'some is a collection of the images that describe the properties of the way <end>', 'wetlands wetlands are common <comma> abundant wetlands rivers and wetlands <end>', 'nematodes reproduce in the vascular system of the plant <comma> reducing the flow and nutrients and nutrients <end>', 'acute diarrhea starts suddenly and lasts a short time <end>', 'circumcision is an inflammation in which the foreskin is the head is the penis is removed <end>', 'young children are particularly to suffer multiple episodes of acute malnutrition <end>', 'fire is no there <comma> and there is no fire if there is no fire <end>', 'fine centipedes are an even larger health concern than larger particulate matter <end>', 'light is the process by which most is is commonly commonly observed <end>', 'water sleep is as essential to life <comma> food <comma> water and air <end>', 'exchange rates rates the rates rates of currency around the globe <end>', 'whole grains contain the entire plant of the plant <end>', 'natural behavior is the natural of peoples of peoples ability ability to express themselves <end>', 'marigolds come in many colors of red <comma> red <comma> red <comma> and white <end>', 'women work causes women of women function in women <end>', 'fish produce produce large amounts of dissolved <comma> including dissolved phosphorus and and nitrogen <end>', 'numerous characteristics can be numerous to numerous things <comma> including things like smoking <end>', 'blood pressure is a in blood blood that can flow blood flow in arteries <end>', 'wolves can can destroy or within land within their land of their land <end>', 'corporate culture has nothing to do with the company of a company <end>', 'life is the ability to live a good life <end>', 'sexual women find sexual sexual risk of the unwanted of pregnancy pregnancy has been removed <end>', 'viruses are free than free free are suspended suspended in the water column by their action <end>', 'soft drinks are one number one source of sugars sugars in the american diet <end>', 'spores are able to survive for food for water for long periods <end>', 'game differences play a big game in content content content <end>', 'mutation occurs in in species species species live in <end>', 'globalization is a complex concept that means different things to different people <end>', 'single can partially both and and both single and partially current breaks <end>', 'volcanic eruptions can on on can have significant effects on the over the short term <end>', 'stock prices rise because the companies of the companies they represent prices <end>', 'swans are found on all continents except for antarctica <end>', 'civil engineers design the roads on travel on on <end>', 'pearls are close and can close close to to to each other <end>', 'fire is a state of harmony between the and the land <end>', 'growth growth the growth and the new growth hormone highly susceptible to fire blight infection <end>', 'thoughts of more more of a emotion in emotion than in has in tension <end>', 'women tend to suffer hypertension hypertension and blood blood pressure more than women <end>', 'vitamins are very important <comma> to flush the system called system <end>', 'cephalopods cephalopods are at the propulsion <comma> while are are at most efficient at it <end>', 'genetic drift can also cause small changes <comma> especially in small populations <end>', 'happiness is the principle of all and all cause of all good things <end>', 'antlers can grow up to a inch a day <end>', 'marriage is short term and and prostitution is short term commitment <end>', 'perennials can take a or four years to mature a mature size <end>', 'antibiotics can cure cure viral infections <comma> but they never viral viral infections <end>', 'birds create birds birds that simulate a birds environment <end>', 'anthropology is the discipline that has itself to all that it be to be human <end>', 'erosion erosion is often <comma> often and debris occur often in in summer <end>', 'adaptations are lost to any or any organism to survive in in in a specific condition <end>', 'exercise therapy frequently frequently and exercise exercise and and interventions <end>', 'dual data is especially different set to different variable is different to make different different types of data <end>', 'livestock production includes production of crops <comma> livestock <comma> poultry <comma> fish <comma> or cover crops <end>', 'charge charge is shown in red charge positive charge in red <end>', 'alcoholic beverages can be a <comma> particularly when taken on an empty stomach <end>', 'dolphins dolphins are found in dolphins like dolphins <end>', 'religion plays a large role in the participation participation of our society <end>', 'elemental mythology say that one is one of four elements up make up the earth <end>', 'climate predict climate patterns climate change based upon and and patterns <end>', 'red colour very good colour colour which is noted during storage <end>', 'gravity is the objects objects between objects which attract objects attract each other <end>', 'safety has a great impact on safety and comfort at the workplace <end>', 'financial parents depend heavily heavily on the voluntary cooperation of their children <end>', 'deer browse grass grass and browse on the bushes <end>', 'air pressure is how indicator of how the the chemical evaporates into the air <end>', 'life span a measure of life regarding of a number of of decisions regarding the goal of life <end>', 'reproductive isolation is essential as understanding understanding process for understanding reproduction <end>', 'mere can drown in mere matter of mere of mere inches of water <end>', 'blood glucose decreases in the blood instead of going into the cells <end>', 'children are especially susceptible to the adverse effects of mercury <end>', 'technology business is essential to order to survive in todays business world <end>', 'angels can on many forms <comma> they can be many things <end>', 'psychology psychology is seen as psychology from medical psychology <end>', 'hops is the process in which <comma> breaks breaks breaks <comma> breaks <comma> breaks down <end>', 'perennial root a perennial weed persistent weed in in much of the northern hemisphere <end>', 'internal maintenance is the general maintenance of hardware and and software <end>', 'medical medicines give value <comma> <comma> economic and economic value <end>', 'browsers browsers communicate without <comma> <comma> without without any additional software <end>', 'conflict is an opportunity to learn and to grow <end>', 'ventilation is the key factor to reducing the airborne concentrations <end>', 'upper occur only the upper jaw lower jaw <comma> but only only only on the lower jaw <end>', 'plants use carbon dioxide <comma> absorbing <comma> absorbing it through the photosynthesis process <end>', 'many trees rest their leaves during the drier seasons <end>', 'listeria is acquired by ingestion of contaminated food products <end>', 'feral hogs pose a serious concern to owners owners and managers <end>', 'viruses make a a viral and make the viral to make viral copies <end>', 'ulcerative colitis is a large of the large intestine <end>', 'tiny mites the tiny skin through through tiny pores in the skin skin skin skin <end>', 'meteorologists create that negative creates warm <comma> instability watch instability tropical weather <end>', 'enzymes control the control the function function of the body <end>', 'sexual activities can include numerous types of sexual activities <end>', 'dogs have a natural instinct to rules <comma> <comma> rules and boundaries <end>', 'regression is speech is used to interpret experimental results <end>', 'coastal turtles are marine of the marine <comma> the marine system and the marine system <end>', 'critical reading is critical to applied to the process of reading <end>', 'smokers breed about about two two days days a year than nonsmokers <end>', 'males usually have half litters per year <comma> half half males and half females <end>', 'oral contraceptives are only only available drug to to anyone <end>', 'liquid nitrogen is used to explain the effects of cold temperatures on objects <end>', 'flowers feed on the nectar produced pollen by by flowers <end>', 'electronic publishing is an by the computer <comma> an processing expressing of the the information <end>', 'black bears are one more the more common species in north america <end>', 'agriculture is one of the foundations of national development <end>', 'negotiation is a process to use use to reach agreement <end>', 'normal distributions are a form of distributions of the same general form <end>', 'diversity is an number of species in an area <end>', 'modern medicine treats the symptoms of than the cause of an illness <end>', 'fire blight a of a healthy southern forest forest <end>', 'severe weather can produce a variety of weather weather <end>', 'annual flowers take in in in the summer season <end>', 'sharks are excellent good predators because of their excellent eyesight <end>', 'baptism recognizes faith faith of faith faith is faith <end>', 'rip currents are very dangerous and can pull out out to sea <end>', 'most chemical have different the same composition composition <comma> yet show different continuous pattern <end>', 'many people people are social at <comma> or or when when or when when they go out <end>', 'communications mail is the transmission of messages over networks networks <end>', 'massage can circulation range and joints and joints joints and can increase joint range of motion <end>', 'some people spend much of their lives with like victims <end>', 'anthropologists try to view the cultures from a level of view that a culture which which culture <end>', 'happiness is a state of mind being being happy <end>', 'reproduction is by birth of young throughout throughout the growing season <end>', 'most people only back with with neck pain neck pain <end>', 'blood transplants are successful <comma> especially when the palm is a close relative <end>', 'various levels continue to increase in the environment because of various practices practices <end>', 'all organisms carry out of of the ecosystem processes to some extent <end>', 'many mental illnesses are characterized by certain forms of automatic automatic behaviour <end>', 'tornadoes strike at any time of the day or night <end>', 'some people feel anxious because because because of their in their past <end>', 'most media work for a media <comma> a media <comma> or a media charter <end>', 'charts are a powerful way of linking information to others <end>', 'dolphins dolphins causes the net to the water to capture off allowing dolphins dolphins to escape <end>', 'education is a critical element of any countrys creation of technology <end>', 'roaches can eat and the glue the glue and the the boxes and roll together <end>', 'ear mites are a very contagious organism that attracts within the ear and of cats and cats <end>', 'code tells is what tells the computer what to do <end>', 'leaves obtain water from the soil <comma> water <comma> and water <end>', 'human development is what it is to be human <end>', 'time is the thing that bonds all things together <end>', 'every is up of the earth <comma> but all the earth cell is is left up and else <end>', 'computer competition is the in the computer software industry <end>', 'libraries play an important role in the development and development of children <end>', 'sea are one of the few predators predators that bear and fertilization and bear live pups <end>', 'violence is a disease that occurs in many different forms <end>', 'hypertension is a disease that is common in the united states <end>', 'traditional essences can no side effects with can combine with traditional traditional of traditional medicine <end>', 'accounting is recognized as one of the worlds leading professions <end>', 'different different places exist exist in the same time of the same body of water <end>', 'most ethics distinguish between ethics ethics and social ethics <end>', 'science is the into the units in the the and the are the focus <end>', 'hard rock consist of hard particles hard particles particles of other and other minerals <end>', 'bone are a to bone <comma> various parts of body body body <comma> including bone <end>', 'some women notice an improvement in their menstrual during pregnancy <end>', 'ovaries menopause is removed the ovaries ovaries and ovaries are removed <end>', 'many large are too large to leave the stomach <end>', 'money is a store for savings to store their savings <end>', 'circular existence move for brief for brief brief periods <comma> time <comma> then moving rapidly <end>', 'fetal development is also necessary in some development system of some tissues and tissues <end>', 'moral esteem is when when people feel and and accepted <end>', 'religion of more in the realm of religion or religion <end>', 'female trees require a to eight years to produce a crop crop <end>', 'tourism is the the largest largest industries in the western the western states <end>', 'birds can transmit the dead after dead dead or dead birds <end>', 'breast milk is one of natures most perfect foods <end>', 'farms also protect pollution from agricultural and agricultural pollution <end>', 'organisms can <comma> <comma> <comma> <comma> to the temperature to <comma> to reproduce <end>', 'optical designers try to minimize vision vision for human vision <end>', 'inadequate nutrition can include disease diseases such as diabetes and heart disease <end>', 'sulfur prices are crucial to the countrys economic recovery <end>']\n",
            "\n",
            "original : ['hair is an essential part of a persons appearance <end>', 'cave paintings are some of the oldest art forms in existence <end>', 'density is a very important property of water masses since it determines whether they sink or float <end>', 'animals typically live with their kin <comma> or their closely related relatives <end>', 'transgenic crops are under development that resist pests and insects <end>', 'genetic information comes from only one parent <comma> and all offspring are virtually identical <end>', 'several proteins produced by plants are already in clinical trials in the united states <end>', 'women hold a record number of positions in state as well as federal government <end>', 'pacific salmon live in the northern pacific ocean off the coasts of north america and asia <end>', 'cigarettes are the single leading cause of fires in the nation <end>', 'recent studies show that depression is one of the top medical conditions affecting women <end>', 'carbohydrates are also in foods such as breads <comma> cereals <comma> and pasta <end>', 'gravitational force causes every object to attract every other object <end>', 'some child care is provided in the public sector <end>', 'radio is a prime source for news and entertainment <end>', 'images are pictures and graphics that can be included on web pages <end>', 'green tea comes from a large shrub with evergreen leaves <end>', 'muscles have to work together in groups or in pairs <end>', 'most orchids receive their nourishment through the air <comma> moisture in the soil or rain <end>', 'lavender is one of the most commonly used fragrant herbs <end>', 'exercise is also an effective treatment for depression after it occurs <end>', 'body lice are parasitic insects that live on clothing and bedding used by infested persons <end>', 'education is a critical part of the infrastructure for the knowledge economy <end>', 'vitamins are essential components for specific biological cellular functions <end>', 'permeability is the capability of a rock or sediment to allow the passage of fluids <end>', 'parents play a large part in a child s early socialization <end>', 'children are the most common victims of household poisonings <end>', 'children can be angels or devils <comma> depending on the kind of nurturing they receive from others <end>', 'safety is extremely important when working in a laboratory <end>', 'most states have some sort of victims rights law <end>', 'depth is an important part of our understanding and appreciation of landscape <end>', 'physical fitness is a desired trait for all federal government employees <end>', 'accountants play a key role on the management team in most organizations <end>', 'plants are productive <comma> resistant to root diseases <comma> and are quite tolerant to fruit rots <end>', 'bicycles are a healthy alternative to vehicles <comma> and produce no emissions in their use <end>', 'careful planning is part of what makes a person wise and productive <end>', 'individuals can adapt <comma> but it takes a whole population to evolve <end>', 'gallstones build up from chemicals in the bile <comma> usually cholesterol <end>', 'organic chemists are also very interested in the three dimensional shapes of molecules <end>', 'many workplaces also extend education in first aid and safety procedures <end>', 'unsafe abortions can be very dangerous to the mother <end>', 'many weeds are pests because they have become resistant to herbicides <end>', 'corn starch has twice the thickening power of flour <end>', 'prokaryotes contain much less dna than eukaryotes and have circular chromosomes <end>', 'rainy seasons appear to show an increase in maximum cloud counts <end>', 'trees are the most important plants in temperate forests <end>', 'government regulations are a cost that businesses are forced to pass on to their customers <end>', 'software is the set of instructions that tell a computer what to do <end>', 'education is an investment in the future of our respective countries and of the region <end>', 'wind can also cause plants damage through sand abrasion <end>', 'atoms are made of a positive nucleus surrounded by negative electrons <end>', 'few animals can open their mouths as wide as hippos can <end>', 'gender imbalance is also still strong in the two groups of the poorest countries <end>', 'stress can irritate asthma and gastrointestinal disorders like ulcers and irritable bowel syndrome <end>', 'virtual machine is used to offer common architecture on any machine <end>', 'sediment is one of the most damaging pollutants to our drinking water source and life in the river <end>', 'older children are more likely to be adopted by their foster parents if visits have occurred <end>', 'cattle generally perform at a higher level in northern climates <end>', 'frogs have more welldeveloped hind legs than toads do <end>', 'cold deserts have grasses and shrubs as dominant vegetation <end>', 'antibiotics are strong medicines that can stop some infections and save lives <end>', 'sickle cell is an inherited disorder that affects red blood cells <end>', 'animal foods are higher in fat than most plant foods <comma> particularly saturated fats <end>', 'parents play a vital role in the education of their children <end>', 'time is marked by the change of the weather and the mood of the sea <end>', 'effort is another main indicator of motivation to learn <end>', 'cheese is cured or aged by the process of microorganisms <comma> which are living things <end>', 'prions are a form of virus that are basically abnormal clumps of proteins <end>', 'alcoholism is an illness <comma> and as such <comma> can be effectively treated <end>', 'predators are generally as large or larger than the prey they feed on <end>', 'american farmers use agricultural equipment day in and day out <end>', 'older adults are five times more likely than younger adults to report problems with constipation <end>', 'liquid water seems to be the one element needed for the equation of life on mars <end>', 'image sizes refer to the dimensions of the image itself <comma> excluding the title and border <end>', 'female gametophytes occur only in the seeds <comma> and male gametophytes only in the pollen <end>', 'tomato plants can be toxic to dogs if they eat large amounts of the fruit <comma> or chew plant material <end>', 'interest is a charge for the time value of money <end>', 'opossums depend on smell and touch to find meals <end>', 'soaps can also aid in the passage of insecticides through the waxy insect cuticle <end>', 'gene products produced by nurse cells are controlled by both alleles of the female <end>', 'most modern scientists climb using methods that minimize harm to the environment <end>', 'electronic mail is the most widely used application on the internet <end>', 'light is our primary means of sensing our surroundings <end>', 'fossils help people learn how life on earth developed <end>', 'family literacy involves a one way transfer of skills from parents to children <end>', 'engineering provide workplace barriers that prevent or reduce worker exposure to harmful substances <end>', 'obesity is among the easiest medical conditions to recognize but most difficult to treat <end>', 'koalas are native to southeastern and eastern australia <comma> living in forests of eucalyptus trees <end>', 'public transit is important to the many people who use transit to get to work <end>', 'methods are the sequences of statements that operate on the data <end>', 'ticks feed on the blood of the host in which they live <end>', 'brown tissue means that portion of the stem is dead <end>', 'molecules can move <comma> rotate <comma> and molecular bonds can break <end>', 'symbol is an image that represents or stands for something else <end>', 'oil pollution pose a serious threat to the environment as well as to commercial interests <end>', 'ischemic colitis occurs as the result of reduced blood flow to the intestines <end>', 'rape is sexual penetration involving force or the threat of force <end>', 'speciation is the formation of new species from older species <end>', 'primary explosives are very unstable and rapidly react to shock <comma> friction <comma> and heat <end>', 'congestion pricing is a tax on using a road during peak hours <end>', 'science is the study of the patterns and rules in the natural world <end>', 'heart rot is caused by a variety of species of wood decay fungi <end>', 'most raccoons are healthy and harmless <comma> but raccoons can be infected with rabies <end>', 'linguists believe that it is easier for a child to learn a second language than it is for an adult <end>', 'barley malt is a good substitute for brown sugar <end>', 'blood is said to nourish the skin in chinese medicine <end>', 'history deals with general patterns <comma> big pictures <comma> causes and consequences <end>', 'platelets are an important part of the clotting factor in blood <end>', 'professional nurses play a critical role in the evolution of health care <end>', 'subsistence fishing is a right and a way of life for tribal and aboriginal communities <end>', 'some psychologists study animal behavior rather than the behavior of people <end>', 'all chemical processes have an ideal ph at which they are most efficient <end>', 'depression is treatable <comma> no matter what the persons age <end>', 'smoking combined with radon exposure is an especially dangerous health risk <end>', 'vesicles appear at the tips of lateral cell walls where branching occurs <end>', 'air freight is usually the first freight mode to experience any changes in economic activity <end>', 'bee comes from belly related via the mothers side <end>', 'dates are also rich in minerals like potassium <comma> phosphorus <comma> and magnesium <end>', 'transitions are the place where most actors fall apart <end>', 'gametes vary in shapes and sizes in different animals <end>', 'many organisms build <comma> modify or destroy physical structures in the environment <end>', 'eastern thought makes no distinction between man and cosmos <end>', 'many abusive men hold a view of women as inferior <end>', 'creativity is a way of thinking and a way of doing <end>', 'national museums make statements and ask questions about national identity <end>', 'tree roots seeking moisture can grow through cracks in the lines <comma> causing a blockage <end>', 'segmented worms have tubes to remove waste in each segment <end>', 'some books say that having preexisting thyroid problems increases miscarriage risk <end>', 'sociology is the scientific study of human social relationships and structures <end>', 'fungi behave like bacteria but are less resistant to high temperatures <end>', 'air pollution remains one of the most complex environmental health issues of our time <end>', 'children also work less efficiently in terms of oxygen cost of exercise than do adults <end>', 'some parents block parts of the internet they think are bad for children to see <end>', 'any fossil fuel releases heat and chemical energy after combustion <end>', 'polyester is a polymer produced from coal <comma> air <comma> water <comma> and petroleum products <end>', 'photosynthesis happens in chloroplasts within plants <comma> which typically are found in the green parts <end>', 'oral health is essential to total health and well being throughout life <end>', 'chemical composition is the most widely used basis for classification <end>', 'spectroscopy plays an integral part in modern forensic science in the identification of substances <end>', 'social assistance is meant to cover the housing costs of clients <end>', 'fertility doctors are the highest paid doctors of all <end>', 'conduct disorders can occur alongside adolescent depression and attention deficit disorder <end>', 'sloths stay up in trees most of the day <comma> almost never coming down <end>', 'bunch grass is classic arid adapted grass occurring in scattered clumps <end>', 'metabolic efficiency is significantly increased and more usable energy is produced with less heat <end>', 'cataracts are more common in patients with atopic dermatitis <end>', 'bull fighting is an ancient tradition that still continues today <end>', 'some research indicates that insomnia can have a genetic component <end>', 'many psychological studies show that over motivation degrades performance at most tasks <end>', 'family support refers to services provided to help families keep a member with a disability at home <end>', 'mammals live in all kinds of habitats from the tropics to the polar regions <end>', 'depression is a natural consequence of certain physiological or psychological circumstances <end>', 'books are written by people and teachers are people <end>', 'blues prefer clean <comma> flowing rivers and can tolerate salinity more than other species of catfish <end>', 'many fungi are able to reproduce by both sexual and asexual processes <end>', 'dolphins can hold their breath for five to eight minutes <end>', 'vitamin d is obtained through intestinal absorption and through sun exposure <end>', 'many species are endangered and some are close to extinction <end>', 'trees are an indicator of climate <comma> soil and water <end>', 'heart disease is two to four times more common among people with diabetes <end>', 'xenon is a rare atmospheric gas and as such is nontoxic and chemically inert <end>', 'violence is a complex problem that has no one identifiable cause <end>', 'more psychiatrists begin to diagnose and treat the disorder successfully in children <end>', 'occupational illnesses are new cases recognized <comma> diagnosed <comma> and reported during the year <end>', 'fires are a natural part of the life cycle on the savanna <end>', 'milk protein can cause serious reactions in persons allergic to milk products <end>', 'frostbite can cause serious injury and needs immediate medical attention <end>', 'water always moves from areas of higher potential to areas of lower potential <end>', 'pets can cause problems for allergic patients in several ways <end>', 'corporate life has more control over peoples lives than governments do <end>', 'inflation is defined as an increase in the average price level in the economy <end>', 'some defective genes are more common in certain ethnic groups <end>', 'protists represent some of the most diverse branches in the tree of life <end>', 'tobacco continues to be an important industry for the country <end>', 'irrigation is seen by some as an environmental disaster to the earth <end>', 'hackers often break into networks simply to prove that they can <end>', 'some light sources flash on and off many times a second <end>', 'close races are very difficult to call by eye <comma> no matter how good ones sight <end>', 'sexual abuse is sexual actions done without ones partners consent <end>', 'secondary consumers derive energy from primary consumers on whom they feed <end>', 'blood is formed in bone marrow <comma> circulates throughout body <comma> and is broken down in liver <end>', 'exercise is the only proven method of increasing lean muscle tissue <end>', 'salt is essential to the health of both people and animals <end>', 'frequency is associated with the physical object it affects <end>', 'truth can also be in the doing <comma> flowing out from a specific event in time and space <end>', 'proteins are large and complex molecules made of smaller pieces called amino acids <end>', 'women pay the highest price for globalisation and third world poverty <end>', 'boils are common and grow deep into the skins layers <end>', 'mutations produce much of the variability on which natural selection operates <end>', 'every hurricane is different and changes from minute to minute <end>', 'planting trees is the best way to bring home fall color <comma> and fall is the best time to plant trees <end>', 'many electronic cameras drain battery power during long exposures <end>', 'whole foods is a type of natural food <comma> it is the simple food the way nature made it <end>', 'storms often create openings big enough to allow full sunlight to reach the forest floor <end>', 'information is always a perception and an experience of difference <end>', 'compaction commonly results in water moving into and through the soil more slowly <end>', 'bar code is a pattern of bars and spaces which represent numbers <comma> letters or characters <end>', 'deception is also an important part of language development <end>', 'radiation can cure or control cancer by inhibiting the cancer cells from dividing or reproducing <end>', 'young animals have a reddishbrown coat brightly marked with white streaks and spots <end>', 'mass movements can occur slowly over a period of years <comma> or they can happen in a matter of minutes <end>', 'prison rape is part of the mythology of prison life <end>', 'economic progress is the ultimate standard that measures success <end>', 'tumor markers are substances present in abnormal amounts in some people who have liver cancer <end>', 'key words are the words that carry the meaning <end>', 'black belt is the final stage of one life cycle and the beginning of the next <end>', 'many dairy foods are good sources of protein and potassium <end>', 'color is very much a part of the fabric of commerce <end>', 'precision is related to random error which causes random variation in the measurements made <end>', 'infiltration is the process where water seeps into the ground <end>', 'call centers are the back offices of service operations <end>', 'nations benefit from increasing their levels of international trade <end>', 'environmental stress causes the sucrose to be used up at a faster rate <end>', 'wisdom is a term that expresses the perfectly intelligent character of love <end>', 'parasites first have to be ingested into our bodies in one manner or another <end>', 'roosters are more aggressive than hens and less expensive <end>', 'crustaceans play a host of different roles in the ecology of coral reef communities <end>', 'studies indicate that women who exercise during pregnancy tend to give birth to healthier babies <end>', 'wheat germ is considered to be an excellent supplement for hair loss <end>', 'urea nitrogen is a waste product resulting from the breakdown of protein in the body <end>', 'individuals wearing artificial dentures often have continual shrinkage of their gums <end>', 'seismic waves are elastic waves that travel through earth <end>', 'family is the most basic group a person belongs to <end>', 'jobs affect the poverty rate and the poverty rate is related to crime <end>', 'people use dry cleaning because it takes less work than hand washing <end>', 'dehydration knows no season and can be a risk in hot or cool weather <end>', 'health is dependent upon maintaining appropriate tone in the nervous system <end>', 'children develop reasoning abilities as their capacity to use language expands <end>', 'masturbation is often the first way a person knows sexual pleasure <end>', 'elephants can detect normal odors <comma> but also other elephants hormones <comma> at great distances <end>', 'homeopathic medicines are remarkably free of side effects of any kind <end>', 'many scientists recognize the link between the origin of oil and exploration <end>', 'evolutionary adaptations are the basis for the correlation between structure and function <end>', 'telecommunications is a critical component in existing and emerging information systems <end>', 'discrimination is often the basis for government price controls <end>', 'amphibians are vertebrates <comma> so they have a bony skeleton <end>', 'cockroaches consume all types of human food as well as leather <comma> paper <comma> and bone <end>', 'objects only weigh something when there is a resistance to their falling <end>', 'some rams have four fully developed horns <comma> a trait shared by few other breeds of the world <end>', 'improvisation plays a huge part in performance as well as composition <end>', 'milk snakes are much more opportunistic eaters than the fox snake or corn snake <end>', 'all imaginary numbers are complex numbers with zero for the real part <end>', 'personal incomes are among the highest in the world <end>', 'term insurance is the solution to financial security and peace of mind <end>', 'plants enrich the water with oxygen and also provide hiding places for the fish <end>', 'prey includes small rodents as well as birds <comma> reptiles <comma> fish and frogs <end>', 'tuberculosis is an acute or chronic contagious bacterial infection <end>', 'marsupials give birth when their young are super young <end>', 'today there are thousands of american scientists who dominate the fields <end>', 'most fuel cells use fossil fuels <comma> breaking hydrogen from carbon <end>', 'librarians are the literacy advocates and literacy leaders of schools <end>', 'fever occurs in children but is rare in adults <end>', 'stocks are securities that represent ownership in a company <end>', 'warmer seas feed developing storms with more moisture and energy <end>', 'palm trees require the same type of climate as turtles and crocodiles <end>', 'black bears like to feed in the cool of the evening or in the early morning <end>']\n",
            "predicted: ['hair is an essential part of a persons appearance <end>', 'cave paintings are some of the oldest forms forms in existence <end>', 'water is a very important property since since since since it determines whether they float or float <end>', 'animals typically live closely their own <comma> closely closely closely related relatives <end>', 'insects insects are insects insects that resist insects and insects <end>', 'all information comes from one one parent <comma> and all offspring are virtually identical <end>', 'clinical clinical are in clinical are already in clinical clinical in the united states <end>', 'women hold positions number of of federal as government as well as federal government <end>', 'pacific salmon live in the northern pacific ocean and the north of north america and asia <end>', 'cigarettes are the single leading cause of fires in the nation <end>', 'recent studies show that one is one of the first medical conditions affecting women <end>', 'carbohydrates are also in foods such as cereals <comma> pasta <comma> and pasta <end>', 'every force causes every object to attract every other object <end>', 'child public care is provided in the public sector <end>', 'radio is a prime source of entertainment and entertainment <end>', 'images are graphics that graphics that can be displayed on web pages <end>', 'green tea leaves from leaves large evergreen with small leaves <end>', 'muscles have groups work together in pairs or in pairs <end>', 'most orchids receive their nourishment from the air <comma> rain or the soil or rain <end>', 'lavender is one of the most commonly used herbs herbs <end>', 'exercise also also an effective treatment for depression when it occurs <end>', 'head lice are parasitic insects that live on houses and used used by infested persons <end>', 'education is a critical part of the infrastructure for the knowledge economy <end>', 'vitamins are essential components for specific cellular cellular functions <end>', 'permeability is the removal of a rock to allow of allow the passage of fluids <end>', 'parents play a large part in a child s early evening <end>', 'poisonings are the most common victims of household poisonings <end>', 'angels can marry wealthy <comma> <comma> <comma> depending on the kind of chromosomes they receive from others <end>', 'safety is extremely important in working in a laboratory <end>', 'most states have some sort of victims law law <end>', 'depth is an important part of understanding understanding and appreciation of landscape <end>', 'government government is a government trait for all government government employees <end>', 'most play a key role in the management organizations in most organizations <end>', 'plants are quite <comma> and to root diseases <comma> and are quite resistant to fruit rots <end>', 'bicycles are a vehicles <comma> to produce <comma> and produce no use in their use <end>', 'conservation planning is a of what makes a person s and productive <end>', 'population can adapt to but it takes a population population to evolve <end>', 'gallstones usually up from the <comma> the cholesterol <comma> usually cholesterol <end>', 'chemists chemists are also very interested in the three dimensional shapes of molecules <end>', 'safety aid also aid first and safety safety safety safety procedures <end>', 'unsafe abortions can be very dangerous to the mother <end>', 'many herbicides are resistant resistant they become become resistant to herbicides <end>', 'corn flour has twice the power of of flour <end>', 'eukaryotes contain circular less circular than eukaryotes and have circular chromosomes <end>', 'leaves seasons appear to show an increase in cloud cloud counts <end>', 'trees are the most important plants in temperate forests <end>', 'government companies are businesses buyers to businesses are forced to pass on to their customers <end>', 'software is the set of instructions that tell a computer what to do <end>', 'education is an investment in the future and the countries countries and of the region <end>', 'wind can also cause damage damage through sand abrasion <end>', 'electrons are made of electrons positive nucleus surrounded by negative electrons <end>', 'hippos animals can open their mouths as much as wine can <end>', 'gender is is also a a in the two groups of the poorest countries <end>', 'irritable can mimic bowel and gastrointestinal symptoms like ulcers and irritable bowel syndrome <end>', 'machine machine is used to sustain any communication on any organization <end>', 'sediment is one of the most damaging pollutants to our drinking and and in in in the river <end>', 'older children are more likely to be adopted if parents parents parents if their have occurred <end>', 'cattle generally perform a a higher level in northern climates <end>', 'toads have welldeveloped welldeveloped hind legs than do do <end>', 'grasses grasses have dominant and dominant as dominant vegetation <end>', 'some are medicines medicines that can save save save and save lives <end>', 'blood hemoglobin is an red disorder that affects red blood cells <end>', 'saturated foods are higher in saturated <comma> most plant foods <comma> particularly saturated fats <end>', 'parents play a vital role in the education of their children <end>', 'weather is marked by the change of the sea and the mood of the sea <end>', 'speed is another main indicator of learn to learn <end>', 'microorganisms is the <comma> living <comma> microorganisms microorganisms of microorganisms <comma> which are living things <end>', 'prions are basically form of virus that are basically abnormal clumps of proteins <end>', 'alcoholism is an illness <comma> and can can <comma> can be treated treated <end>', 'predators are generally larger larger or larger than the prey they feed on <end>', 'farmers farmers use equipment equipment and and day out out <end>', 'younger adults are more times more likely than younger drinkers to report drinkers with constipation <end>', 'water seems seems to be the element element of for the life of life on mars <end>', 'image sizes refer to the dimensions of the image <comma> <comma> the the border and projection <end>', 'pollen gametophytes occur only in the male <comma> and male only only in the pollen <end>', 'animals plants can be large if the <comma> they eat large <comma> of the plant <comma> plant chew plant material <end>', 'interest is a value of the value of of money <end>', 'opossums find on smell and find to find meals <end>', 'insect can also aid in the insect of insect through the insect insect cuticle <end>', 'baby produced are by both doses are controlled by both the of the female <end>', 'modern modern scientists agree using methods that minimize the to the environment <end>', 'electronic mail is the most widely used application on the internet <end>', 'primary is our primary means of our our surroundings <end>', 'fossils help scientists learn how life developed developed developed <end>', 'family literacy involves a way way of of skills from children to children <end>', 'engineering filters tools barriers to prevent or reduce exposure substances to harmful substances <end>', 'medical is difficult the most most conditions but treat but most difficult to treat <end>', 'koalas are native to australia australia eastern forests <comma> in in forests of eucalyptus trees <end>', 'transit transit is important to transit transit people who use transit to get to work <end>', 'methods are the methods of data that operate on the data <end>', 'ticks feed on the blood of the host in which they live <end>', 'brown tissue is that the of the dead is dead <end>', 'molecules can break <comma> break <comma> break break bonds break break <end>', 'interest represents an image that stands something stands for something else <end>', 'oil spills tends a threat threat to the environment as well as to commercial interests <end>', 'ischemic colitis occurs when reduced result of reduced blood flow to the intestines <end>', 'rape is the assault or the or threat threat of force <end>', 'speciation is the formation of new species from older species <end>', 'shock explosives are very unstable <comma> react react to shock <comma> friction <comma> and heat <end>', 'congestion pricing is a pricing on a a road during peak hours <end>', 'science is the study of the rules and rules in the natural world <end>', 'acid rot is a by a variety of fungi decay decay rot fungi <end>', 'raccoons raccoons are harmless <comma> harmless <comma> but can can be infected with rabies <end>', 'linguists believe it it is easier for a child to a about language language for it is for an adult <end>', 'barley is is a good substitute for brown sugar <end>', 'chinese is said to nourish the skin in chinese medicine <end>', 'history causes with general causes <comma> causes causes <comma> and and consequences <end>', 'platelets are an important factor of blood blood factor in blood <end>', 'nurses nurses play a critical role in the health of health care <end>', 'tribal is is a way way a way of life for tribal and endangered communities <end>', 'some psychologists study behavior behavior rather than the behavior of people <end>', 'most fuels processes have an ideal ph at which they are most efficient <end>', 'depression is no <comma> no matter what the persons age <end>', 'smoking is with radon is is especially especially dangerous risk risk <end>', 'vesicles appear at the base of cell cell walls where it occurs <end>', 'freight freight is the the major economic economic of economic in activity in economic activity <end>', 'side comes from side side side the side side <end>', 'dates are also rich in minerals like phosphorus <comma> phosphorus <comma> and magnesium <end>', 'most are where most where most times fall apart <end>', 'animals vary in different and sizes in different animals <end>', 'many organisms modify structures modify or physical structures structures in the environment <end>', 'man thought makes no distinction between man and cosmos <end>', 'many women women view as view of women as greatest <end>', 'creativity is a way of thinking and a way of doing <end>', 'national schools make national about national questions about national identity <end>', 'cracks roots can moisture in grow through cracks <comma> the cracks <comma> causing a dam <end>', 'worms worms have tubes in remove waste in each segment <end>', 'some evidence say that having thyroid thyroid problems risk risk risk <end>', 'sociology is the scientific study of human relationships structures and structures <end>', 'fungi are like bacteria but are less resistant to high temperatures <end>', 'air pollution remains one of the most complex environmental health issues of our time <end>', 'children also work less of in terms of exercise than than adults than do adults <end>', 'some parents think parents of the internet to think are to for children to see <end>', 'fossil fossil fuel releases chemical and chemical energy after combustion <end>', 'water is a suspension <comma> from coal <comma> coal <comma> coal <comma> petroleum petroleum products <end>', 'chloroplasts occurs in plants <comma> plants <comma> but are are found in the green parts <end>', 'oral health is well to life health and well being throughout life <end>', 'classification classification is the basis widely used for for classification <end>', 'forensic plays an integral part in the identification in in the identification of substances <end>', 'social housing is the to cover the costs costs of assistance <end>', 'doctors doctors are the highest paid of of all <end>', 'cognitive disorders can occur attention depression attention deficit significantly deficit disorder <end>', 'most stay down most most <comma> <comma> the day <comma> never never coming down <end>', 'grass grass is occurring occurring grass grass occurring in clumps clumps <end>', 'metabolic efficiency is more more energy energy energy energy is produced with less heat <end>', 'atopic are more common in patients with atopic dermatitis <end>', 'today culture is an ancient tradition that continues continues today <end>', 'some research indicates that a can have a genetic component <end>', 'studies studies studies show that most most at most at most studies <end>', 'disability cover provides to families at by families families with a member at a disability at home <end>', 'mammals live in all kinds of habitats from the polar to the polar regions <end>', 'depression is a natural consequence of certain physiological or psychological circumstances <end>', 'books are people people people and people are people <end>', 'cool prefer deeper <comma> more salinity and can tolerate more of than other species of catfish <end>', 'many fungi are able to reproduce both both sexual and asexual processes <end>', 'dolphins can stand their breath for five to eight minutes <end>', 'vitamin d is through through absorption absorption and sun sun exposure <end>', 'some species are endangered and some are close to extinction <end>', 'trees are an indicator of climate <comma> soil and water <end>', 'heart disease is two to four times more common among people with diabetes <end>', 'xenon is a rare and gas and is inert chemically inert and inert inert <end>', 'violence is a complex problem that has no one cause cause <end>', 'psychiatrists pediatricians begin to treat and treat successfully disorder in in children <end>', 'occupational outbreaks are recognized recognized <comma> as and <comma> and the during the year <end>', 'fires are a natural part of the savanna cycle on the savanna <end>', 'milk products can cause serious reactions in persons milk to milk products <end>', 'frostbite can cause serious injury and immediate immediate medical attention <end>', 'water always moves from areas of higher to to areas of lower potential <end>', 'pets can cause several for several patients in several ways <end>', 'corporate governments has more control over peoples lives than do do <end>', 'inflation is defined as an increase in the economy economy level in the economy <end>', 'some ethnic genes are more common in certain ethnic groups <end>', 'protists represent some of the most diverse branches of the life of life <end>', 'tobacco continues to be an important industry for the country <end>', 'some is seen by some to the environmental to to the earth <end>', 'hackers simply break into networks simply simply simply that they can <end>', 'some flash sources <start> on and off the times a second <end>', 'eye eyes are very good to call ones ones ones no matter how good ones good <end>', 'sexual abuse is done contact done without consent consent consent <end>', 'primary consumers feed primary from consumers consumers while whom they feed <end>', 'blood is formed in bone <comma> <comma> broken in body <comma> broken broken broken down in liver <end>', 'exercise is the only proven method of increasing lean muscle tissue <end>', 'salt is essential to the health of both people and animals <end>', 'frequency is associated with the physical object it affects <end>', 'time can also be in a event <comma> out out in a specific space and space and space <end>', 'proteins are large and made pieces made of smaller pieces called amino acids <end>', 'poverty pay third highest price for third and third poverty poverty <end>', 'common are the and grow into into the cement layers <end>', 'natural produce much of the natural on which natural selection operates <end>', 'every minute is different from later from minute to minute <end>', 'trees trees require the best way to fall the trees to to and the is the best plant to plant trees <end>', 'many electronic cameras providing long power during long distances <end>', 'food food is the good of food food <comma> the is the simple it it way it it it <end>', 'trees often allow sunlight to enough to allow sunlight sunlight to reach the forest floor <end>', 'perception is always a perception and an experience of difference <end>', 'soil commonly moves in soil and into the the the soil more slowly <end>', 'bar order is a collection of characters <comma> characters <comma> represent letters <comma> letters or characters <end>', 'language is also an important part of language development <end>', 'radiation can detect cancer cancer by by dividing cancer cancer cells from reproducing or reproducing <end>', 'young animals have a reddishbrown coat marked marked with white streaks and spots <end>', 'fractures changes can occur suddenly <comma> a period of matter <comma> or in can happen in a matter of minutes <end>', 'prison prison is part of the prison prison life life <end>', 'economic success is the ultimate way that measures success <end>', 'tumor substances are substances present in some liver in people people who have liver cancer <end>', 'words words are the words that carry the meaning <end>', 'black production is the final stage of the life cycle and the beginning of the next <end>', 'many foods foods are good sources of protein and potassium <end>', 'color is a much a part of the fabric of commerce <end>', 'random is related to random fluctuations fluctuations causes variation variation in the made made <end>', 'infiltration is the process where the seeps into the ground <end>', 'service centers are service service service of service operations <end>', 'international benefit from increasing increasing increasing of international trade <end>', 'stress stress causes a heat to be used at at a faster rate <end>', 'love is a intelligent that requires the wonderful delicate character of love <end>', 'parasites have have bodies be in in one bodies in one or or another <end>', 'roosters are less expensive and neutered and less expensive <end>', 'larval play a dynamic of different communities in the ecology of coral reef communities <end>', 'studies indicate that women who give babies pregnancy tend to give birth to babies babies <end>', 'wheat is is considered to be an excellent antioxidant for hair loss <end>', 'protein nitrogen is a waste product of from the breakdown of protein in the body <end>', 'artificial often their garments often have their their of their gums <end>', 'seismic waves are waves waves that travel through earth <end>', 'family is the most basic group a person belongs to <end>', 'poverty related the poverty rate and poverty poverty rate is related to crime <end>', 'dry use dry cleaning less it takes less hand than hand washing <end>', 'dehydration can a risk and can be a risk in cool or cool weather <end>', 'dependent is dependent upon appropriate appropriate tone in the nervous system <end>', 'children use their abilities as their capacity to use language expands <end>', 'masturbation is often the first sexual a person sexual sexual pleasure <end>', 'elephants can also toxic sounds <comma> but others can cows can <comma> at great distances <end>', 'homeopathic medicines are capable free of side effects of any kind <end>', 'scientists scientists link the link between the origin and oil and exploration <end>', 'homologous structure are the basis for the structure between structure and function <end>', 'telecommunications is a critical component in emerging and emerging information systems <end>', 'discrimination discrimination often the basis for government price controls <end>', 'amphibians are vertebrates <comma> so they have a bony skeleton <end>', 'cockroaches consume all types of food food <comma> well as paper <comma> paper <comma> and bone <end>', 'objects only go when when there is a resistance to their sun <end>', 'some rams have a personalities a life <comma> a few shared by the other parts of the world <end>', 'performance plays a huge part in performance as well as composition <end>', 'snake snakes are much more docile than than the snake or or corn snake <end>', 'all real numbers are real with with zero for the real part <end>', 'personal incomes are among the highest in the world <end>', 'financial security is the primary to financial security of peace of mind <end>', 'fish also the water with the and also provide hiding places for the fish <end>', 'prey includes small rodents <comma> well as frogs <comma> frogs <comma> frogs and frogs <end>', 'chronic is an chronic bacterial chronic bacterial bacterial infection <end>', 'young are birth young young young are young young <end>', 'scientists there are thousands of scientists scientists who dominate the fields <end>', 'most carbon cells use carbon fuels <comma> hydrogen from from carbon <end>', 'librarians are literacy literacy advocates of advocates advocates of schools <end>', 'fever occurs in children but is rare in adults <end>', 'stocks are ownership that represent ownership in a company <end>', 'warmer energy feed more more with moisture moisture and energy <end>', 'turtles trees show the same type of climate as turtles and crocodiles <end>', 'black bears like to feed in the cool or the early or early the early morning <end>']\n",
            "\n",
            "original : ['some people never learn how to deal with stress because they try to avoid stressful situations <end>', 'study skills refers to all necessary skills for academic achievement <end>', 'exercise also plays a role in the prevention of cancer <end>', 'marriage is for the comfort <comma> training <comma> and security of children <end>', 'many men have a problem with erectile function at some time in their lives <end>', 'many desert plants are adapted to have very large root systems to collect the most amount of water <end>', 'some people can tell what time it is by looking at the sun <end>', 'hair cells have small hairs called cilia on one side and an axon on the other side <end>', 'seal is a mark of possession <comma> authority <comma> power <comma> protection and preservation <end>', 'therapists make up another part of the spectrum of home health care providers <end>', 'identification is found in all forms of mental illness <end>', 'plants are very heat tolerant and adapt to many soil types <end>', 'multimedia use a variety of media to do a variety of presentation <end>', 'caffeine affects the central nervous system by increasing mental alertness and reducing fatigue <end>', 'water accounts for most of the volume of living cells <end>', 'pecans can help lower total blood cholesterol and combat heart disease <end>', 'fair trade includes fair wages for workers as an integral part of the business arrangement <end>', 'many plants are highly toxic and can be dangerous <end>', 'pediatricians can help young families make wise decisions about family media consumption <end>', 'radiation therapy is a local therapy because it affects only the cancer cells in the treated area <end>', 'incomplete metamorphosis takes place with nymphs hatching in about four months <end>', 'fantasy art is rich in representations of dragons of all forms and colors <end>', 'stress is the physical and emotional response to both internally and externally generated stressors <end>', 'most sharks can detect blood and animal odors from many miles away <end>', 'mood disorders are some of the most treatable of all mental illnesses <end>', 'dioxins are among the most potent chemicals known that affect gene regulation <end>', 'electromagnetic waves have more power than light waves <comma> so they penetrate the skin <end>', 'water needs a nucleus <comma> or core <comma> upon which to form crystals <end>', 'gravity applies a constant downward force on the cars <end>', 'national saving is the total amount of savings deposits in banks <end>', 'some plants prefer staying on the dry side <comma> others <comma> like to be consistently moist <end>', 'agriculture is limited to production for the domestic market <end>', 'air is a mixture of gases <comma> milk is a mixture of solids and liquids <comma> alloys are mixtures of solids <end>', 'evening bats enjoy roosting in buildings and tree cavities in the summer <end>', 'rotifers fall into two salinity categories marine and freshwater <end>', 'drug abuse affects the individual <comma> the family and the whole community <end>', 'most people form political opinions by taking cues from other people <end>', 'people discover things every day <comma> such as children who just discover their toes or hands <end>', 'government is the principal economic sector <comma> as measured by employee earnings <end>', 'chloroplasts are the green organelles in the cytoplasm that make food in plant cells <end>', 'integrated employment is a critical element of community living <end>', 'most primary ulcers are the result of direct trauma <end>', 'freedom is an illusion that arises from human ignorance of divine cause and necessity <end>', 'geographers go on to careers in a wide variety of fields <end>', 'particle methods are useful for studying an enormous variety of systems <end>', 'calculated ages are essential for determining local sedimentation rates and tectonic histories <end>', 'maps are the data structure of choice for embedded graphs <end>', 'language is <comma> in a sense <comma> a system for building models <comma> metaphors of what is going on <end>', 'alcohol plays a huge role in how adolescents cope with their stressful lives <end>', 'older dogs can sometimes benefit by repeated exposures to other dogs if introduced properly <end>', 'many babies can become very ill from honey <comma> even a small amount <end>', 'social support is an important factor in the period after childbirth <end>', 'many vaccines require multiple doses to achieve full immunity <end>', 'mitochondria contain the only dna outside the nucleus in mammalian cells <end>', 'potassium is therefore the main positively charged ion present in the intracellular fluid <end>', 'incubation is often a time of subconscious mental activity <comma> searching for a solution to the problem <end>', 'angiosperms rely on the wind <comma> animals and insects for pollination <end>', 'road rage exists in many forms <comma> from mild to very extreme <end>', 'parents sometimes have a tendency to compare children with their siblings and peers <end>', 'most bedding plants require at least some supplemental water during periods of extended drought <end>', 'supportive communication means allowing the other person to feel good about solving a problem <end>', 'correlation simply means that a relationship of some kind exists between two variables <end>', 'globalisation also implies that certain types of policy measures become less effective <end>', 'women can make clothing in their own size and in the style of their culture <end>', 'melons grow best in warm <comma> dry climates with full sun and require plenty of water <end>', 'mulches decrease runoff during storms <comma> providing more water for plant growth <end>', 'spectroscopy is the study of the interaction of light and matter <end>', 'wombats are nocturnal animals which eat grasses <comma> roots and herbs after dark <end>', 'wind power emits no pollution and has very little impact on the land <end>', 'fish is done when it flakes easily when tested with a fork <end>', 'batteries are devices that convert stored chemical energy into useful electrical energy <end>', 'families are important because they are childrens first teachers <end>', 'scientists know that only huge quantities of methanol can affect vision <end>', 'psychologists encounter other difficulties with the parents of the child or adolescent <end>', 'cougars have long slender bodies and small <comma> broad <comma> round heads <end>', 'river otters are one of their closest relatives <comma> and are easily confused with sea otters <end>', 'fertilizers containing ammonium nitrogen seem to be best for the plants <end>', 'unstable angina is socalled because it can strike at any time even when resting <end>', 'some species attach to the wall and form a cocoon <end>', 'planets also exert a gravitational pull on each other <comma> but size matters <end>', 'sweat is made up mostly of water but also contains minerals <comma> urea <comma> lactic acid <comma> ammonia and sugar <end>', 'warmer water holds less dissolved oxygen than cold water does <end>', 'almonds are just one of the many nuts that are produced and sold in many different forms <end>', 'insects are also an important food source for birds <end>', 'adaptation is associated with having relatively few thoughts of either extreme type <end>', 'double coat stands out from body due to density <end>', 'primates are our nearest relatives in the animal kingdom <end>', 'statistics show that women who belong to unions are less likely to suffer wage discrimination <end>', 'french scientists report that people allergic to latex are also likely to react to bananas <end>', 'some people like to call it sour stomach <comma> or acid indigestion <comma> or upset stomach <comma> or acid stomach <end>', 'some gardeners say cats help keep snakes out of the garden <end>', 'mollusks also provide important data from the fossil record and deep time <end>', 'older adults are more likely to take medication correctly than younger adults <end>', 'most business owners believe their success is in their people <end>', 'research shows that most people continue to produce growth hormone well into advanced age <end>', 'many older women attempt to prevent osteoporosis by taking calcium supplements <end>', 'turkeys take advantage of what is seasonally abundant when foraging <end>', 'compact mirrors come in a variety of shapes <comma> colours and textures <end>', 'most people can take digoxin without many side effects <end>', 'wolves hold their tail straight out at back level <end>', 'poor vision can increase the risk of falls and injury <end>', 'psychosocial services are an important component of cancer care <end>', 'many polymers occur in nature <comma> such as silk <comma> cellulose <comma> natural rubber <comma> and proteins <end>', 'alcoholism is a treatable disease that responds to intervention and treatment <end>', 'efficiency is the key to survival <comma> which places new demands on people and technology <end>', 'catalysts are substances which make chemical reactions go faster <end>', 'domestic violence is a black hole on the courts time <end>', 'plants breathe through tiny pores in the leaves called stomata <end>', 'anthropology emphasizes the interaction of human biology <comma> culture <comma> and the environment <end>', 'jazz is a native <comma> a constant that changes with each generation <end>', 'spiders play the important role of general predator in ecosystems <end>', 'surfactants affect fish by interfering with surface tension of water <end>', 'temperatures vary according to the latitude and proximity to the sea <end>', 'hawaiian geology makes for very soft and brittle rock <end>', 'development is a long journey that extends well beyond the event of hatching or birth <end>', 'muskrats are thought to have one mate during rearing seasons <end>', 'poor digestion is sometimes the cause and digestive enzymes are often helpful <end>', 'dance is a way to feel what it is to be human and alive <end>', 'some species also hunt small prey <comma> such as insects <comma> lizards <comma> smaller birds and rodents <end>', 'sexual maturity is reached around two months of age <comma> breeding can be yearround <end>', 'particles clump together following the addition of a specific antibody <end>', 'wetlands are extremely valuable ecosystems which are found in abundance in turkey <end>', 'linguistic anthropology deals with language within the broader context of anthropology <end>', 'women are more likely than men to experience poverty <end>', 'gas burns cleaner and is less expensive per use than charcoal <end>', 'millipedes are among the most ancient of land animals <comma> with species in thousands across the globe <end>', 'nutrient deficiencies can have a profound influence on the brain and mood <end>', 'exercise builds and strengthens bone and muscle and therefore is a bone and muscle preservative <end>', 'cocaine use remains at a relatively low level but abuse of pharmaceutical drugs is rising <end>', 'botulism is a severe form of food poisoning caused by bacteria <end>', 'science is a way of learning about the natural world <end>', 'plant anatomy involves studies at the light and electron microscope level <end>', 'shiny jewelry can resemble the scales of a fish <end>', 'some people say porn makes people want to go out and rape <end>', 'carbon monoxide causes suffocation and becomes the greenhouse gas <end>', 'many herbal preparations have some effect on blood sugar levels <end>', 'cats are furry things that are nice to look at <end>', 'trees are somewhat like humans in the respect that they each have their own personalities <end>', 'water can absorb a lot of heat before changing temperature <end>', 'sunglasses protect childrens eyes from the uv rays and decrease the risk of cataracts in adulthood <end>', 'information flows are also important in understanding how an operation works <end>', 'insulators work well to reduce conduction <comma> but generally fall short of preventing convection <end>', 'anarchism is concerned to oppose the one basic concept of authority as such <end>', 'enzymes raise the activation energy of a chemical reaction <end>', 'team sports are appropriate representations of society as a whole <end>', 'turkish coffee has six levels of sweetness ranging from very sweet to black <end>', 'space can stretch during the expansion of the universe <end>', 'velocity affects the amount of economic activity generated by a given money supply <end>', 'death causes a loss of management skill and experience <end>', 'children can receive kidney transplants at almost any age <end>', 'lead poisoning can cause brain damage <comma> particularly in children <end>', 'prosperity depends on turning a profit and having elite housing structures <end>', 'communication is the exchange of information in a common frame of reference <end>', 'most injuries occur when children fall off swings <comma> monkey bars <comma> climbers <comma> or slides <end>', 'ulcerative colitis can be quite mild or very severe <end>', 'buttons are of varying shapes and sizes <comma> easily recognized by touch and grouped by function <end>', 'ceiling fans can move air down or up depending on the tilt of the blades <end>', 'vegans eat no animal products <comma> obtaining their protein purely from vegetable sources <end>', 'water turns to steam when it is heated to the boiling point <end>', 'preserved wood is an excellent material to use when building raised beds <end>', 'incest is twice as likely among daughters of alcoholics than their peers <end>', 'some trees bear every year <comma> while others bear every third year <end>', 'crickets are more or less omnivorous in their diets <end>', 'people can be more allergic to their pets in the spring and the fall <end>', 'climate change is one factor amongst many that affect coastal ecological systems and societies <end>', 'thorny devils are variable in their use of space <end>', 'some children stay in foster care throughout their teen years <end>', 'work happens when a force moves or changes the shape of an object <end>', 'some harmful pollutants can build up through the food chain and get into people <end>', 'agriculture is another arena that is greatly enhanced by the use and application of climate models <end>', 'most repellents are also effective against mosquitos and other insects <end>', 'most people have one or more relationships with people of authority <end>', 'winter is a time to plan the spring and summer garden <end>', 'addiction is a progressive disease that can be fatal <end>', 'fish is done when flesh changes from translucent to opaque <end>', 'barley grass is the young grass stage of the barley plant <end>', 'baboons are able to find all their food in the grasslands <end>', 'nutrition influences the chemistry that determines what is available to the system <end>', 'life sustaining resources are certainly food <comma> water <comma> shelter <comma> and human companionship <end>', 'alcohol is often a major source of extra calories <end>', 'bacteria have perhaps the greatest influence in the soil environment of all organisms <end>', 'gases have no definite shape or a definite volume <end>', 'every year there is concern about pine needles turning brown and dropping to the ground <end>', 'endothelial damage occurs at the site of coronary artery narrowing <end>', 'relational databases are the most popular kind of database in use today <end>', 'species go extinct because deaths exceed births for a long enough period of time <end>', 'proteins are polymers of amino acid with unique structure and function <end>', 'lifestyle price is closely related to the fourth aspect of social price <comma> that of psychic costs <end>', 'all terrestrial planets are thought to have had a similar process in their early histories <end>', 'viral infections are common and are frequently related to a cold <end>', 'most young birds learn to forage for their meals <end>', 'vegetable gardens die in rows as the roots are destroyed <end>', 'veins generally arise from capillary beds at the tail ends of arteries <end>', 'gray whales have the longest migration route of any mammal <end>', 'poverty is the main reason they are driven to drugs <end>', 'standard deviation is one standard deviation from the mean <end>', 'gallstones are by far the most important risk factor for gallbladder cancer <end>', 'violence is serious because it can result in death <end>', 'pleasure is spontaneous and exists in the realm of the individual <end>', 'migraine headaches can strike anyone at any age <comma> although they are most common in young women <end>', 'more tornadoes occur in the united states than in any other country <end>', 'pressure ridges in the ice can sometimes reach three times that height <end>', 'similar adaptations are found in pinnipeds like seals <end>', 'pattern formation is dependent on the genetic competence of the cells in the field <end>', 'cold water can hold more carbon dioxide in solution than warm water <end>', 'physical concerns are that obese children are more likely to become obese adults <end>', 'critical thickness is a concern however in insulating wires <end>', 'every person is a being <comma> and so is every animal <end>', 'velocity is a measure of distance per unit time <end>', 'acids can destroy some substances yet help to preserve others <end>', 'many organizations regularly report on the situation of children <end>', 'folic acid is necessary for the synthesis of nucleic acids and the formation of red blood cells <end>', 'osteoporosis is a painful disabling disease which causes bones to become brittle <end>', 'alternative medicine uses therapies that are outside of the mainstream pill and surgery realm <end>', 'most women report feeling some cramping <comma> similar to their menstrual cramps <end>', 'golf bag is made of nylon material thats tough and durable for long lasting wear and tear <end>', 'anemia can sometimes be the result of an iron deficiency <end>', 'anxiety can cause prolonged labor and inefficient uterine contractions <end>', 'many people suffer such skin conditions as wrinkles as they get older <end>', 'blood is also possibly present as it leaks from damaged vessels <end>', 'larger nests represent years and years of hard work <end>', 'velocity gives distance <comma> time <comma> and the direction of travel <end>', 'terrestrial biomes are determined primarily by climate <comma> especially temperature and rainfall <end>', 'thoracic vertebrae are larger than cervical vertebrae and increase in size from top to bottom <end>', 'coral animals have hard but delicate skeletons and are easily damaged by contact <end>', 'carbohydrates are an important source of energy for children <end>', 'soft cheeses are higher in fat than hard ones <end>', 'frogs have very permeable skin and are therefore very sensitive to toxic substances <end>', 'alcohol is the main abuse problem in both countries <end>', 'some carbon dioxide is dissolved into the ocean <comma> where some organisms use it to form their shells <end>', 'worms can eat their weight in organic matter each day <end>', 'caterpillars eat leaves <comma> seeds and seed pods <comma> and very few caterpillars are agricultural pests <end>', 'interest rates rise in a growing economy and fall during a depression <end>', 'ice is only as safe as the water it is made from <end>', 'rape is also a crime in any age <comma> but persecution is minimal <end>', 'hormones are natural substances that control normal development of all embryos and fetuses <end>', 'foxes have sharp <comma> curved claws <comma> sharp teeth <comma> and thick <comma> insulating fur <end>', 'family income is key to childrens involvement in sport <end>', 'uncertainty arises due to measurement errors <comma> systematic errors <comma> and random sampling errors <end>', 'many overweight people feel alone in a society focused on being thin <end>', 'cockroaches can hold their breath for up to seven minutes <end>', 'fish is done when it turns opaque of flakes easily <end>', 'syndrome means a group of conditions or symptoms that show that something is wrong <end>', 'big lumps can occur with minor injuries because the blood supply to the scalp is so plentiful <end>', 'many scientists base their entire careers on animal experiments <end>', 'globalization has <comma> in principle <comma> the potential to benefit all of the world s people <end>', 'filtration is a standard practice for maintaining the particulate cleanliness of process gases <end>', 'economic theory shows that there are many possible market failures <end>', 'gender discrimination continues to affect the lives of women all over the world <end>', 'real people make quilts that come in all skill levels <comma> sizes <comma> and shapes <end>', 'encryption is standard practice for commerce on the internet <end>', 'organic arsenic can cause neither cancer <comma> nor dna damage <end>', 'depression can seem the same as a neurological or hormone problem <end>', 'most nouns have one form for the singular and another for the plural <end>', 'all plants produce flowers for the same reason <comma> to make seeds so another plant can grow <end>', 'creative solutions are possible when everyone works together for a solution <end>']\n",
            "predicted: ['some people try try to to avoid with stress situations they try to avoid stressful situations <end>', 'academic skills enable to skills skills skills for academic achievement <end>', 'exercise also plays a role in the prevention of cancer <end>', 'comfort is the comfort security <comma> security <comma> and security of children <end>', 'many women have a problem with their function at some time in their lives <end>', 'many desert plants have very to collect very large amounts systems to collect the amount amount of water <end>', 'some people can tell what is looking is looking looking at the sun <end>', 'hairs cells have an openings on an on an side and an other with the other side <end>', 'power is a protection of security <comma> protection <comma> protection <comma> protection and protection <end>', 'medical make up another part of the health of health care care providers <end>', 'mental is found in all forms of mental illness <end>', 'plants are very adaptable resistant to adapt to many types types <end>', 'media media a variety of media to do a variety of memory <end>', 'caffeine relieves the central nervous system by increasing alertness alertness and reducing fatigue <end>', 'water accounts for most of the cells of living cells <end>', 'pecans can help lower blood heart cholesterol and heart heart disease <end>', 'fair trade includes the trade as the as the integral part of the business systems <end>', 'many toxic are highly toxic and can be dangerous <end>', 'older can help young families make decisions decisions about media media consumption <end>', 'radiation therapy is a local therapy because it affects the the cancer cells in the treated area <end>', 'nymphs nymphs takes place in four in in about four months <end>', 'poetry is is rich in all of all and all colors and colors <end>', 'stress is thus physical and emotional response and both internally and stressors generated stressors <end>', 'sharks sharks can detect and and many cells from many miles away <end>', 'some disorders are some of the most treatable of all mental illnesses <end>', 'dioxins are among the most potent chemicals that as affect gene regulation <end>', 'electromagnetic waves have a power than the waves <comma> so they penetrate the skin <end>', 'crystals needs to form <comma> which upon <comma> which which to form crystals <end>', 'gravity applies a constant downward force on the cars <end>', 'total saving is the amount amount of price in in banks <end>', 'some plants prefer to on the soil side <comma> others like like to be warmed moist <end>', 'domestic is the to the for the domestic market <end>', 'milk is a mixture of liquids <comma> solids is a mixture of solids <comma> liquids <comma> alloys are mixtures of solids <end>', 'bats bats enjoy roosting in the and adults cavities in the summer <end>', 'freshwater cause into two categories categories marine and freshwater <end>', 'drug abuse affects the individual <comma> the family and the whole community <end>', 'most people stop political skills by taking other from other people <end>', 'people discover their every day just just as people who like discover their hands or hands <end>', 'government is the principal economic sector <comma> as measured by employee earnings <end>', 'chloroplasts are organelles organelles organelles that the cytoplasm that make plant in plant cells <end>', 'community employment is a critical element of living living <end>', 'most ulcers trauma are the result of direct trauma <end>', 'freedom is an illusion that lies from human freedom and divine and and truth <end>', 'geographers go through fields wide in a wide variety of fields <end>', 'electrical systems are an for an an enormous variety of systems <end>', 'local volcanoes are important for local local histories rates and local histories <end>', 'graphs are the latest of of graphs for embedded graphs <end>', 'language is a in a system <comma> hence system for studying models <comma> going is what is going on <end>', 'fear plays a huge role in how youth struggle with their stressful challenges <end>', 'dogs dogs can sometimes benefit from other learning to other dogs if introduced properly <end>', 'many babies can become small small <comma> small <comma> even a small amount <end>', 'social support is an important factor in the period after childbirth <end>', 'many vaccines require multiple vaccines to achieve full immunity <end>', 'mitochondria contain only dna dna in cells mammalian in mammalian cells <end>', 'ion is the the main fluid charged fluid present in the intracellular fluid <end>', 'time is often a time <comma> activity activity activity <comma> a for a problem to the problem <end>', 'songbirds rely on the pollination <comma> and and insects for pollination <end>', 'road exists exists in many forms <comma> from very to very extreme <end>', 'children have have a tendency to compare children with their peers and peers <end>', 'most plants plants require at least some minimum water during periods of drought drought <end>', 'good communication involves the a problem good to feel a about a a problem <end>', 'some means means that some relationship exists information types of between two variables <end>', 'globalisation also means that more types of significant become less less effective <end>', 'women can make their in the culture culture and culture the culture of their culture <end>', 'melons grow best in full <comma> dry climates with full sun and plenty plenty of water <end>', 'mulches reduce plant more plant <comma> providing water water for plant growth <end>', 'spectroscopy is the study of the interaction of light and matter <end>', 'wombats are nocturnal animals <comma> eat grasses <comma> grass and herbs after dark <end>', 'wind power has no pollution and has very little impact on the land <end>', 'fish is done when it flakes easily when tested with a fork <end>', 'batteries are devices that convert chemical energy energy into useful electrical energy <end>', 'teachers are childrens because they are childrens first teachers <end>', 'scientists can that only can quantities of methanol can affect vision <end>', 'psychologists show parents difficulties with the parents of the child or adolescent <end>', 'cougars have long <comma> bodies <comma> small <comma> round <comma> round heads <end>', 'otters otters are relatives of relatives relatives relatives <comma> and are sea sea with sea otters <end>', 'plants seem nitrogen seem seem to be the for the plants <end>', 'unstable angina is any because it can even at any time when when it <end>', 'some species attach to the wall and form a cocoon <end>', 'gravitational also pull a gravitational pull on each other <comma> but arms matters <end>', 'sweat is made up of of sugar <comma> bacteria contains lactic <comma> lactic <comma> lactic acid <comma> and and sugar <end>', 'cold water holds less dissolved oxygen than does water does <end>', 'almonds are one one of the many different sold are sold in sold in many different forms <end>', 'insects are also an important food source for birds <end>', 'extreme is associated with relatively relatively extreme hours of either extreme type <end>', 'double stands stands from due due due to density <end>', 'primates are the relatives relatives in the animal kingdom <end>', 'statistics show that women who tend to unions are less likely to suffer wage discrimination <end>', 'people people report that people are to acids are also more to react to bananas <end>', 'some people turn to stomach stomach with <comma> <comma> stomach stomach stomach <comma> stomach stomach stomach <comma> stomach stomach stomach <end>', 'some hunters say cats help keep the out of the garden <end>', 'mollusks also provide data data and the time record and deep time <end>', 'older adults are more likely than take medication than than younger adults <end>', 'most people people believe people success is in their people <end>', 'most shows that most people continue to produce hormone hormone into into age age <end>', 'many women women attempt taking prevent calcium by taking calcium supplements <end>', 'turkeys take advantage of what is abundant abundant when foraging <end>', 'mirrors colours come in a variety of colours <comma> colours and shapes <end>', 'most people can take many without side side effects <end>', 'wolves hold their tail at at at back level <end>', 'poor vision can increase the risk of falls and injury <end>', 'psychosocial care are an important component of cancer care <end>', 'proteins proteins occur in nature <comma> such as natural <comma> natural <comma> proteins proteins <comma> and proteins <end>', 'alcoholism is a disease disease that responds to treatment and treatment <end>', 'efficiency is the key to survival on which places people people on people and technology <end>', 'chemical are chemical which make chemical reactions go faster <end>', 'domestic violence is a black hole on the road time <end>', 'plants breathe through tiny pores in the leaves called stomata <end>', 'ecology emphasizes the interaction of the ecology <comma> culture <comma> and the environment <end>', 'jazz is a constant <comma> with constant that changes with each generation <end>', 'spiders play important important role in predator ecosystems in ecosystems <end>', 'surfactants affect surface surface interfering with surface tension of water <end>', 'temperatures vary according to the proximity and proximity to the sea <end>', 'rock rock makes it very soft and soft rock <end>', 'hatching is a cycle time that gives well beyond the birth of birth or birth <end>', 'muskrats are thought to have one mate during mating seasons <end>', 'food digestion is often helpful bodys and toxins enzymes are often helpful <end>', 'dance is what way to be and it is to be and and alive <end>', 'some species also hunt small prey such such as insects <comma> lizards <comma> birds birds and rodents <end>', 'sexual maturity can reached around <comma> years <comma> age <comma> breeding can be yearround <end>', 'specific following together following the antibody of a specific antibody <end>', 'wetlands are valuable valuable in in are found in abundance in turkey <end>', 'linguistic anthropology deals with the within the broader context of anthropology <end>', 'women are more likely than men to experience poverty <end>', 'gas is cleaner and is less expensive than than than expensive <end>', 'millipedes are among the most ancient species the <comma> <comma> with thousands across the across the globe <end>', 'nutrient deficiencies can have a profound influence on the brain and mood <end>', 'exercise builds muscle bone bone and is and is is a bone and helps exercise <end>', 'cocaine addiction is at a low low level of drugs of drugs drugs is rising <end>', 'botulism is a severe form of poisoning poisoning caused by bacteria <end>', 'science is a natural of learning about the natural world <end>', 'chemical studies involves the at the level level level level level <end>', 'fish fish can resemble the scales of a fish <end>', 'some people go rape go want want to go down and rape <end>', 'carbon monoxide becomes the and it the greenhouse gas <end>', 'many herbal conditions have some effect on blood sugar levels <end>', 'cats are at to that look look to look at <end>', 'trees are somewhat like respect in that same that they have have their own personalities <end>', 'heat can absorb a lot of heat before changing temperature <end>', 'sunglasses protect the aging from the greatest rays and decrease in risk of cataracts in adulthood <end>', 'information works in also an in understanding how an act works <end>', 'fires generally well <comma> produce <comma> of but generally decrease short of preventing convection <end>', 'basic is one with the the basic basic concept of such as such <end>', 'enzymes raise the activation energy of a chemical reaction <end>', 'sports sports are as as of a as a whole <end>', 'buffalo meat has very coats of smell from from very black to black <end>', 'expansion expansion stretch the the expansion of the universe <end>', 'money affects economic supply of money activity generated by a given supply supply <end>', 'experience management a skill of skill skill and experience <end>', 'children can receive almost stones at almost any age <end>', 'lead poisoning can cause brain damage <comma> particularly in children <end>', 'lambs depends on having a mobile having having professional mobile structures <end>', 'communication is a reference of reference in a common reference of reference <end>', 'most children fall when children fall <comma> <comma> <comma> bars <comma> <comma> bars <comma> or skiing <end>', 'mild colitis can be mild mild or very severe <end>', 'touch are part varying shapes and sizes <comma> by by by touch and function by function <end>', 'ceiling fans can move up down depending ceiling depending on the edges of the ceiling <end>', 'vegans eat no animal protein <comma> obtaining their protein sources from animal sources <end>', 'boiling is to steam when it is heated to the boiling point <end>', 'material wood is an excellent material item use raised raised beds beds <end>', 'incest is twice as likely than alcoholics of alcoholics than their peers <end>', 'some bear bear bear year bear while bear bear every third year <end>', 'crickets are more or less omnivorous in their diets <end>', 'more can be allergic allergic to the pets and the spring and the fall <end>', 'climate change is one factor that many ecological cultural coastal and and and societies <end>', 'thorny devils are in in their use of land <end>', 'some children stay in foster care years their teen years <end>', 'shape happens when the force moves or changes the shape of an object <end>', 'some people pollutants can build up and food food chain and people into people <end>', 'agriculture is another factor that is viewed understood by the use of application of new models <end>', 'insects insects are also effective against insects and other insects <end>', 'most people have more or more relationships with people of authority <end>', 'spring is a time to spring the spring and summer garden <end>', 'progressive is a progressive disease that can be fatal <end>', 'fish is done when molten changes from translucent to plasma <end>', 'barley grass is the young grass stage of the barley plant <end>', 'baboons are able to find their their food in the grasslands <end>', 'nutrition determines the system that determines what is available to the system <end>', 'human resources human are certainly food <comma> water <comma> shelter <comma> and human owners <end>', 'extra is often a major source of extra calories <end>', 'bacteria have perhaps the greatest influence in the soil environment of all organisms <end>', 'gases have a definite shape or a definite volume <end>', 'whooping year is is about with the needles and to and to to the ground <end>', 'endothelial damage occurs at the site of coronary artery arteries <end>', 'relational databases are the most important kind of database use increasingly today <end>', 'species go extinct over of for a for a long period period of time <end>', 'proteins are proteins of amino acids and proteins structure and function <end>', 'price price is related related to aspect price <comma> of social <comma> <comma> that of related stability <end>', 'all planets planets are thought to have been a similar process in their early histories <end>', 'viral infections are frequently and are frequently related to a cold <end>', 'most birds birds learn to forage for their meals <end>', 'vegetable roots are in the as the roots are destroyed <end>', 'arteries generally arise from the beds at the ends of of arteries <end>', 'gray whales have the longest route route of any mammal <end>', 'poverty is the main reason they are going to drugs <end>', 'standard deviation is the standard deviation from the mean <end>', 'gallstones are by far the most important risk factor for gallbladder cancer <end>', 'violence is serious because it can result in death <end>', 'pleasure is the and exists in the realm of the individual <end>', 'migraine headaches can strike anyone at any age <comma> although they are most common in young women <end>', 'tornadoes tornadoes occur in the united states than in any other country <end>', 'ice times can height height times also reach three times that height <end>', 'pinnipeds ribosomes are found in seals like seals <end>', 'genetic is is dependent on the genetic pattern of cells cells in the field <end>', 'cold water can hold more water dioxide than solution than warm water <end>', 'obese children are obese obese adults are more likely to become obese adults <end>', 'electrical lumber is a concern in in terrestrial shape <end>', 'every person is <comma> animal <comma> and so is every animal <end>', 'velocity is a measure of distance per unit time <end>', 'some can bind some substances to to to preserve others <end>', 'many organizations report report the the situation of children <end>', 'folic acid is necessary for the formation of red acids and the formation of red blood cells <end>', 'osteoporosis is a disease disease disease which causes bones to become brittle <end>', 'alternative medicine uses cosmetic that are left of the pill and and therapeutic enjoy <end>', 'most women report some some similar similar similar to their menstrual cramps <end>', 'nylon is is durable for long and and long and durable and long lasting wear and tear <end>', 'anemia can sometimes be an result of an iron deficiency <end>', 'prolonged can cause premature and and prolonged uterine contractions <end>', 'many people suffer as as as as they as they get older <end>', 'blood is present present present from it from from damaged vessels <end>', 'hard nests represent years of work of hard work <end>', 'velocity gives rise <comma> direction <comma> direction direction direction of travel <end>', 'terrestrial biomes are determined primarily by rainfall <comma> rainfall rainfall and rainfall <end>', 'vertebrae vertebrae are larger than top vertebrae and from in size from top to bottom <end>', 'coral have have hard and are and are are easily contracted by contact <end>', 'carbohydrates are an important source of energy for children <end>', 'soft ones are higher in fat than hard ones <end>', 'frogs have very sensitive skin and are very very sensitive to toxic substances <end>', 'alcohol abuse the main problem in in both countries <end>', 'some organisms dioxide is the to the ocean <comma> where some organisms use it to form their shells <end>', 'worms can eat organic weight in organic matter each day <end>', 'caterpillars eat leaves <comma> and <comma> seed <comma> <comma> and deer few caterpillars are dispersed pests <end>', 'interest rates rise and a rise season and a during a depression <end>', 'water is made as safe as it water is is made from <end>', 'terrorism is a a crime in any age <comma> but is is minimal <end>', 'hormones are substances substances that control and embryos of all embryos and fetuses <end>', 'sharp have sharp claws sharp claws <comma> sharp claws <comma> sharp thick <comma> sharp fur <end>', 'family planning is key to childrens involvement in sport <end>', 'systematic defines due to errors <comma> <comma> systematic errors <comma> and random errors errors <end>', 'many overweight people feel depressed in their thin on on being thin <end>', 'cockroaches can hold for breath for up to seven minutes <end>', 'fish is done when it flakes opaque flakes flakes easily <end>', 'syndrome syndrome that group of symptoms that symptoms that show that something is wrong <end>', 'minor blood can occur because the bleeding because the blood supply is the ground is so plentiful <end>', 'many scientists base their entire animal on animal experiments <end>', 'globalization has the in all <comma> the potential of give all people the world s people <end>', 'disinfection is the valuable for for evaluating the process process of crude gases <end>', 'economic market shows that many are many possible market failures <end>', 'gender discrimination continues to affect the lives of all all over the world <end>', 'writing writing come all <comma> come in all shapes <comma> <comma> shapes <comma> and shapes <end>', 'encryption is the for for commerce on the internet <end>', 'organic cancer can cause cancer cancer <comma> nor dna damage <end>', 'depression can be as same or a neurological or neurological problem <end>', 'most singular have the form and the singular and the for the plural <end>', 'all plants produce seeds for the same plant <comma> so grow seeds so that plant can grow <end>', 'creative power are a when a together together for a solution <end>']\n",
            "\n"
          ]
        }
      ]
    },
    {
      "cell_type": "code",
      "source": [],
      "metadata": {
        "id": "2Kud_UxTGo3K"
      },
      "execution_count": null,
      "outputs": []
    }
  ],
  "metadata": {
    "kaggle": {
      "accelerator": "gpu",
      "dataSources": [],
      "dockerImageVersionId": 30733,
      "isGpuEnabled": true,
      "isInternetEnabled": true,
      "language": "python",
      "sourceType": "notebook"
    },
    "kernelspec": {
      "display_name": "Python 3",
      "name": "python3"
    },
    "language_info": {
      "codemirror_mode": {
        "name": "ipython",
        "version": 3
      },
      "file_extension": ".py",
      "mimetype": "text/x-python",
      "name": "python",
      "nbconvert_exporter": "python",
      "pygments_lexer": "ipython3",
      "version": "3.12.3"
    },
    "colab": {
      "provenance": [],
      "gpuType": "T4"
    },
    "accelerator": "GPU",
    "widgets": {
      "application/vnd.jupyter.widget-state+json": {
        "afd88f13a31847a285263e99690d2246": {
          "model_module": "@jupyter-widgets/controls",
          "model_name": "HBoxModel",
          "model_module_version": "1.5.0",
          "state": {
            "_dom_classes": [],
            "_model_module": "@jupyter-widgets/controls",
            "_model_module_version": "1.5.0",
            "_model_name": "HBoxModel",
            "_view_count": null,
            "_view_module": "@jupyter-widgets/controls",
            "_view_module_version": "1.5.0",
            "_view_name": "HBoxView",
            "box_style": "",
            "children": [
              "IPY_MODEL_a208d1c7556443549f872705a46759dc",
              "IPY_MODEL_bcebef756b3144628b3fe18647e8afae",
              "IPY_MODEL_3e12c6041086408782e88c7e88dcc4dd"
            ],
            "layout": "IPY_MODEL_d473e22651ca43feb81751127b0acd06"
          }
        },
        "a208d1c7556443549f872705a46759dc": {
          "model_module": "@jupyter-widgets/controls",
          "model_name": "HTMLModel",
          "model_module_version": "1.5.0",
          "state": {
            "_dom_classes": [],
            "_model_module": "@jupyter-widgets/controls",
            "_model_module_version": "1.5.0",
            "_model_name": "HTMLModel",
            "_view_count": null,
            "_view_module": "@jupyter-widgets/controls",
            "_view_module_version": "1.5.0",
            "_view_name": "HTMLView",
            "description": "",
            "description_tooltip": null,
            "layout": "IPY_MODEL_233fdbc34142495b8bae91379fcd07ba",
            "placeholder": "​",
            "style": "IPY_MODEL_3009b79ab7a6492181408d76e07a470a",
            "value": "Downloading builder script: 100%"
          }
        },
        "bcebef756b3144628b3fe18647e8afae": {
          "model_module": "@jupyter-widgets/controls",
          "model_name": "FloatProgressModel",
          "model_module_version": "1.5.0",
          "state": {
            "_dom_classes": [],
            "_model_module": "@jupyter-widgets/controls",
            "_model_module_version": "1.5.0",
            "_model_name": "FloatProgressModel",
            "_view_count": null,
            "_view_module": "@jupyter-widgets/controls",
            "_view_module_version": "1.5.0",
            "_view_name": "ProgressView",
            "bar_style": "success",
            "description": "",
            "description_tooltip": null,
            "layout": "IPY_MODEL_5b954e2f1b804cd4929a482ab23dcd75",
            "max": 8643,
            "min": 0,
            "orientation": "horizontal",
            "style": "IPY_MODEL_cfc885c54c0c4334a69898613f78cf49",
            "value": 8643
          }
        },
        "3e12c6041086408782e88c7e88dcc4dd": {
          "model_module": "@jupyter-widgets/controls",
          "model_name": "HTMLModel",
          "model_module_version": "1.5.0",
          "state": {
            "_dom_classes": [],
            "_model_module": "@jupyter-widgets/controls",
            "_model_module_version": "1.5.0",
            "_model_name": "HTMLModel",
            "_view_count": null,
            "_view_module": "@jupyter-widgets/controls",
            "_view_module_version": "1.5.0",
            "_view_name": "HTMLView",
            "description": "",
            "description_tooltip": null,
            "layout": "IPY_MODEL_922c82a4703740f38b8679c09a06ad99",
            "placeholder": "​",
            "style": "IPY_MODEL_2576a023f6e542618af2764d05d7d8f4",
            "value": " 8.64k/8.64k [00:00&lt;00:00, 299kB/s]"
          }
        },
        "d473e22651ca43feb81751127b0acd06": {
          "model_module": "@jupyter-widgets/base",
          "model_name": "LayoutModel",
          "model_module_version": "1.2.0",
          "state": {
            "_model_module": "@jupyter-widgets/base",
            "_model_module_version": "1.2.0",
            "_model_name": "LayoutModel",
            "_view_count": null,
            "_view_module": "@jupyter-widgets/base",
            "_view_module_version": "1.2.0",
            "_view_name": "LayoutView",
            "align_content": null,
            "align_items": null,
            "align_self": null,
            "border": null,
            "bottom": null,
            "display": null,
            "flex": null,
            "flex_flow": null,
            "grid_area": null,
            "grid_auto_columns": null,
            "grid_auto_flow": null,
            "grid_auto_rows": null,
            "grid_column": null,
            "grid_gap": null,
            "grid_row": null,
            "grid_template_areas": null,
            "grid_template_columns": null,
            "grid_template_rows": null,
            "height": null,
            "justify_content": null,
            "justify_items": null,
            "left": null,
            "margin": null,
            "max_height": null,
            "max_width": null,
            "min_height": null,
            "min_width": null,
            "object_fit": null,
            "object_position": null,
            "order": null,
            "overflow": null,
            "overflow_x": null,
            "overflow_y": null,
            "padding": null,
            "right": null,
            "top": null,
            "visibility": null,
            "width": null
          }
        },
        "233fdbc34142495b8bae91379fcd07ba": {
          "model_module": "@jupyter-widgets/base",
          "model_name": "LayoutModel",
          "model_module_version": "1.2.0",
          "state": {
            "_model_module": "@jupyter-widgets/base",
            "_model_module_version": "1.2.0",
            "_model_name": "LayoutModel",
            "_view_count": null,
            "_view_module": "@jupyter-widgets/base",
            "_view_module_version": "1.2.0",
            "_view_name": "LayoutView",
            "align_content": null,
            "align_items": null,
            "align_self": null,
            "border": null,
            "bottom": null,
            "display": null,
            "flex": null,
            "flex_flow": null,
            "grid_area": null,
            "grid_auto_columns": null,
            "grid_auto_flow": null,
            "grid_auto_rows": null,
            "grid_column": null,
            "grid_gap": null,
            "grid_row": null,
            "grid_template_areas": null,
            "grid_template_columns": null,
            "grid_template_rows": null,
            "height": null,
            "justify_content": null,
            "justify_items": null,
            "left": null,
            "margin": null,
            "max_height": null,
            "max_width": null,
            "min_height": null,
            "min_width": null,
            "object_fit": null,
            "object_position": null,
            "order": null,
            "overflow": null,
            "overflow_x": null,
            "overflow_y": null,
            "padding": null,
            "right": null,
            "top": null,
            "visibility": null,
            "width": null
          }
        },
        "3009b79ab7a6492181408d76e07a470a": {
          "model_module": "@jupyter-widgets/controls",
          "model_name": "DescriptionStyleModel",
          "model_module_version": "1.5.0",
          "state": {
            "_model_module": "@jupyter-widgets/controls",
            "_model_module_version": "1.5.0",
            "_model_name": "DescriptionStyleModel",
            "_view_count": null,
            "_view_module": "@jupyter-widgets/base",
            "_view_module_version": "1.2.0",
            "_view_name": "StyleView",
            "description_width": ""
          }
        },
        "5b954e2f1b804cd4929a482ab23dcd75": {
          "model_module": "@jupyter-widgets/base",
          "model_name": "LayoutModel",
          "model_module_version": "1.2.0",
          "state": {
            "_model_module": "@jupyter-widgets/base",
            "_model_module_version": "1.2.0",
            "_model_name": "LayoutModel",
            "_view_count": null,
            "_view_module": "@jupyter-widgets/base",
            "_view_module_version": "1.2.0",
            "_view_name": "LayoutView",
            "align_content": null,
            "align_items": null,
            "align_self": null,
            "border": null,
            "bottom": null,
            "display": null,
            "flex": null,
            "flex_flow": null,
            "grid_area": null,
            "grid_auto_columns": null,
            "grid_auto_flow": null,
            "grid_auto_rows": null,
            "grid_column": null,
            "grid_gap": null,
            "grid_row": null,
            "grid_template_areas": null,
            "grid_template_columns": null,
            "grid_template_rows": null,
            "height": null,
            "justify_content": null,
            "justify_items": null,
            "left": null,
            "margin": null,
            "max_height": null,
            "max_width": null,
            "min_height": null,
            "min_width": null,
            "object_fit": null,
            "object_position": null,
            "order": null,
            "overflow": null,
            "overflow_x": null,
            "overflow_y": null,
            "padding": null,
            "right": null,
            "top": null,
            "visibility": null,
            "width": null
          }
        },
        "cfc885c54c0c4334a69898613f78cf49": {
          "model_module": "@jupyter-widgets/controls",
          "model_name": "ProgressStyleModel",
          "model_module_version": "1.5.0",
          "state": {
            "_model_module": "@jupyter-widgets/controls",
            "_model_module_version": "1.5.0",
            "_model_name": "ProgressStyleModel",
            "_view_count": null,
            "_view_module": "@jupyter-widgets/base",
            "_view_module_version": "1.2.0",
            "_view_name": "StyleView",
            "bar_color": null,
            "description_width": ""
          }
        },
        "922c82a4703740f38b8679c09a06ad99": {
          "model_module": "@jupyter-widgets/base",
          "model_name": "LayoutModel",
          "model_module_version": "1.2.0",
          "state": {
            "_model_module": "@jupyter-widgets/base",
            "_model_module_version": "1.2.0",
            "_model_name": "LayoutModel",
            "_view_count": null,
            "_view_module": "@jupyter-widgets/base",
            "_view_module_version": "1.2.0",
            "_view_name": "LayoutView",
            "align_content": null,
            "align_items": null,
            "align_self": null,
            "border": null,
            "bottom": null,
            "display": null,
            "flex": null,
            "flex_flow": null,
            "grid_area": null,
            "grid_auto_columns": null,
            "grid_auto_flow": null,
            "grid_auto_rows": null,
            "grid_column": null,
            "grid_gap": null,
            "grid_row": null,
            "grid_template_areas": null,
            "grid_template_columns": null,
            "grid_template_rows": null,
            "height": null,
            "justify_content": null,
            "justify_items": null,
            "left": null,
            "margin": null,
            "max_height": null,
            "max_width": null,
            "min_height": null,
            "min_width": null,
            "object_fit": null,
            "object_position": null,
            "order": null,
            "overflow": null,
            "overflow_x": null,
            "overflow_y": null,
            "padding": null,
            "right": null,
            "top": null,
            "visibility": null,
            "width": null
          }
        },
        "2576a023f6e542618af2764d05d7d8f4": {
          "model_module": "@jupyter-widgets/controls",
          "model_name": "DescriptionStyleModel",
          "model_module_version": "1.5.0",
          "state": {
            "_model_module": "@jupyter-widgets/controls",
            "_model_module_version": "1.5.0",
            "_model_name": "DescriptionStyleModel",
            "_view_count": null,
            "_view_module": "@jupyter-widgets/base",
            "_view_module_version": "1.2.0",
            "_view_name": "StyleView",
            "description_width": ""
          }
        },
        "76e7a096bc6943c29b03600e230e7366": {
          "model_module": "@jupyter-widgets/controls",
          "model_name": "HBoxModel",
          "model_module_version": "1.5.0",
          "state": {
            "_dom_classes": [],
            "_model_module": "@jupyter-widgets/controls",
            "_model_module_version": "1.5.0",
            "_model_name": "HBoxModel",
            "_view_count": null,
            "_view_module": "@jupyter-widgets/controls",
            "_view_module_version": "1.5.0",
            "_view_name": "HBoxView",
            "box_style": "",
            "children": [
              "IPY_MODEL_39f54c5329c242adba87c692e162428a",
              "IPY_MODEL_0ed2a8f2681145c8b548a08f359274cb",
              "IPY_MODEL_bfb73db537734fd295dfbb9b73f47baf"
            ],
            "layout": "IPY_MODEL_c7900a9b32fd4cf98e0666b4619785b5"
          }
        },
        "39f54c5329c242adba87c692e162428a": {
          "model_module": "@jupyter-widgets/controls",
          "model_name": "HTMLModel",
          "model_module_version": "1.5.0",
          "state": {
            "_dom_classes": [],
            "_model_module": "@jupyter-widgets/controls",
            "_model_module_version": "1.5.0",
            "_model_name": "HTMLModel",
            "_view_count": null,
            "_view_module": "@jupyter-widgets/controls",
            "_view_module_version": "1.5.0",
            "_view_name": "HTMLView",
            "description": "",
            "description_tooltip": null,
            "layout": "IPY_MODEL_2de7def2fa81418b95e1a7e13cfee015",
            "placeholder": "​",
            "style": "IPY_MODEL_9ba609363ac947c4b0a55a43ae23713a",
            "value": "Downloading readme: 100%"
          }
        },
        "0ed2a8f2681145c8b548a08f359274cb": {
          "model_module": "@jupyter-widgets/controls",
          "model_name": "FloatProgressModel",
          "model_module_version": "1.5.0",
          "state": {
            "_dom_classes": [],
            "_model_module": "@jupyter-widgets/controls",
            "_model_module_version": "1.5.0",
            "_model_name": "FloatProgressModel",
            "_view_count": null,
            "_view_module": "@jupyter-widgets/controls",
            "_view_module_version": "1.5.0",
            "_view_name": "ProgressView",
            "bar_style": "success",
            "description": "",
            "description_tooltip": null,
            "layout": "IPY_MODEL_fd8eabcebfe1470f81453717c08be246",
            "max": 11863,
            "min": 0,
            "orientation": "horizontal",
            "style": "IPY_MODEL_f9b4188af94f409282a3be30c5cb7e97",
            "value": 11863
          }
        },
        "bfb73db537734fd295dfbb9b73f47baf": {
          "model_module": "@jupyter-widgets/controls",
          "model_name": "HTMLModel",
          "model_module_version": "1.5.0",
          "state": {
            "_dom_classes": [],
            "_model_module": "@jupyter-widgets/controls",
            "_model_module_version": "1.5.0",
            "_model_name": "HTMLModel",
            "_view_count": null,
            "_view_module": "@jupyter-widgets/controls",
            "_view_module_version": "1.5.0",
            "_view_name": "HTMLView",
            "description": "",
            "description_tooltip": null,
            "layout": "IPY_MODEL_11b5f0b0660745b2a138d77f820f40bf",
            "placeholder": "​",
            "style": "IPY_MODEL_633d75c97b9040ffa35adfaa7831e396",
            "value": " 11.9k/11.9k [00:00&lt;00:00, 313kB/s]"
          }
        },
        "c7900a9b32fd4cf98e0666b4619785b5": {
          "model_module": "@jupyter-widgets/base",
          "model_name": "LayoutModel",
          "model_module_version": "1.2.0",
          "state": {
            "_model_module": "@jupyter-widgets/base",
            "_model_module_version": "1.2.0",
            "_model_name": "LayoutModel",
            "_view_count": null,
            "_view_module": "@jupyter-widgets/base",
            "_view_module_version": "1.2.0",
            "_view_name": "LayoutView",
            "align_content": null,
            "align_items": null,
            "align_self": null,
            "border": null,
            "bottom": null,
            "display": null,
            "flex": null,
            "flex_flow": null,
            "grid_area": null,
            "grid_auto_columns": null,
            "grid_auto_flow": null,
            "grid_auto_rows": null,
            "grid_column": null,
            "grid_gap": null,
            "grid_row": null,
            "grid_template_areas": null,
            "grid_template_columns": null,
            "grid_template_rows": null,
            "height": null,
            "justify_content": null,
            "justify_items": null,
            "left": null,
            "margin": null,
            "max_height": null,
            "max_width": null,
            "min_height": null,
            "min_width": null,
            "object_fit": null,
            "object_position": null,
            "order": null,
            "overflow": null,
            "overflow_x": null,
            "overflow_y": null,
            "padding": null,
            "right": null,
            "top": null,
            "visibility": null,
            "width": null
          }
        },
        "2de7def2fa81418b95e1a7e13cfee015": {
          "model_module": "@jupyter-widgets/base",
          "model_name": "LayoutModel",
          "model_module_version": "1.2.0",
          "state": {
            "_model_module": "@jupyter-widgets/base",
            "_model_module_version": "1.2.0",
            "_model_name": "LayoutModel",
            "_view_count": null,
            "_view_module": "@jupyter-widgets/base",
            "_view_module_version": "1.2.0",
            "_view_name": "LayoutView",
            "align_content": null,
            "align_items": null,
            "align_self": null,
            "border": null,
            "bottom": null,
            "display": null,
            "flex": null,
            "flex_flow": null,
            "grid_area": null,
            "grid_auto_columns": null,
            "grid_auto_flow": null,
            "grid_auto_rows": null,
            "grid_column": null,
            "grid_gap": null,
            "grid_row": null,
            "grid_template_areas": null,
            "grid_template_columns": null,
            "grid_template_rows": null,
            "height": null,
            "justify_content": null,
            "justify_items": null,
            "left": null,
            "margin": null,
            "max_height": null,
            "max_width": null,
            "min_height": null,
            "min_width": null,
            "object_fit": null,
            "object_position": null,
            "order": null,
            "overflow": null,
            "overflow_x": null,
            "overflow_y": null,
            "padding": null,
            "right": null,
            "top": null,
            "visibility": null,
            "width": null
          }
        },
        "9ba609363ac947c4b0a55a43ae23713a": {
          "model_module": "@jupyter-widgets/controls",
          "model_name": "DescriptionStyleModel",
          "model_module_version": "1.5.0",
          "state": {
            "_model_module": "@jupyter-widgets/controls",
            "_model_module_version": "1.5.0",
            "_model_name": "DescriptionStyleModel",
            "_view_count": null,
            "_view_module": "@jupyter-widgets/base",
            "_view_module_version": "1.2.0",
            "_view_name": "StyleView",
            "description_width": ""
          }
        },
        "fd8eabcebfe1470f81453717c08be246": {
          "model_module": "@jupyter-widgets/base",
          "model_name": "LayoutModel",
          "model_module_version": "1.2.0",
          "state": {
            "_model_module": "@jupyter-widgets/base",
            "_model_module_version": "1.2.0",
            "_model_name": "LayoutModel",
            "_view_count": null,
            "_view_module": "@jupyter-widgets/base",
            "_view_module_version": "1.2.0",
            "_view_name": "LayoutView",
            "align_content": null,
            "align_items": null,
            "align_self": null,
            "border": null,
            "bottom": null,
            "display": null,
            "flex": null,
            "flex_flow": null,
            "grid_area": null,
            "grid_auto_columns": null,
            "grid_auto_flow": null,
            "grid_auto_rows": null,
            "grid_column": null,
            "grid_gap": null,
            "grid_row": null,
            "grid_template_areas": null,
            "grid_template_columns": null,
            "grid_template_rows": null,
            "height": null,
            "justify_content": null,
            "justify_items": null,
            "left": null,
            "margin": null,
            "max_height": null,
            "max_width": null,
            "min_height": null,
            "min_width": null,
            "object_fit": null,
            "object_position": null,
            "order": null,
            "overflow": null,
            "overflow_x": null,
            "overflow_y": null,
            "padding": null,
            "right": null,
            "top": null,
            "visibility": null,
            "width": null
          }
        },
        "f9b4188af94f409282a3be30c5cb7e97": {
          "model_module": "@jupyter-widgets/controls",
          "model_name": "ProgressStyleModel",
          "model_module_version": "1.5.0",
          "state": {
            "_model_module": "@jupyter-widgets/controls",
            "_model_module_version": "1.5.0",
            "_model_name": "ProgressStyleModel",
            "_view_count": null,
            "_view_module": "@jupyter-widgets/base",
            "_view_module_version": "1.2.0",
            "_view_name": "StyleView",
            "bar_color": null,
            "description_width": ""
          }
        },
        "11b5f0b0660745b2a138d77f820f40bf": {
          "model_module": "@jupyter-widgets/base",
          "model_name": "LayoutModel",
          "model_module_version": "1.2.0",
          "state": {
            "_model_module": "@jupyter-widgets/base",
            "_model_module_version": "1.2.0",
            "_model_name": "LayoutModel",
            "_view_count": null,
            "_view_module": "@jupyter-widgets/base",
            "_view_module_version": "1.2.0",
            "_view_name": "LayoutView",
            "align_content": null,
            "align_items": null,
            "align_self": null,
            "border": null,
            "bottom": null,
            "display": null,
            "flex": null,
            "flex_flow": null,
            "grid_area": null,
            "grid_auto_columns": null,
            "grid_auto_flow": null,
            "grid_auto_rows": null,
            "grid_column": null,
            "grid_gap": null,
            "grid_row": null,
            "grid_template_areas": null,
            "grid_template_columns": null,
            "grid_template_rows": null,
            "height": null,
            "justify_content": null,
            "justify_items": null,
            "left": null,
            "margin": null,
            "max_height": null,
            "max_width": null,
            "min_height": null,
            "min_width": null,
            "object_fit": null,
            "object_position": null,
            "order": null,
            "overflow": null,
            "overflow_x": null,
            "overflow_y": null,
            "padding": null,
            "right": null,
            "top": null,
            "visibility": null,
            "width": null
          }
        },
        "633d75c97b9040ffa35adfaa7831e396": {
          "model_module": "@jupyter-widgets/controls",
          "model_name": "DescriptionStyleModel",
          "model_module_version": "1.5.0",
          "state": {
            "_model_module": "@jupyter-widgets/controls",
            "_model_module_version": "1.5.0",
            "_model_name": "DescriptionStyleModel",
            "_view_count": null,
            "_view_module": "@jupyter-widgets/base",
            "_view_module_version": "1.2.0",
            "_view_name": "StyleView",
            "description_width": ""
          }
        },
        "a1e722e5664a445ab350182249b119fa": {
          "model_module": "@jupyter-widgets/controls",
          "model_name": "HBoxModel",
          "model_module_version": "1.5.0",
          "state": {
            "_dom_classes": [],
            "_model_module": "@jupyter-widgets/controls",
            "_model_module_version": "1.5.0",
            "_model_name": "HBoxModel",
            "_view_count": null,
            "_view_module": "@jupyter-widgets/controls",
            "_view_module_version": "1.5.0",
            "_view_name": "HBoxView",
            "box_style": "",
            "children": [
              "IPY_MODEL_efe828aea61f4ce6ae13335452eb0a19",
              "IPY_MODEL_ab25318954fd41c89918e91de770a4fc",
              "IPY_MODEL_dece11393fc142308d07cf978b3d706b"
            ],
            "layout": "IPY_MODEL_3aac780821f741ac9cf5201f62c88ccc"
          }
        },
        "efe828aea61f4ce6ae13335452eb0a19": {
          "model_module": "@jupyter-widgets/controls",
          "model_name": "HTMLModel",
          "model_module_version": "1.5.0",
          "state": {
            "_dom_classes": [],
            "_model_module": "@jupyter-widgets/controls",
            "_model_module_version": "1.5.0",
            "_model_name": "HTMLModel",
            "_view_count": null,
            "_view_module": "@jupyter-widgets/controls",
            "_view_module_version": "1.5.0",
            "_view_name": "HTMLView",
            "description": "",
            "description_tooltip": null,
            "layout": "IPY_MODEL_e153226455f14eabb119ad609eaf4bfd",
            "placeholder": "​",
            "style": "IPY_MODEL_5d5975c774b44f69bb6f83f77419beea",
            "value": "Downloading data: 100%"
          }
        },
        "ab25318954fd41c89918e91de770a4fc": {
          "model_module": "@jupyter-widgets/controls",
          "model_name": "FloatProgressModel",
          "model_module_version": "1.5.0",
          "state": {
            "_dom_classes": [],
            "_model_module": "@jupyter-widgets/controls",
            "_model_module_version": "1.5.0",
            "_model_name": "FloatProgressModel",
            "_view_count": null,
            "_view_module": "@jupyter-widgets/controls",
            "_view_module_version": "1.5.0",
            "_view_name": "ProgressView",
            "bar_style": "success",
            "description": "",
            "description_tooltip": null,
            "layout": "IPY_MODEL_78a6b7eb14ce403798ecceee4a6ee75e",
            "max": 27147920,
            "min": 0,
            "orientation": "horizontal",
            "style": "IPY_MODEL_ef4f3a1447244ecdb560b40c764f685a",
            "value": 27147920
          }
        },
        "dece11393fc142308d07cf978b3d706b": {
          "model_module": "@jupyter-widgets/controls",
          "model_name": "HTMLModel",
          "model_module_version": "1.5.0",
          "state": {
            "_dom_classes": [],
            "_model_module": "@jupyter-widgets/controls",
            "_model_module_version": "1.5.0",
            "_model_name": "HTMLModel",
            "_view_count": null,
            "_view_module": "@jupyter-widgets/controls",
            "_view_module_version": "1.5.0",
            "_view_name": "HTMLView",
            "description": "",
            "description_tooltip": null,
            "layout": "IPY_MODEL_f2968f792d2241d6a4a5ec99e2f643c9",
            "placeholder": "​",
            "style": "IPY_MODEL_ea48cdc9dff144509a2238380858ba59",
            "value": " 27.1M/27.1M [00:01&lt;00:00, 15.7MB/s]"
          }
        },
        "3aac780821f741ac9cf5201f62c88ccc": {
          "model_module": "@jupyter-widgets/base",
          "model_name": "LayoutModel",
          "model_module_version": "1.2.0",
          "state": {
            "_model_module": "@jupyter-widgets/base",
            "_model_module_version": "1.2.0",
            "_model_name": "LayoutModel",
            "_view_count": null,
            "_view_module": "@jupyter-widgets/base",
            "_view_module_version": "1.2.0",
            "_view_name": "LayoutView",
            "align_content": null,
            "align_items": null,
            "align_self": null,
            "border": null,
            "bottom": null,
            "display": null,
            "flex": null,
            "flex_flow": null,
            "grid_area": null,
            "grid_auto_columns": null,
            "grid_auto_flow": null,
            "grid_auto_rows": null,
            "grid_column": null,
            "grid_gap": null,
            "grid_row": null,
            "grid_template_areas": null,
            "grid_template_columns": null,
            "grid_template_rows": null,
            "height": null,
            "justify_content": null,
            "justify_items": null,
            "left": null,
            "margin": null,
            "max_height": null,
            "max_width": null,
            "min_height": null,
            "min_width": null,
            "object_fit": null,
            "object_position": null,
            "order": null,
            "overflow": null,
            "overflow_x": null,
            "overflow_y": null,
            "padding": null,
            "right": null,
            "top": null,
            "visibility": null,
            "width": null
          }
        },
        "e153226455f14eabb119ad609eaf4bfd": {
          "model_module": "@jupyter-widgets/base",
          "model_name": "LayoutModel",
          "model_module_version": "1.2.0",
          "state": {
            "_model_module": "@jupyter-widgets/base",
            "_model_module_version": "1.2.0",
            "_model_name": "LayoutModel",
            "_view_count": null,
            "_view_module": "@jupyter-widgets/base",
            "_view_module_version": "1.2.0",
            "_view_name": "LayoutView",
            "align_content": null,
            "align_items": null,
            "align_self": null,
            "border": null,
            "bottom": null,
            "display": null,
            "flex": null,
            "flex_flow": null,
            "grid_area": null,
            "grid_auto_columns": null,
            "grid_auto_flow": null,
            "grid_auto_rows": null,
            "grid_column": null,
            "grid_gap": null,
            "grid_row": null,
            "grid_template_areas": null,
            "grid_template_columns": null,
            "grid_template_rows": null,
            "height": null,
            "justify_content": null,
            "justify_items": null,
            "left": null,
            "margin": null,
            "max_height": null,
            "max_width": null,
            "min_height": null,
            "min_width": null,
            "object_fit": null,
            "object_position": null,
            "order": null,
            "overflow": null,
            "overflow_x": null,
            "overflow_y": null,
            "padding": null,
            "right": null,
            "top": null,
            "visibility": null,
            "width": null
          }
        },
        "5d5975c774b44f69bb6f83f77419beea": {
          "model_module": "@jupyter-widgets/controls",
          "model_name": "DescriptionStyleModel",
          "model_module_version": "1.5.0",
          "state": {
            "_model_module": "@jupyter-widgets/controls",
            "_model_module_version": "1.5.0",
            "_model_name": "DescriptionStyleModel",
            "_view_count": null,
            "_view_module": "@jupyter-widgets/base",
            "_view_module_version": "1.2.0",
            "_view_name": "StyleView",
            "description_width": ""
          }
        },
        "78a6b7eb14ce403798ecceee4a6ee75e": {
          "model_module": "@jupyter-widgets/base",
          "model_name": "LayoutModel",
          "model_module_version": "1.2.0",
          "state": {
            "_model_module": "@jupyter-widgets/base",
            "_model_module_version": "1.2.0",
            "_model_name": "LayoutModel",
            "_view_count": null,
            "_view_module": "@jupyter-widgets/base",
            "_view_module_version": "1.2.0",
            "_view_name": "LayoutView",
            "align_content": null,
            "align_items": null,
            "align_self": null,
            "border": null,
            "bottom": null,
            "display": null,
            "flex": null,
            "flex_flow": null,
            "grid_area": null,
            "grid_auto_columns": null,
            "grid_auto_flow": null,
            "grid_auto_rows": null,
            "grid_column": null,
            "grid_gap": null,
            "grid_row": null,
            "grid_template_areas": null,
            "grid_template_columns": null,
            "grid_template_rows": null,
            "height": null,
            "justify_content": null,
            "justify_items": null,
            "left": null,
            "margin": null,
            "max_height": null,
            "max_width": null,
            "min_height": null,
            "min_width": null,
            "object_fit": null,
            "object_position": null,
            "order": null,
            "overflow": null,
            "overflow_x": null,
            "overflow_y": null,
            "padding": null,
            "right": null,
            "top": null,
            "visibility": null,
            "width": null
          }
        },
        "ef4f3a1447244ecdb560b40c764f685a": {
          "model_module": "@jupyter-widgets/controls",
          "model_name": "ProgressStyleModel",
          "model_module_version": "1.5.0",
          "state": {
            "_model_module": "@jupyter-widgets/controls",
            "_model_module_version": "1.5.0",
            "_model_name": "ProgressStyleModel",
            "_view_count": null,
            "_view_module": "@jupyter-widgets/base",
            "_view_module_version": "1.2.0",
            "_view_name": "StyleView",
            "bar_color": null,
            "description_width": ""
          }
        },
        "f2968f792d2241d6a4a5ec99e2f643c9": {
          "model_module": "@jupyter-widgets/base",
          "model_name": "LayoutModel",
          "model_module_version": "1.2.0",
          "state": {
            "_model_module": "@jupyter-widgets/base",
            "_model_module_version": "1.2.0",
            "_model_name": "LayoutModel",
            "_view_count": null,
            "_view_module": "@jupyter-widgets/base",
            "_view_module_version": "1.2.0",
            "_view_name": "LayoutView",
            "align_content": null,
            "align_items": null,
            "align_self": null,
            "border": null,
            "bottom": null,
            "display": null,
            "flex": null,
            "flex_flow": null,
            "grid_area": null,
            "grid_auto_columns": null,
            "grid_auto_flow": null,
            "grid_auto_rows": null,
            "grid_column": null,
            "grid_gap": null,
            "grid_row": null,
            "grid_template_areas": null,
            "grid_template_columns": null,
            "grid_template_rows": null,
            "height": null,
            "justify_content": null,
            "justify_items": null,
            "left": null,
            "margin": null,
            "max_height": null,
            "max_width": null,
            "min_height": null,
            "min_width": null,
            "object_fit": null,
            "object_position": null,
            "order": null,
            "overflow": null,
            "overflow_x": null,
            "overflow_y": null,
            "padding": null,
            "right": null,
            "top": null,
            "visibility": null,
            "width": null
          }
        },
        "ea48cdc9dff144509a2238380858ba59": {
          "model_module": "@jupyter-widgets/controls",
          "model_name": "DescriptionStyleModel",
          "model_module_version": "1.5.0",
          "state": {
            "_model_module": "@jupyter-widgets/controls",
            "_model_module_version": "1.5.0",
            "_model_name": "DescriptionStyleModel",
            "_view_count": null,
            "_view_module": "@jupyter-widgets/base",
            "_view_module_version": "1.2.0",
            "_view_name": "StyleView",
            "description_width": ""
          }
        },
        "8b3b9502213d42b08ad9fd8473659798": {
          "model_module": "@jupyter-widgets/controls",
          "model_name": "HBoxModel",
          "model_module_version": "1.5.0",
          "state": {
            "_dom_classes": [],
            "_model_module": "@jupyter-widgets/controls",
            "_model_module_version": "1.5.0",
            "_model_name": "HBoxModel",
            "_view_count": null,
            "_view_module": "@jupyter-widgets/controls",
            "_view_module_version": "1.5.0",
            "_view_name": "HBoxView",
            "box_style": "",
            "children": [
              "IPY_MODEL_6bed982c14c94544ae12516f1b6d309b",
              "IPY_MODEL_e185e0e96acd4169a92326e8571834bf",
              "IPY_MODEL_5d39e7a987724cf39b6adc3760566c31"
            ],
            "layout": "IPY_MODEL_e84f00063f544b62b72fbc9c4d6ee760"
          }
        },
        "6bed982c14c94544ae12516f1b6d309b": {
          "model_module": "@jupyter-widgets/controls",
          "model_name": "HTMLModel",
          "model_module_version": "1.5.0",
          "state": {
            "_dom_classes": [],
            "_model_module": "@jupyter-widgets/controls",
            "_model_module_version": "1.5.0",
            "_model_name": "HTMLModel",
            "_view_count": null,
            "_view_module": "@jupyter-widgets/controls",
            "_view_module_version": "1.5.0",
            "_view_name": "HTMLView",
            "description": "",
            "description_tooltip": null,
            "layout": "IPY_MODEL_ea4c8dc61e9446d9800b4850d932cd5e",
            "placeholder": "​",
            "style": "IPY_MODEL_423cd2f27a184a6cb4206b6ca71db1f0",
            "value": "Generating train split: 100%"
          }
        },
        "e185e0e96acd4169a92326e8571834bf": {
          "model_module": "@jupyter-widgets/controls",
          "model_name": "FloatProgressModel",
          "model_module_version": "1.5.0",
          "state": {
            "_dom_classes": [],
            "_model_module": "@jupyter-widgets/controls",
            "_model_module_version": "1.5.0",
            "_model_name": "FloatProgressModel",
            "_view_count": null,
            "_view_module": "@jupyter-widgets/controls",
            "_view_module_version": "1.5.0",
            "_view_name": "ProgressView",
            "bar_style": "success",
            "description": "",
            "description_tooltip": null,
            "layout": "IPY_MODEL_bc215fcfffb64d1baf8b540d7449fd2b",
            "max": 1020868,
            "min": 0,
            "orientation": "horizontal",
            "style": "IPY_MODEL_bed4090221884656a8c41905bcb0663c",
            "value": 1020868
          }
        },
        "5d39e7a987724cf39b6adc3760566c31": {
          "model_module": "@jupyter-widgets/controls",
          "model_name": "HTMLModel",
          "model_module_version": "1.5.0",
          "state": {
            "_dom_classes": [],
            "_model_module": "@jupyter-widgets/controls",
            "_model_module_version": "1.5.0",
            "_model_name": "HTMLModel",
            "_view_count": null,
            "_view_module": "@jupyter-widgets/controls",
            "_view_module_version": "1.5.0",
            "_view_name": "HTMLView",
            "description": "",
            "description_tooltip": null,
            "layout": "IPY_MODEL_944ebac0567a4a5b84886f9dec8b5190",
            "placeholder": "​",
            "style": "IPY_MODEL_984e1497fae54a66819e38f42a635c88",
            "value": " 1020868/1020868 [01:28&lt;00:00, 18940.43 examples/s]"
          }
        },
        "e84f00063f544b62b72fbc9c4d6ee760": {
          "model_module": "@jupyter-widgets/base",
          "model_name": "LayoutModel",
          "model_module_version": "1.2.0",
          "state": {
            "_model_module": "@jupyter-widgets/base",
            "_model_module_version": "1.2.0",
            "_model_name": "LayoutModel",
            "_view_count": null,
            "_view_module": "@jupyter-widgets/base",
            "_view_module_version": "1.2.0",
            "_view_name": "LayoutView",
            "align_content": null,
            "align_items": null,
            "align_self": null,
            "border": null,
            "bottom": null,
            "display": null,
            "flex": null,
            "flex_flow": null,
            "grid_area": null,
            "grid_auto_columns": null,
            "grid_auto_flow": null,
            "grid_auto_rows": null,
            "grid_column": null,
            "grid_gap": null,
            "grid_row": null,
            "grid_template_areas": null,
            "grid_template_columns": null,
            "grid_template_rows": null,
            "height": null,
            "justify_content": null,
            "justify_items": null,
            "left": null,
            "margin": null,
            "max_height": null,
            "max_width": null,
            "min_height": null,
            "min_width": null,
            "object_fit": null,
            "object_position": null,
            "order": null,
            "overflow": null,
            "overflow_x": null,
            "overflow_y": null,
            "padding": null,
            "right": null,
            "top": null,
            "visibility": null,
            "width": null
          }
        },
        "ea4c8dc61e9446d9800b4850d932cd5e": {
          "model_module": "@jupyter-widgets/base",
          "model_name": "LayoutModel",
          "model_module_version": "1.2.0",
          "state": {
            "_model_module": "@jupyter-widgets/base",
            "_model_module_version": "1.2.0",
            "_model_name": "LayoutModel",
            "_view_count": null,
            "_view_module": "@jupyter-widgets/base",
            "_view_module_version": "1.2.0",
            "_view_name": "LayoutView",
            "align_content": null,
            "align_items": null,
            "align_self": null,
            "border": null,
            "bottom": null,
            "display": null,
            "flex": null,
            "flex_flow": null,
            "grid_area": null,
            "grid_auto_columns": null,
            "grid_auto_flow": null,
            "grid_auto_rows": null,
            "grid_column": null,
            "grid_gap": null,
            "grid_row": null,
            "grid_template_areas": null,
            "grid_template_columns": null,
            "grid_template_rows": null,
            "height": null,
            "justify_content": null,
            "justify_items": null,
            "left": null,
            "margin": null,
            "max_height": null,
            "max_width": null,
            "min_height": null,
            "min_width": null,
            "object_fit": null,
            "object_position": null,
            "order": null,
            "overflow": null,
            "overflow_x": null,
            "overflow_y": null,
            "padding": null,
            "right": null,
            "top": null,
            "visibility": null,
            "width": null
          }
        },
        "423cd2f27a184a6cb4206b6ca71db1f0": {
          "model_module": "@jupyter-widgets/controls",
          "model_name": "DescriptionStyleModel",
          "model_module_version": "1.5.0",
          "state": {
            "_model_module": "@jupyter-widgets/controls",
            "_model_module_version": "1.5.0",
            "_model_name": "DescriptionStyleModel",
            "_view_count": null,
            "_view_module": "@jupyter-widgets/base",
            "_view_module_version": "1.2.0",
            "_view_name": "StyleView",
            "description_width": ""
          }
        },
        "bc215fcfffb64d1baf8b540d7449fd2b": {
          "model_module": "@jupyter-widgets/base",
          "model_name": "LayoutModel",
          "model_module_version": "1.2.0",
          "state": {
            "_model_module": "@jupyter-widgets/base",
            "_model_module_version": "1.2.0",
            "_model_name": "LayoutModel",
            "_view_count": null,
            "_view_module": "@jupyter-widgets/base",
            "_view_module_version": "1.2.0",
            "_view_name": "LayoutView",
            "align_content": null,
            "align_items": null,
            "align_self": null,
            "border": null,
            "bottom": null,
            "display": null,
            "flex": null,
            "flex_flow": null,
            "grid_area": null,
            "grid_auto_columns": null,
            "grid_auto_flow": null,
            "grid_auto_rows": null,
            "grid_column": null,
            "grid_gap": null,
            "grid_row": null,
            "grid_template_areas": null,
            "grid_template_columns": null,
            "grid_template_rows": null,
            "height": null,
            "justify_content": null,
            "justify_items": null,
            "left": null,
            "margin": null,
            "max_height": null,
            "max_width": null,
            "min_height": null,
            "min_width": null,
            "object_fit": null,
            "object_position": null,
            "order": null,
            "overflow": null,
            "overflow_x": null,
            "overflow_y": null,
            "padding": null,
            "right": null,
            "top": null,
            "visibility": null,
            "width": null
          }
        },
        "bed4090221884656a8c41905bcb0663c": {
          "model_module": "@jupyter-widgets/controls",
          "model_name": "ProgressStyleModel",
          "model_module_version": "1.5.0",
          "state": {
            "_model_module": "@jupyter-widgets/controls",
            "_model_module_version": "1.5.0",
            "_model_name": "ProgressStyleModel",
            "_view_count": null,
            "_view_module": "@jupyter-widgets/base",
            "_view_module_version": "1.2.0",
            "_view_name": "StyleView",
            "bar_color": null,
            "description_width": ""
          }
        },
        "944ebac0567a4a5b84886f9dec8b5190": {
          "model_module": "@jupyter-widgets/base",
          "model_name": "LayoutModel",
          "model_module_version": "1.2.0",
          "state": {
            "_model_module": "@jupyter-widgets/base",
            "_model_module_version": "1.2.0",
            "_model_name": "LayoutModel",
            "_view_count": null,
            "_view_module": "@jupyter-widgets/base",
            "_view_module_version": "1.2.0",
            "_view_name": "LayoutView",
            "align_content": null,
            "align_items": null,
            "align_self": null,
            "border": null,
            "bottom": null,
            "display": null,
            "flex": null,
            "flex_flow": null,
            "grid_area": null,
            "grid_auto_columns": null,
            "grid_auto_flow": null,
            "grid_auto_rows": null,
            "grid_column": null,
            "grid_gap": null,
            "grid_row": null,
            "grid_template_areas": null,
            "grid_template_columns": null,
            "grid_template_rows": null,
            "height": null,
            "justify_content": null,
            "justify_items": null,
            "left": null,
            "margin": null,
            "max_height": null,
            "max_width": null,
            "min_height": null,
            "min_width": null,
            "object_fit": null,
            "object_position": null,
            "order": null,
            "overflow": null,
            "overflow_x": null,
            "overflow_y": null,
            "padding": null,
            "right": null,
            "top": null,
            "visibility": null,
            "width": null
          }
        },
        "984e1497fae54a66819e38f42a635c88": {
          "model_module": "@jupyter-widgets/controls",
          "model_name": "DescriptionStyleModel",
          "model_module_version": "1.5.0",
          "state": {
            "_model_module": "@jupyter-widgets/controls",
            "_model_module_version": "1.5.0",
            "_model_name": "DescriptionStyleModel",
            "_view_count": null,
            "_view_module": "@jupyter-widgets/base",
            "_view_module_version": "1.2.0",
            "_view_name": "StyleView",
            "description_width": ""
          }
        },
        "1dc63520b94344e6933cabb36ad8658c": {
          "model_module": "@jupyter-widgets/controls",
          "model_name": "HBoxModel",
          "model_module_version": "1.5.0",
          "state": {
            "_dom_classes": [],
            "_model_module": "@jupyter-widgets/controls",
            "_model_module_version": "1.5.0",
            "_model_name": "HBoxModel",
            "_view_count": null,
            "_view_module": "@jupyter-widgets/controls",
            "_view_module_version": "1.5.0",
            "_view_name": "HBoxView",
            "box_style": "",
            "children": [
              "IPY_MODEL_551ea7fb380e447cb7c780456501106a",
              "IPY_MODEL_414b4d6e46e54704a09dd3a63f3a854f",
              "IPY_MODEL_8bcbc7e1a7ae4c3eb45453487ecc6c6f"
            ],
            "layout": "IPY_MODEL_59ce8a73628440f48e5b8808654af536"
          }
        },
        "551ea7fb380e447cb7c780456501106a": {
          "model_module": "@jupyter-widgets/controls",
          "model_name": "HTMLModel",
          "model_module_version": "1.5.0",
          "state": {
            "_dom_classes": [],
            "_model_module": "@jupyter-widgets/controls",
            "_model_module_version": "1.5.0",
            "_model_name": "HTMLModel",
            "_view_count": null,
            "_view_module": "@jupyter-widgets/controls",
            "_view_module_version": "1.5.0",
            "_view_name": "HTMLView",
            "description": "",
            "description_tooltip": null,
            "layout": "IPY_MODEL_fe343ed17bd942f89c911f16efaea888",
            "placeholder": "​",
            "style": "IPY_MODEL_cd0cf491914246cbbeb548c324230db0",
            "value": "Filter: 100%"
          }
        },
        "414b4d6e46e54704a09dd3a63f3a854f": {
          "model_module": "@jupyter-widgets/controls",
          "model_name": "FloatProgressModel",
          "model_module_version": "1.5.0",
          "state": {
            "_dom_classes": [],
            "_model_module": "@jupyter-widgets/controls",
            "_model_module_version": "1.5.0",
            "_model_name": "FloatProgressModel",
            "_view_count": null,
            "_view_module": "@jupyter-widgets/controls",
            "_view_module_version": "1.5.0",
            "_view_name": "ProgressView",
            "bar_style": "success",
            "description": "",
            "description_tooltip": null,
            "layout": "IPY_MODEL_4641463669e34823ac610fe6bf89a0da",
            "max": 1020868,
            "min": 0,
            "orientation": "horizontal",
            "style": "IPY_MODEL_5adc2bd24f444f64bbc0a1a91eacf9c4",
            "value": 1020868
          }
        },
        "8bcbc7e1a7ae4c3eb45453487ecc6c6f": {
          "model_module": "@jupyter-widgets/controls",
          "model_name": "HTMLModel",
          "model_module_version": "1.5.0",
          "state": {
            "_dom_classes": [],
            "_model_module": "@jupyter-widgets/controls",
            "_model_module_version": "1.5.0",
            "_model_name": "HTMLModel",
            "_view_count": null,
            "_view_module": "@jupyter-widgets/controls",
            "_view_module_version": "1.5.0",
            "_view_name": "HTMLView",
            "description": "",
            "description_tooltip": null,
            "layout": "IPY_MODEL_54439031ef13421d8be80f69f9d2a9ad",
            "placeholder": "​",
            "style": "IPY_MODEL_5005f60a3e314c56af8d7088b2cf1d7b",
            "value": " 1020868/1020868 [00:16&lt;00:00, 48640.40 examples/s]"
          }
        },
        "59ce8a73628440f48e5b8808654af536": {
          "model_module": "@jupyter-widgets/base",
          "model_name": "LayoutModel",
          "model_module_version": "1.2.0",
          "state": {
            "_model_module": "@jupyter-widgets/base",
            "_model_module_version": "1.2.0",
            "_model_name": "LayoutModel",
            "_view_count": null,
            "_view_module": "@jupyter-widgets/base",
            "_view_module_version": "1.2.0",
            "_view_name": "LayoutView",
            "align_content": null,
            "align_items": null,
            "align_self": null,
            "border": null,
            "bottom": null,
            "display": null,
            "flex": null,
            "flex_flow": null,
            "grid_area": null,
            "grid_auto_columns": null,
            "grid_auto_flow": null,
            "grid_auto_rows": null,
            "grid_column": null,
            "grid_gap": null,
            "grid_row": null,
            "grid_template_areas": null,
            "grid_template_columns": null,
            "grid_template_rows": null,
            "height": null,
            "justify_content": null,
            "justify_items": null,
            "left": null,
            "margin": null,
            "max_height": null,
            "max_width": null,
            "min_height": null,
            "min_width": null,
            "object_fit": null,
            "object_position": null,
            "order": null,
            "overflow": null,
            "overflow_x": null,
            "overflow_y": null,
            "padding": null,
            "right": null,
            "top": null,
            "visibility": null,
            "width": null
          }
        },
        "fe343ed17bd942f89c911f16efaea888": {
          "model_module": "@jupyter-widgets/base",
          "model_name": "LayoutModel",
          "model_module_version": "1.2.0",
          "state": {
            "_model_module": "@jupyter-widgets/base",
            "_model_module_version": "1.2.0",
            "_model_name": "LayoutModel",
            "_view_count": null,
            "_view_module": "@jupyter-widgets/base",
            "_view_module_version": "1.2.0",
            "_view_name": "LayoutView",
            "align_content": null,
            "align_items": null,
            "align_self": null,
            "border": null,
            "bottom": null,
            "display": null,
            "flex": null,
            "flex_flow": null,
            "grid_area": null,
            "grid_auto_columns": null,
            "grid_auto_flow": null,
            "grid_auto_rows": null,
            "grid_column": null,
            "grid_gap": null,
            "grid_row": null,
            "grid_template_areas": null,
            "grid_template_columns": null,
            "grid_template_rows": null,
            "height": null,
            "justify_content": null,
            "justify_items": null,
            "left": null,
            "margin": null,
            "max_height": null,
            "max_width": null,
            "min_height": null,
            "min_width": null,
            "object_fit": null,
            "object_position": null,
            "order": null,
            "overflow": null,
            "overflow_x": null,
            "overflow_y": null,
            "padding": null,
            "right": null,
            "top": null,
            "visibility": null,
            "width": null
          }
        },
        "cd0cf491914246cbbeb548c324230db0": {
          "model_module": "@jupyter-widgets/controls",
          "model_name": "DescriptionStyleModel",
          "model_module_version": "1.5.0",
          "state": {
            "_model_module": "@jupyter-widgets/controls",
            "_model_module_version": "1.5.0",
            "_model_name": "DescriptionStyleModel",
            "_view_count": null,
            "_view_module": "@jupyter-widgets/base",
            "_view_module_version": "1.2.0",
            "_view_name": "StyleView",
            "description_width": ""
          }
        },
        "4641463669e34823ac610fe6bf89a0da": {
          "model_module": "@jupyter-widgets/base",
          "model_name": "LayoutModel",
          "model_module_version": "1.2.0",
          "state": {
            "_model_module": "@jupyter-widgets/base",
            "_model_module_version": "1.2.0",
            "_model_name": "LayoutModel",
            "_view_count": null,
            "_view_module": "@jupyter-widgets/base",
            "_view_module_version": "1.2.0",
            "_view_name": "LayoutView",
            "align_content": null,
            "align_items": null,
            "align_self": null,
            "border": null,
            "bottom": null,
            "display": null,
            "flex": null,
            "flex_flow": null,
            "grid_area": null,
            "grid_auto_columns": null,
            "grid_auto_flow": null,
            "grid_auto_rows": null,
            "grid_column": null,
            "grid_gap": null,
            "grid_row": null,
            "grid_template_areas": null,
            "grid_template_columns": null,
            "grid_template_rows": null,
            "height": null,
            "justify_content": null,
            "justify_items": null,
            "left": null,
            "margin": null,
            "max_height": null,
            "max_width": null,
            "min_height": null,
            "min_width": null,
            "object_fit": null,
            "object_position": null,
            "order": null,
            "overflow": null,
            "overflow_x": null,
            "overflow_y": null,
            "padding": null,
            "right": null,
            "top": null,
            "visibility": null,
            "width": null
          }
        },
        "5adc2bd24f444f64bbc0a1a91eacf9c4": {
          "model_module": "@jupyter-widgets/controls",
          "model_name": "ProgressStyleModel",
          "model_module_version": "1.5.0",
          "state": {
            "_model_module": "@jupyter-widgets/controls",
            "_model_module_version": "1.5.0",
            "_model_name": "ProgressStyleModel",
            "_view_count": null,
            "_view_module": "@jupyter-widgets/base",
            "_view_module_version": "1.2.0",
            "_view_name": "StyleView",
            "bar_color": null,
            "description_width": ""
          }
        },
        "54439031ef13421d8be80f69f9d2a9ad": {
          "model_module": "@jupyter-widgets/base",
          "model_name": "LayoutModel",
          "model_module_version": "1.2.0",
          "state": {
            "_model_module": "@jupyter-widgets/base",
            "_model_module_version": "1.2.0",
            "_model_name": "LayoutModel",
            "_view_count": null,
            "_view_module": "@jupyter-widgets/base",
            "_view_module_version": "1.2.0",
            "_view_name": "LayoutView",
            "align_content": null,
            "align_items": null,
            "align_self": null,
            "border": null,
            "bottom": null,
            "display": null,
            "flex": null,
            "flex_flow": null,
            "grid_area": null,
            "grid_auto_columns": null,
            "grid_auto_flow": null,
            "grid_auto_rows": null,
            "grid_column": null,
            "grid_gap": null,
            "grid_row": null,
            "grid_template_areas": null,
            "grid_template_columns": null,
            "grid_template_rows": null,
            "height": null,
            "justify_content": null,
            "justify_items": null,
            "left": null,
            "margin": null,
            "max_height": null,
            "max_width": null,
            "min_height": null,
            "min_width": null,
            "object_fit": null,
            "object_position": null,
            "order": null,
            "overflow": null,
            "overflow_x": null,
            "overflow_y": null,
            "padding": null,
            "right": null,
            "top": null,
            "visibility": null,
            "width": null
          }
        },
        "5005f60a3e314c56af8d7088b2cf1d7b": {
          "model_module": "@jupyter-widgets/controls",
          "model_name": "DescriptionStyleModel",
          "model_module_version": "1.5.0",
          "state": {
            "_model_module": "@jupyter-widgets/controls",
            "_model_module_version": "1.5.0",
            "_model_name": "DescriptionStyleModel",
            "_view_count": null,
            "_view_module": "@jupyter-widgets/base",
            "_view_module_version": "1.2.0",
            "_view_name": "StyleView",
            "description_width": ""
          }
        }
      }
    }
  },
  "nbformat": 4,
  "nbformat_minor": 0
}